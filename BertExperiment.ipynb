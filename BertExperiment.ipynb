{
 "cells": [
  {
   "cell_type": "code",
   "execution_count": 69,
   "metadata": {
    "collapsed": true
   },
   "outputs": [
    {
     "name": "stderr",
     "output_type": "stream",
     "text": [
      "Some weights of the model checkpoint at microsoft/BiomedNLP-PubMedBERT-base-uncased-abstract were not used when initializing BertModel: ['cls.seq_relationship.weight', 'cls.predictions.decoder.bias', 'cls.seq_relationship.bias', 'cls.predictions.bias', 'cls.predictions.transform.dense.weight', 'cls.predictions.decoder.weight', 'cls.predictions.transform.LayerNorm.weight', 'cls.predictions.transform.LayerNorm.bias', 'cls.predictions.transform.dense.bias']\n",
      "- This IS expected if you are initializing BertModel from the checkpoint of a model trained on another task or with another architecture (e.g. initializing a BertForSequenceClassification model from a BertForPreTraining model).\n",
      "- This IS NOT expected if you are initializing BertModel from the checkpoint of a model that you expect to be exactly identical (initializing a BertForSequenceClassification model from a BertForSequenceClassification model).\n"
     ]
    },
    {
     "name": "stdout",
     "output_type": "stream",
     "text": [
      "tensor([[    2,  1802,  3357,  ...,     0,     0,     0],\n",
      "        [    2,  2826,  2817,  ...,     0,     0,     0],\n",
      "        [    2, 16573, 10735,  ...,     0,     0,     0],\n",
      "        ...,\n",
      "        [    2,  2894,  5313,  ...,     0,     0,     0],\n",
      "        [    2,  3215,    16,  ...,     0,     0,     0],\n",
      "        [    2, 11685,  5305,  ...,     0,     0,     0]])\n",
      "tensor([[1, 1, 1,  ..., 0, 0, 0],\n",
      "        [1, 1, 1,  ..., 0, 0, 0],\n",
      "        [1, 1, 1,  ..., 0, 0, 0],\n",
      "        ...,\n",
      "        [1, 1, 1,  ..., 0, 0, 0],\n",
      "        [1, 1, 1,  ..., 0, 0, 0],\n",
      "        [1, 1, 1,  ..., 0, 0, 0]])\n"
     ]
    }
   ],
   "source": [
    "from transformers import AutoTokenizer, AutoModel\n",
    "import torch\n",
    "\n",
    "sentences = [\n",
    "    \"We investigate the performance of QuantiScale, a new multi-touch interaction technique for the quantification of distances in medical images and discuss the benefits and prospects of redesigning interactions with multi-touch devices. Taking advantage of the multi-touch capabilities, QuantiScale behaves like a tape measure, but automatically adjusts the view onto the measured object to improve precision and speed. The technique has been studied in a real-world scenario measuring the diameter of structures for the diagnostic reading of medical images and provides hints for the replacement of traditional mouse-based interaction with gestural interaction. Results of the quantitative evaluation indicate a high measurement precision particularly for small objects. Participants experienced QuantiScale as being more fun, natural, and intuitive in comparison to mouse-based interaction even though the subjective preference for speed and precision was still in favor of the mouse.\",\n",
    "    \"Brain MR images are one of the most important instruments for diagnosing neurological disorders such as tumors, infections or trauma. In particular, grade I-IV brain tumors are a well-studied subject for supervised deep learning approaches. However, for a clinical use of these approaches, a very large annotated database that covers all of the occurring variance is necessary. As MR scanners are not quantitative, it is unclear how good supervised approaches, trained on a specific database, will actually perform on a new set of images that may stem from a yet other scanner.\",\n",
    "    \"Neuroscientists investigate neural circuits in the brain of the common fruit fly Drosophila melanogaster to discover how complex behavior is generated. Hypothesis building on potential connections between individual neurons is an essential step in the discovery of circuits that govern a specific behavior. \",\n",
    "    \"Real-Time Visualization of 3D Amyloid-Beta Fibrils from 2D Cryo-EM Density Maps\",\n",
    "    \"The BundleExplorer: A Focus and Context Rendering Framework for Complex Fiber Distributions\",\n",
    "    \"Mammogram Classification and Abnormality Detection from Nonlocal Labels using Deep Multiple Instance Neural Network\",\n",
    "    \"Recent Advances in MRI and Ultrasound Perfusion Imaging\",\n",
    "    \"Molecular Sombreros: Abstract Visualization of Binding Sites within Proteins\",\n",
    "    \"CT-Based Navigation Guidance for Liver Tumor Ablation\",\n",
    "    \"Illustrated Ultrasound for Multimodal Data Interpretation of Liver Examinations\"]\n",
    "\n",
    "tokenizer = AutoTokenizer.from_pretrained(\"microsoft/BiomedNLP-PubMedBERT-base-uncased-abstract\")\n",
    "model = AutoModel.from_pretrained(\"microsoft/BiomedNLP-PubMedBERT-base-uncased-abstract\")\n",
    "input_ids = []\n",
    "attention_masks = []\n",
    "\n",
    "for sent in sentences:\n",
    "    inputs = tokenizer.encode_plus(\n",
    "        sent,  # Sentence to encode.\n",
    "        add_special_tokens=True,\n",
    "        padding='max_length',\n",
    "        max_length=512,\n",
    "        return_attention_mask=True,  # Construct attn. masks.\n",
    "        return_tensors='pt',  # Return pytorch tensors.\n",
    "    )\n",
    "\n",
    "    # Add the encoded sentence to the list.\n",
    "    input_ids.append(inputs['input_ids'])\n",
    "\n",
    "    # And its attention mask (simply differentiates padding from non-padding).\n",
    "    attention_masks.append(inputs['attention_mask'])\n",
    "\n",
    "input_ids = torch.cat(input_ids, dim=0)\n",
    "attention_masks = torch.cat(attention_masks, dim=0)\n",
    "\n",
    "print(input_ids)\n",
    "print(attention_masks)\n",
    "\n"
   ]
  },
  {
   "cell_type": "code",
   "execution_count": 73,
   "outputs": [
    {
     "name": "stdout",
     "output_type": "stream",
     "text": [
      "BaseModelOutputWithPoolingAndCrossAttentions(last_hidden_state=tensor([[[-4.3167e-01, -5.6587e-01, -4.9761e-01,  ...,  3.1688e-02,\n",
      "           6.5449e-01, -9.4807e-02],\n",
      "         [-5.8376e-01,  9.0268e-01,  4.7493e-01,  ..., -6.3690e-01,\n",
      "           5.4595e-01, -6.3757e-01],\n",
      "         [-8.3982e-01,  1.0161e+00,  5.5878e-02,  ..., -8.3432e-01,\n",
      "           1.2640e-01,  2.8915e-01],\n",
      "         ...,\n",
      "         [-1.5023e-01,  1.5020e-01, -2.2009e-01,  ...,  4.1392e-01,\n",
      "           1.9182e-01, -3.6286e-02],\n",
      "         [-1.5594e-01, -1.7931e-02,  1.3513e-01,  ...,  4.4648e-01,\n",
      "           1.8536e-01, -2.8775e-01],\n",
      "         [-3.1814e-02, -1.0040e-01, -1.0307e-03,  ...,  3.0099e-01,\n",
      "           3.2990e-01, -3.7890e-01]],\n",
      "\n",
      "        [[-7.1307e-01,  8.1360e-01,  3.1438e-01,  ..., -9.5665e-02,\n",
      "           3.2612e-01, -4.4256e-01],\n",
      "         [-4.1611e-01,  1.1066e+00,  7.8100e-01,  ..., -6.7798e-01,\n",
      "           9.2582e-01, -1.4066e-01],\n",
      "         [ 3.3041e-01,  1.0707e+00,  7.8344e-01,  ...,  4.6264e-01,\n",
      "          -7.7607e-01, -1.6421e-01],\n",
      "         ...,\n",
      "         [-2.0868e-01,  3.9114e-01,  6.5894e-01,  ...,  8.8730e-03,\n",
      "           5.4517e-02, -6.6236e-02],\n",
      "         [-2.4244e-01, -1.0853e-01,  4.1825e-01,  ...,  3.0106e-01,\n",
      "          -6.6285e-02, -5.4909e-01],\n",
      "         [-3.1858e-01,  4.5315e-01,  2.9050e-01,  ...,  1.1329e-01,\n",
      "          -4.8931e-01, -2.8372e-01]],\n",
      "\n",
      "        [[-1.1212e+00,  2.0376e-01, -2.3071e-01,  ..., -4.8135e-01,\n",
      "           8.4072e-01, -1.3782e-01],\n",
      "         [-7.4383e-01,  8.8601e-01, -1.0479e-02,  ...,  3.5393e-01,\n",
      "           1.1812e+00, -1.7814e-01],\n",
      "         [-6.7810e-01, -5.1771e-02,  3.3503e-01,  ..., -2.3613e-01,\n",
      "           1.1511e+00, -2.5582e-01],\n",
      "         ...,\n",
      "         [-4.5599e-01,  5.4825e-01,  4.8771e-01,  ...,  3.6240e-01,\n",
      "           4.2593e-01,  5.5978e-02],\n",
      "         [-1.5524e-01,  2.5801e-01,  1.1830e-01,  ...,  9.2307e-02,\n",
      "           5.6785e-01, -2.8879e-03],\n",
      "         [-3.7578e-01,  1.9986e-01, -2.4618e-01,  ..., -2.3651e-01,\n",
      "           4.3707e-01, -4.1496e-01]],\n",
      "\n",
      "        ...,\n",
      "\n",
      "        [[-5.4333e-01,  6.0314e-01,  1.3416e+00,  ...,  2.6310e-02,\n",
      "          -7.2301e-01,  5.7863e-01],\n",
      "         [-3.6720e-01,  5.3807e-01,  8.5869e-01,  ..., -4.2323e-02,\n",
      "          -4.1686e-01,  4.5740e-01],\n",
      "         [-1.1288e+00,  2.3276e-01,  4.8474e-01,  ...,  2.8335e-01,\n",
      "          -8.0549e-01,  9.5172e-02],\n",
      "         ...,\n",
      "         [-1.1492e-01,  2.4987e-01,  7.0290e-01,  ...,  1.6803e-01,\n",
      "          -2.7843e-01,  3.6136e-01],\n",
      "         [-4.0481e-01,  2.9239e-01,  3.8931e-01,  ...,  2.6078e-02,\n",
      "          -1.6428e-01,  2.7646e-01],\n",
      "         [-4.2247e-01,  9.8212e-02,  4.4656e-01,  ...,  1.6462e-01,\n",
      "          -2.7964e-01,  4.6835e-01]],\n",
      "\n",
      "        [[-1.8008e+00,  7.1370e-01,  6.3932e-01,  ...,  3.5520e-01,\n",
      "           8.9407e-01, -2.4084e-01],\n",
      "         [-4.4722e-01,  5.5550e-02,  9.0472e-01,  ...,  1.6651e-01,\n",
      "           4.0407e-01, -1.0097e-02],\n",
      "         [-1.3780e+00,  4.5199e-01,  1.0435e+00,  ..., -2.5060e-02,\n",
      "           9.0149e-01, -6.7644e-01],\n",
      "         ...,\n",
      "         [-8.5210e-01,  3.6032e-02,  8.0512e-02,  ..., -6.5197e-02,\n",
      "           5.7188e-01,  7.3095e-02],\n",
      "         [-8.2590e-01,  3.1360e-01,  3.3526e-01,  ...,  3.4573e-01,\n",
      "           3.2359e-01, -2.3537e-01],\n",
      "         [-1.1376e+00,  4.4930e-01,  1.0747e-02,  ...,  2.1305e-01,\n",
      "           5.2650e-01, -9.3418e-02]],\n",
      "\n",
      "        [[-6.0165e-01, -2.1589e-01,  7.5659e-01,  ...,  5.9222e-01,\n",
      "           6.0524e-01,  3.3440e-01],\n",
      "         [-4.7014e-01, -8.3248e-02,  4.0149e-01,  ...,  4.3373e-01,\n",
      "          -1.8284e-01,  2.9434e-01],\n",
      "         [-4.3120e-01, -2.1367e-01,  9.2596e-02,  ...,  1.4947e-01,\n",
      "          -6.9453e-01,  9.3769e-02],\n",
      "         ...,\n",
      "         [-2.1464e-01,  2.9937e-02,  6.0078e-02,  ...,  2.0695e-01,\n",
      "          -9.1722e-02,  5.6428e-02],\n",
      "         [-5.2487e-01,  1.3144e-01,  1.5052e-01,  ..., -9.9509e-02,\n",
      "           2.8796e-01,  1.9189e-01],\n",
      "         [-1.0434e+00,  6.4774e-02,  3.0440e-01,  ..., -8.0718e-02,\n",
      "           2.2570e-01, -1.6189e-01]]], grad_fn=<NativeLayerNormBackward0>), pooler_output=tensor([[-0.0760,  0.4820, -0.9996,  ..., -0.2717,  0.7685, -0.2439],\n",
      "        [ 0.9816,  0.1887, -0.7039,  ...,  0.0498, -0.0088, -0.0274],\n",
      "        [ 0.9670, -0.2556, -0.0619,  ...,  0.1314, -0.8576, -0.0601],\n",
      "        ...,\n",
      "        [ 0.9914, -0.4443,  0.8258,  ..., -0.1868, -0.6572, -0.1247],\n",
      "        [ 0.9993, -0.4561,  0.9899,  ...,  0.0481, -0.3498,  0.0167],\n",
      "        [ 0.9949, -0.2790,  0.5694,  ...,  0.0480, -0.0714, -0.0742]],\n",
      "       grad_fn=<TanhBackward0>), hidden_states=None, past_key_values=None, attentions=None, cross_attentions=None)\n",
      "'\n",
      "tensor([[-0.0760,  0.4820, -0.9996,  ..., -0.2717,  0.7685, -0.2439],\n",
      "        [ 0.9816,  0.1887, -0.7039,  ...,  0.0498, -0.0088, -0.0274],\n",
      "        [ 0.9670, -0.2556, -0.0619,  ...,  0.1314, -0.8576, -0.0601],\n",
      "        ...,\n",
      "        [ 0.9914, -0.4443,  0.8258,  ..., -0.1868, -0.6572, -0.1247],\n",
      "        [ 0.9993, -0.4561,  0.9899,  ...,  0.0481, -0.3498,  0.0167],\n",
      "        [ 0.9949, -0.2790,  0.5694,  ...,  0.0480, -0.0714, -0.0742]],\n",
      "       grad_fn=<TanhBackward0>)\n"
     ]
    }
   ],
   "source": [
    "outputs = model(input_ids, attention_masks)\n",
    "print(outputs)\n",
    "hidden_states = outputs[1]\n",
    "print(\"'\")\n",
    "print(hidden_states)\n",
    "hidden_states = hidden_states.detach().numpy()"
   ],
   "metadata": {
    "collapsed": false,
    "pycharm": {
     "name": "#%%\n"
    }
   }
  },
  {
   "cell_type": "code",
   "execution_count": 74,
   "outputs": [],
   "source": [
    "from umap import UMAP\n",
    "\n",
    "umap_embeddings = UMAP(n_neighbors=5, n_components=2, metric='cosine', random_state=42)\n",
    "new_values = umap_embeddings.fit_transform(hidden_states)"
   ],
   "metadata": {
    "collapsed": false,
    "pycharm": {
     "name": "#%%\n"
    }
   }
  },
  {
   "cell_type": "code",
   "execution_count": 75,
   "outputs": [
    {
     "data": {
      "application/vnd.plotly.v1+json": {
       "data": [
        {
         "hovertemplate": "<b>%{hovertext}</b><br><br>0=%{x}<br>1=%{y}<extra></extra>",
         "hovertext": [
          "We investigate the performance of QuantiScale, a new multi-touch interaction technique for the quantification of distances in medical images and discuss the benefits and prospects of redesigning interactions with multi-touch devices. Taking advantage of the multi-touch capabilities, QuantiScale behaves like a tape measure, but automatically adjusts the view onto the measured object to improve precision and speed. The technique has been studied in a real-world scenario measuring the diameter of structures for the diagnostic reading of medical images and provides hints for the replacement of traditional mouse-based interaction with gestural interaction. Results of the quantitative evaluation indicate a high measurement precision particularly for small objects. Participants experienced QuantiScale as being more fun, natural, and intuitive in comparison to mouse-based interaction even though the subjective preference for speed and precision was still in favor of the mouse.",
          "Brain MR images are one of the most important instruments for diagnosing neurological disorders such as tumors, infections or trauma. In particular, grade I-IV brain tumors are a well-studied subject for supervised deep learning approaches. However, for a clinical use of these approaches, a very large annotated database that covers all of the occurring variance is necessary. As MR scanners are not quantitative, it is unclear how good supervised approaches, trained on a specific database, will actually perform on a new set of images that may stem from a yet other scanner.",
          "Neuroscientists investigate neural circuits in the brain of the common fruit fly Drosophila melanogaster to discover how complex behavior is generated. Hypothesis building on potential connections between individual neurons is an essential step in the discovery of circuits that govern a specific behavior. ",
          "Real-Time Visualization of 3D Amyloid-Beta Fibrils from 2D Cryo-EM Density Maps",
          "The BundleExplorer: A Focus and Context Rendering Framework for Complex Fiber Distributions",
          "Mammogram Classification and Abnormality Detection from Nonlocal Labels using Deep Multiple Instance Neural Network",
          "Recent Advances in MRI and Ultrasound Perfusion Imaging",
          "Molecular Sombreros: Abstract Visualization of Binding Sites within Proteins",
          "CT-Based Navigation Guidance for Liver Tumor Ablation",
          "Illustrated Ultrasound for Multimodal Data Interpretation of Liver Examinations"
         ],
         "legendgroup": "",
         "marker": {
          "color": "#636efa",
          "opacity": 1,
          "symbol": "circle"
         },
         "mode": "markers",
         "name": "",
         "orientation": "v",
         "showlegend": false,
         "x": [
          6.517616271972656,
          6.342267036437988,
          7.005070209503174,
          8.531661033630371,
          9.066446304321289,
          7.796082019805908,
          9.332130432128906,
          9.566472053527832,
          8.813021659851074,
          9.59852123260498
         ],
         "xaxis": "x",
         "y": [
          -2.5061092376708984,
          -1.7911146879196167,
          -1.7954002618789673,
          -2.0596559047698975,
          -1.5915486812591553,
          -2.19970440864563,
          -3.438815116882324,
          -1.918344497680664,
          -2.9573724269866943,
          -2.727339744567871
         ],
         "yaxis": "y",
         "type": "scatter"
        }
       ],
       "layout": {
        "template": {
         "data": {
          "bar": [
           {
            "error_x": {
             "color": "#2a3f5f"
            },
            "error_y": {
             "color": "#2a3f5f"
            },
            "marker": {
             "line": {
              "color": "#E5ECF6",
              "width": 0.5
             },
             "pattern": {
              "fillmode": "overlay",
              "size": 10,
              "solidity": 0.2
             }
            },
            "type": "bar"
           }
          ],
          "barpolar": [
           {
            "marker": {
             "line": {
              "color": "#E5ECF6",
              "width": 0.5
             },
             "pattern": {
              "fillmode": "overlay",
              "size": 10,
              "solidity": 0.2
             }
            },
            "type": "barpolar"
           }
          ],
          "carpet": [
           {
            "aaxis": {
             "endlinecolor": "#2a3f5f",
             "gridcolor": "white",
             "linecolor": "white",
             "minorgridcolor": "white",
             "startlinecolor": "#2a3f5f"
            },
            "baxis": {
             "endlinecolor": "#2a3f5f",
             "gridcolor": "white",
             "linecolor": "white",
             "minorgridcolor": "white",
             "startlinecolor": "#2a3f5f"
            },
            "type": "carpet"
           }
          ],
          "choropleth": [
           {
            "colorbar": {
             "outlinewidth": 0,
             "ticks": ""
            },
            "type": "choropleth"
           }
          ],
          "contour": [
           {
            "colorbar": {
             "outlinewidth": 0,
             "ticks": ""
            },
            "colorscale": [
             [
              0.0,
              "#0d0887"
             ],
             [
              0.1111111111111111,
              "#46039f"
             ],
             [
              0.2222222222222222,
              "#7201a8"
             ],
             [
              0.3333333333333333,
              "#9c179e"
             ],
             [
              0.4444444444444444,
              "#bd3786"
             ],
             [
              0.5555555555555556,
              "#d8576b"
             ],
             [
              0.6666666666666666,
              "#ed7953"
             ],
             [
              0.7777777777777778,
              "#fb9f3a"
             ],
             [
              0.8888888888888888,
              "#fdca26"
             ],
             [
              1.0,
              "#f0f921"
             ]
            ],
            "type": "contour"
           }
          ],
          "contourcarpet": [
           {
            "colorbar": {
             "outlinewidth": 0,
             "ticks": ""
            },
            "type": "contourcarpet"
           }
          ],
          "heatmap": [
           {
            "colorbar": {
             "outlinewidth": 0,
             "ticks": ""
            },
            "colorscale": [
             [
              0.0,
              "#0d0887"
             ],
             [
              0.1111111111111111,
              "#46039f"
             ],
             [
              0.2222222222222222,
              "#7201a8"
             ],
             [
              0.3333333333333333,
              "#9c179e"
             ],
             [
              0.4444444444444444,
              "#bd3786"
             ],
             [
              0.5555555555555556,
              "#d8576b"
             ],
             [
              0.6666666666666666,
              "#ed7953"
             ],
             [
              0.7777777777777778,
              "#fb9f3a"
             ],
             [
              0.8888888888888888,
              "#fdca26"
             ],
             [
              1.0,
              "#f0f921"
             ]
            ],
            "type": "heatmap"
           }
          ],
          "heatmapgl": [
           {
            "colorbar": {
             "outlinewidth": 0,
             "ticks": ""
            },
            "colorscale": [
             [
              0.0,
              "#0d0887"
             ],
             [
              0.1111111111111111,
              "#46039f"
             ],
             [
              0.2222222222222222,
              "#7201a8"
             ],
             [
              0.3333333333333333,
              "#9c179e"
             ],
             [
              0.4444444444444444,
              "#bd3786"
             ],
             [
              0.5555555555555556,
              "#d8576b"
             ],
             [
              0.6666666666666666,
              "#ed7953"
             ],
             [
              0.7777777777777778,
              "#fb9f3a"
             ],
             [
              0.8888888888888888,
              "#fdca26"
             ],
             [
              1.0,
              "#f0f921"
             ]
            ],
            "type": "heatmapgl"
           }
          ],
          "histogram": [
           {
            "marker": {
             "pattern": {
              "fillmode": "overlay",
              "size": 10,
              "solidity": 0.2
             }
            },
            "type": "histogram"
           }
          ],
          "histogram2d": [
           {
            "colorbar": {
             "outlinewidth": 0,
             "ticks": ""
            },
            "colorscale": [
             [
              0.0,
              "#0d0887"
             ],
             [
              0.1111111111111111,
              "#46039f"
             ],
             [
              0.2222222222222222,
              "#7201a8"
             ],
             [
              0.3333333333333333,
              "#9c179e"
             ],
             [
              0.4444444444444444,
              "#bd3786"
             ],
             [
              0.5555555555555556,
              "#d8576b"
             ],
             [
              0.6666666666666666,
              "#ed7953"
             ],
             [
              0.7777777777777778,
              "#fb9f3a"
             ],
             [
              0.8888888888888888,
              "#fdca26"
             ],
             [
              1.0,
              "#f0f921"
             ]
            ],
            "type": "histogram2d"
           }
          ],
          "histogram2dcontour": [
           {
            "colorbar": {
             "outlinewidth": 0,
             "ticks": ""
            },
            "colorscale": [
             [
              0.0,
              "#0d0887"
             ],
             [
              0.1111111111111111,
              "#46039f"
             ],
             [
              0.2222222222222222,
              "#7201a8"
             ],
             [
              0.3333333333333333,
              "#9c179e"
             ],
             [
              0.4444444444444444,
              "#bd3786"
             ],
             [
              0.5555555555555556,
              "#d8576b"
             ],
             [
              0.6666666666666666,
              "#ed7953"
             ],
             [
              0.7777777777777778,
              "#fb9f3a"
             ],
             [
              0.8888888888888888,
              "#fdca26"
             ],
             [
              1.0,
              "#f0f921"
             ]
            ],
            "type": "histogram2dcontour"
           }
          ],
          "mesh3d": [
           {
            "colorbar": {
             "outlinewidth": 0,
             "ticks": ""
            },
            "type": "mesh3d"
           }
          ],
          "parcoords": [
           {
            "line": {
             "colorbar": {
              "outlinewidth": 0,
              "ticks": ""
             }
            },
            "type": "parcoords"
           }
          ],
          "pie": [
           {
            "automargin": true,
            "type": "pie"
           }
          ],
          "scatter": [
           {
            "marker": {
             "colorbar": {
              "outlinewidth": 0,
              "ticks": ""
             }
            },
            "type": "scatter"
           }
          ],
          "scatter3d": [
           {
            "line": {
             "colorbar": {
              "outlinewidth": 0,
              "ticks": ""
             }
            },
            "marker": {
             "colorbar": {
              "outlinewidth": 0,
              "ticks": ""
             }
            },
            "type": "scatter3d"
           }
          ],
          "scattercarpet": [
           {
            "marker": {
             "colorbar": {
              "outlinewidth": 0,
              "ticks": ""
             }
            },
            "type": "scattercarpet"
           }
          ],
          "scattergeo": [
           {
            "marker": {
             "colorbar": {
              "outlinewidth": 0,
              "ticks": ""
             }
            },
            "type": "scattergeo"
           }
          ],
          "scattergl": [
           {
            "marker": {
             "colorbar": {
              "outlinewidth": 0,
              "ticks": ""
             }
            },
            "type": "scattergl"
           }
          ],
          "scattermapbox": [
           {
            "marker": {
             "colorbar": {
              "outlinewidth": 0,
              "ticks": ""
             }
            },
            "type": "scattermapbox"
           }
          ],
          "scatterpolar": [
           {
            "marker": {
             "colorbar": {
              "outlinewidth": 0,
              "ticks": ""
             }
            },
            "type": "scatterpolar"
           }
          ],
          "scatterpolargl": [
           {
            "marker": {
             "colorbar": {
              "outlinewidth": 0,
              "ticks": ""
             }
            },
            "type": "scatterpolargl"
           }
          ],
          "scatterternary": [
           {
            "marker": {
             "colorbar": {
              "outlinewidth": 0,
              "ticks": ""
             }
            },
            "type": "scatterternary"
           }
          ],
          "surface": [
           {
            "colorbar": {
             "outlinewidth": 0,
             "ticks": ""
            },
            "colorscale": [
             [
              0.0,
              "#0d0887"
             ],
             [
              0.1111111111111111,
              "#46039f"
             ],
             [
              0.2222222222222222,
              "#7201a8"
             ],
             [
              0.3333333333333333,
              "#9c179e"
             ],
             [
              0.4444444444444444,
              "#bd3786"
             ],
             [
              0.5555555555555556,
              "#d8576b"
             ],
             [
              0.6666666666666666,
              "#ed7953"
             ],
             [
              0.7777777777777778,
              "#fb9f3a"
             ],
             [
              0.8888888888888888,
              "#fdca26"
             ],
             [
              1.0,
              "#f0f921"
             ]
            ],
            "type": "surface"
           }
          ],
          "table": [
           {
            "cells": {
             "fill": {
              "color": "#EBF0F8"
             },
             "line": {
              "color": "white"
             }
            },
            "header": {
             "fill": {
              "color": "#C8D4E3"
             },
             "line": {
              "color": "white"
             }
            },
            "type": "table"
           }
          ]
         },
         "layout": {
          "annotationdefaults": {
           "arrowcolor": "#2a3f5f",
           "arrowhead": 0,
           "arrowwidth": 1
          },
          "autotypenumbers": "strict",
          "coloraxis": {
           "colorbar": {
            "outlinewidth": 0,
            "ticks": ""
           }
          },
          "colorscale": {
           "diverging": [
            [
             0,
             "#8e0152"
            ],
            [
             0.1,
             "#c51b7d"
            ],
            [
             0.2,
             "#de77ae"
            ],
            [
             0.3,
             "#f1b6da"
            ],
            [
             0.4,
             "#fde0ef"
            ],
            [
             0.5,
             "#f7f7f7"
            ],
            [
             0.6,
             "#e6f5d0"
            ],
            [
             0.7,
             "#b8e186"
            ],
            [
             0.8,
             "#7fbc41"
            ],
            [
             0.9,
             "#4d9221"
            ],
            [
             1,
             "#276419"
            ]
           ],
           "sequential": [
            [
             0.0,
             "#0d0887"
            ],
            [
             0.1111111111111111,
             "#46039f"
            ],
            [
             0.2222222222222222,
             "#7201a8"
            ],
            [
             0.3333333333333333,
             "#9c179e"
            ],
            [
             0.4444444444444444,
             "#bd3786"
            ],
            [
             0.5555555555555556,
             "#d8576b"
            ],
            [
             0.6666666666666666,
             "#ed7953"
            ],
            [
             0.7777777777777778,
             "#fb9f3a"
            ],
            [
             0.8888888888888888,
             "#fdca26"
            ],
            [
             1.0,
             "#f0f921"
            ]
           ],
           "sequentialminus": [
            [
             0.0,
             "#0d0887"
            ],
            [
             0.1111111111111111,
             "#46039f"
            ],
            [
             0.2222222222222222,
             "#7201a8"
            ],
            [
             0.3333333333333333,
             "#9c179e"
            ],
            [
             0.4444444444444444,
             "#bd3786"
            ],
            [
             0.5555555555555556,
             "#d8576b"
            ],
            [
             0.6666666666666666,
             "#ed7953"
            ],
            [
             0.7777777777777778,
             "#fb9f3a"
            ],
            [
             0.8888888888888888,
             "#fdca26"
            ],
            [
             1.0,
             "#f0f921"
            ]
           ]
          },
          "colorway": [
           "#636efa",
           "#EF553B",
           "#00cc96",
           "#ab63fa",
           "#FFA15A",
           "#19d3f3",
           "#FF6692",
           "#B6E880",
           "#FF97FF",
           "#FECB52"
          ],
          "font": {
           "color": "#2a3f5f"
          },
          "geo": {
           "bgcolor": "white",
           "lakecolor": "white",
           "landcolor": "#E5ECF6",
           "showlakes": true,
           "showland": true,
           "subunitcolor": "white"
          },
          "hoverlabel": {
           "align": "left"
          },
          "hovermode": "closest",
          "mapbox": {
           "style": "light"
          },
          "paper_bgcolor": "white",
          "plot_bgcolor": "#E5ECF6",
          "polar": {
           "angularaxis": {
            "gridcolor": "white",
            "linecolor": "white",
            "ticks": ""
           },
           "bgcolor": "#E5ECF6",
           "radialaxis": {
            "gridcolor": "white",
            "linecolor": "white",
            "ticks": ""
           }
          },
          "scene": {
           "xaxis": {
            "backgroundcolor": "#E5ECF6",
            "gridcolor": "white",
            "gridwidth": 2,
            "linecolor": "white",
            "showbackground": true,
            "ticks": "",
            "zerolinecolor": "white"
           },
           "yaxis": {
            "backgroundcolor": "#E5ECF6",
            "gridcolor": "white",
            "gridwidth": 2,
            "linecolor": "white",
            "showbackground": true,
            "ticks": "",
            "zerolinecolor": "white"
           },
           "zaxis": {
            "backgroundcolor": "#E5ECF6",
            "gridcolor": "white",
            "gridwidth": 2,
            "linecolor": "white",
            "showbackground": true,
            "ticks": "",
            "zerolinecolor": "white"
           }
          },
          "shapedefaults": {
           "line": {
            "color": "#2a3f5f"
           }
          },
          "ternary": {
           "aaxis": {
            "gridcolor": "white",
            "linecolor": "white",
            "ticks": ""
           },
           "baxis": {
            "gridcolor": "white",
            "linecolor": "white",
            "ticks": ""
           },
           "bgcolor": "#E5ECF6",
           "caxis": {
            "gridcolor": "white",
            "linecolor": "white",
            "ticks": ""
           }
          },
          "title": {
           "x": 0.05
          },
          "xaxis": {
           "automargin": true,
           "gridcolor": "white",
           "linecolor": "white",
           "ticks": "",
           "title": {
            "standoff": 15
           },
           "zerolinecolor": "white",
           "zerolinewidth": 2
          },
          "yaxis": {
           "automargin": true,
           "gridcolor": "white",
           "linecolor": "white",
           "ticks": "",
           "title": {
            "standoff": 15
           },
           "zerolinecolor": "white",
           "zerolinewidth": 2
          }
         }
        },
        "xaxis": {
         "anchor": "y",
         "domain": [
          0.0,
          1.0
         ],
         "title": {
          "text": "0"
         }
        },
        "yaxis": {
         "anchor": "x",
         "domain": [
          0.0,
          1.0
         ],
         "title": {
          "text": "1"
         }
        },
        "legend": {
         "tracegroupgap": 0
        },
        "margin": {
         "t": 60
        }
       },
       "config": {
        "plotlyServerURL": "https://plot.ly"
       }
      },
      "text/html": "<div>                            <div id=\"eb99ff2a-a1dd-4451-a8d8-0610e8e48f7d\" class=\"plotly-graph-div\" style=\"height:525px; width:100%;\"></div>            <script type=\"text/javascript\">                require([\"plotly\"], function(Plotly) {                    window.PLOTLYENV=window.PLOTLYENV || {};                                    if (document.getElementById(\"eb99ff2a-a1dd-4451-a8d8-0610e8e48f7d\")) {                    Plotly.newPlot(                        \"eb99ff2a-a1dd-4451-a8d8-0610e8e48f7d\",                        [{\"hovertemplate\":\"<b>%{hovertext}</b><br><br>0=%{x}<br>1=%{y}<extra></extra>\",\"hovertext\":[\"We investigate the performance of QuantiScale, a new multi-touch interaction technique for the quantification of distances in medical images and discuss the benefits and prospects of redesigning interactions with multi-touch devices. Taking advantage of the multi-touch capabilities, QuantiScale behaves like a tape measure, but automatically adjusts the view onto the measured object to improve precision and speed. The technique has been studied in a real-world scenario measuring the diameter of structures for the diagnostic reading of medical images and provides hints for the replacement of traditional mouse-based interaction with gestural interaction. Results of the quantitative evaluation indicate a high measurement precision particularly for small objects. Participants experienced QuantiScale as being more fun, natural, and intuitive in comparison to mouse-based interaction even though the subjective preference for speed and precision was still in favor of the mouse.\",\"Brain MR images are one of the most important instruments for diagnosing neurological disorders such as tumors, infections or trauma. In particular, grade I-IV brain tumors are a well-studied subject for supervised deep learning approaches. However, for a clinical use of these approaches, a very large annotated database that covers all of the occurring variance is necessary. As MR scanners are not quantitative, it is unclear how good supervised approaches, trained on a specific database, will actually perform on a new set of images that may stem from a yet other scanner.\",\"Neuroscientists investigate neural circuits in the brain of the common fruit fly Drosophila melanogaster to discover how complex behavior is generated. Hypothesis building on potential connections between individual neurons is an essential step in the discovery of circuits that govern a specific behavior. \",\"Real-Time Visualization of 3D Amyloid-Beta Fibrils from 2D Cryo-EM Density Maps\",\"The BundleExplorer: A Focus and Context Rendering Framework for Complex Fiber Distributions\",\"Mammogram Classification and Abnormality Detection from Nonlocal Labels using Deep Multiple Instance Neural Network\",\"Recent Advances in MRI and Ultrasound Perfusion Imaging\",\"Molecular Sombreros: Abstract Visualization of Binding Sites within Proteins\",\"CT-Based Navigation Guidance for Liver Tumor Ablation\",\"Illustrated Ultrasound for Multimodal Data Interpretation of Liver Examinations\"],\"legendgroup\":\"\",\"marker\":{\"color\":\"#636efa\",\"opacity\":1,\"symbol\":\"circle\"},\"mode\":\"markers\",\"name\":\"\",\"orientation\":\"v\",\"showlegend\":false,\"x\":[6.517616271972656,6.342267036437988,7.005070209503174,8.531661033630371,9.066446304321289,7.796082019805908,9.332130432128906,9.566472053527832,8.813021659851074,9.59852123260498],\"xaxis\":\"x\",\"y\":[-2.5061092376708984,-1.7911146879196167,-1.7954002618789673,-2.0596559047698975,-1.5915486812591553,-2.19970440864563,-3.438815116882324,-1.918344497680664,-2.9573724269866943,-2.727339744567871],\"yaxis\":\"y\",\"type\":\"scatter\"}],                        {\"template\":{\"data\":{\"bar\":[{\"error_x\":{\"color\":\"#2a3f5f\"},\"error_y\":{\"color\":\"#2a3f5f\"},\"marker\":{\"line\":{\"color\":\"#E5ECF6\",\"width\":0.5},\"pattern\":{\"fillmode\":\"overlay\",\"size\":10,\"solidity\":0.2}},\"type\":\"bar\"}],\"barpolar\":[{\"marker\":{\"line\":{\"color\":\"#E5ECF6\",\"width\":0.5},\"pattern\":{\"fillmode\":\"overlay\",\"size\":10,\"solidity\":0.2}},\"type\":\"barpolar\"}],\"carpet\":[{\"aaxis\":{\"endlinecolor\":\"#2a3f5f\",\"gridcolor\":\"white\",\"linecolor\":\"white\",\"minorgridcolor\":\"white\",\"startlinecolor\":\"#2a3f5f\"},\"baxis\":{\"endlinecolor\":\"#2a3f5f\",\"gridcolor\":\"white\",\"linecolor\":\"white\",\"minorgridcolor\":\"white\",\"startlinecolor\":\"#2a3f5f\"},\"type\":\"carpet\"}],\"choropleth\":[{\"colorbar\":{\"outlinewidth\":0,\"ticks\":\"\"},\"type\":\"choropleth\"}],\"contour\":[{\"colorbar\":{\"outlinewidth\":0,\"ticks\":\"\"},\"colorscale\":[[0.0,\"#0d0887\"],[0.1111111111111111,\"#46039f\"],[0.2222222222222222,\"#7201a8\"],[0.3333333333333333,\"#9c179e\"],[0.4444444444444444,\"#bd3786\"],[0.5555555555555556,\"#d8576b\"],[0.6666666666666666,\"#ed7953\"],[0.7777777777777778,\"#fb9f3a\"],[0.8888888888888888,\"#fdca26\"],[1.0,\"#f0f921\"]],\"type\":\"contour\"}],\"contourcarpet\":[{\"colorbar\":{\"outlinewidth\":0,\"ticks\":\"\"},\"type\":\"contourcarpet\"}],\"heatmap\":[{\"colorbar\":{\"outlinewidth\":0,\"ticks\":\"\"},\"colorscale\":[[0.0,\"#0d0887\"],[0.1111111111111111,\"#46039f\"],[0.2222222222222222,\"#7201a8\"],[0.3333333333333333,\"#9c179e\"],[0.4444444444444444,\"#bd3786\"],[0.5555555555555556,\"#d8576b\"],[0.6666666666666666,\"#ed7953\"],[0.7777777777777778,\"#fb9f3a\"],[0.8888888888888888,\"#fdca26\"],[1.0,\"#f0f921\"]],\"type\":\"heatmap\"}],\"heatmapgl\":[{\"colorbar\":{\"outlinewidth\":0,\"ticks\":\"\"},\"colorscale\":[[0.0,\"#0d0887\"],[0.1111111111111111,\"#46039f\"],[0.2222222222222222,\"#7201a8\"],[0.3333333333333333,\"#9c179e\"],[0.4444444444444444,\"#bd3786\"],[0.5555555555555556,\"#d8576b\"],[0.6666666666666666,\"#ed7953\"],[0.7777777777777778,\"#fb9f3a\"],[0.8888888888888888,\"#fdca26\"],[1.0,\"#f0f921\"]],\"type\":\"heatmapgl\"}],\"histogram\":[{\"marker\":{\"pattern\":{\"fillmode\":\"overlay\",\"size\":10,\"solidity\":0.2}},\"type\":\"histogram\"}],\"histogram2d\":[{\"colorbar\":{\"outlinewidth\":0,\"ticks\":\"\"},\"colorscale\":[[0.0,\"#0d0887\"],[0.1111111111111111,\"#46039f\"],[0.2222222222222222,\"#7201a8\"],[0.3333333333333333,\"#9c179e\"],[0.4444444444444444,\"#bd3786\"],[0.5555555555555556,\"#d8576b\"],[0.6666666666666666,\"#ed7953\"],[0.7777777777777778,\"#fb9f3a\"],[0.8888888888888888,\"#fdca26\"],[1.0,\"#f0f921\"]],\"type\":\"histogram2d\"}],\"histogram2dcontour\":[{\"colorbar\":{\"outlinewidth\":0,\"ticks\":\"\"},\"colorscale\":[[0.0,\"#0d0887\"],[0.1111111111111111,\"#46039f\"],[0.2222222222222222,\"#7201a8\"],[0.3333333333333333,\"#9c179e\"],[0.4444444444444444,\"#bd3786\"],[0.5555555555555556,\"#d8576b\"],[0.6666666666666666,\"#ed7953\"],[0.7777777777777778,\"#fb9f3a\"],[0.8888888888888888,\"#fdca26\"],[1.0,\"#f0f921\"]],\"type\":\"histogram2dcontour\"}],\"mesh3d\":[{\"colorbar\":{\"outlinewidth\":0,\"ticks\":\"\"},\"type\":\"mesh3d\"}],\"parcoords\":[{\"line\":{\"colorbar\":{\"outlinewidth\":0,\"ticks\":\"\"}},\"type\":\"parcoords\"}],\"pie\":[{\"automargin\":true,\"type\":\"pie\"}],\"scatter\":[{\"marker\":{\"colorbar\":{\"outlinewidth\":0,\"ticks\":\"\"}},\"type\":\"scatter\"}],\"scatter3d\":[{\"line\":{\"colorbar\":{\"outlinewidth\":0,\"ticks\":\"\"}},\"marker\":{\"colorbar\":{\"outlinewidth\":0,\"ticks\":\"\"}},\"type\":\"scatter3d\"}],\"scattercarpet\":[{\"marker\":{\"colorbar\":{\"outlinewidth\":0,\"ticks\":\"\"}},\"type\":\"scattercarpet\"}],\"scattergeo\":[{\"marker\":{\"colorbar\":{\"outlinewidth\":0,\"ticks\":\"\"}},\"type\":\"scattergeo\"}],\"scattergl\":[{\"marker\":{\"colorbar\":{\"outlinewidth\":0,\"ticks\":\"\"}},\"type\":\"scattergl\"}],\"scattermapbox\":[{\"marker\":{\"colorbar\":{\"outlinewidth\":0,\"ticks\":\"\"}},\"type\":\"scattermapbox\"}],\"scatterpolar\":[{\"marker\":{\"colorbar\":{\"outlinewidth\":0,\"ticks\":\"\"}},\"type\":\"scatterpolar\"}],\"scatterpolargl\":[{\"marker\":{\"colorbar\":{\"outlinewidth\":0,\"ticks\":\"\"}},\"type\":\"scatterpolargl\"}],\"scatterternary\":[{\"marker\":{\"colorbar\":{\"outlinewidth\":0,\"ticks\":\"\"}},\"type\":\"scatterternary\"}],\"surface\":[{\"colorbar\":{\"outlinewidth\":0,\"ticks\":\"\"},\"colorscale\":[[0.0,\"#0d0887\"],[0.1111111111111111,\"#46039f\"],[0.2222222222222222,\"#7201a8\"],[0.3333333333333333,\"#9c179e\"],[0.4444444444444444,\"#bd3786\"],[0.5555555555555556,\"#d8576b\"],[0.6666666666666666,\"#ed7953\"],[0.7777777777777778,\"#fb9f3a\"],[0.8888888888888888,\"#fdca26\"],[1.0,\"#f0f921\"]],\"type\":\"surface\"}],\"table\":[{\"cells\":{\"fill\":{\"color\":\"#EBF0F8\"},\"line\":{\"color\":\"white\"}},\"header\":{\"fill\":{\"color\":\"#C8D4E3\"},\"line\":{\"color\":\"white\"}},\"type\":\"table\"}]},\"layout\":{\"annotationdefaults\":{\"arrowcolor\":\"#2a3f5f\",\"arrowhead\":0,\"arrowwidth\":1},\"autotypenumbers\":\"strict\",\"coloraxis\":{\"colorbar\":{\"outlinewidth\":0,\"ticks\":\"\"}},\"colorscale\":{\"diverging\":[[0,\"#8e0152\"],[0.1,\"#c51b7d\"],[0.2,\"#de77ae\"],[0.3,\"#f1b6da\"],[0.4,\"#fde0ef\"],[0.5,\"#f7f7f7\"],[0.6,\"#e6f5d0\"],[0.7,\"#b8e186\"],[0.8,\"#7fbc41\"],[0.9,\"#4d9221\"],[1,\"#276419\"]],\"sequential\":[[0.0,\"#0d0887\"],[0.1111111111111111,\"#46039f\"],[0.2222222222222222,\"#7201a8\"],[0.3333333333333333,\"#9c179e\"],[0.4444444444444444,\"#bd3786\"],[0.5555555555555556,\"#d8576b\"],[0.6666666666666666,\"#ed7953\"],[0.7777777777777778,\"#fb9f3a\"],[0.8888888888888888,\"#fdca26\"],[1.0,\"#f0f921\"]],\"sequentialminus\":[[0.0,\"#0d0887\"],[0.1111111111111111,\"#46039f\"],[0.2222222222222222,\"#7201a8\"],[0.3333333333333333,\"#9c179e\"],[0.4444444444444444,\"#bd3786\"],[0.5555555555555556,\"#d8576b\"],[0.6666666666666666,\"#ed7953\"],[0.7777777777777778,\"#fb9f3a\"],[0.8888888888888888,\"#fdca26\"],[1.0,\"#f0f921\"]]},\"colorway\":[\"#636efa\",\"#EF553B\",\"#00cc96\",\"#ab63fa\",\"#FFA15A\",\"#19d3f3\",\"#FF6692\",\"#B6E880\",\"#FF97FF\",\"#FECB52\"],\"font\":{\"color\":\"#2a3f5f\"},\"geo\":{\"bgcolor\":\"white\",\"lakecolor\":\"white\",\"landcolor\":\"#E5ECF6\",\"showlakes\":true,\"showland\":true,\"subunitcolor\":\"white\"},\"hoverlabel\":{\"align\":\"left\"},\"hovermode\":\"closest\",\"mapbox\":{\"style\":\"light\"},\"paper_bgcolor\":\"white\",\"plot_bgcolor\":\"#E5ECF6\",\"polar\":{\"angularaxis\":{\"gridcolor\":\"white\",\"linecolor\":\"white\",\"ticks\":\"\"},\"bgcolor\":\"#E5ECF6\",\"radialaxis\":{\"gridcolor\":\"white\",\"linecolor\":\"white\",\"ticks\":\"\"}},\"scene\":{\"xaxis\":{\"backgroundcolor\":\"#E5ECF6\",\"gridcolor\":\"white\",\"gridwidth\":2,\"linecolor\":\"white\",\"showbackground\":true,\"ticks\":\"\",\"zerolinecolor\":\"white\"},\"yaxis\":{\"backgroundcolor\":\"#E5ECF6\",\"gridcolor\":\"white\",\"gridwidth\":2,\"linecolor\":\"white\",\"showbackground\":true,\"ticks\":\"\",\"zerolinecolor\":\"white\"},\"zaxis\":{\"backgroundcolor\":\"#E5ECF6\",\"gridcolor\":\"white\",\"gridwidth\":2,\"linecolor\":\"white\",\"showbackground\":true,\"ticks\":\"\",\"zerolinecolor\":\"white\"}},\"shapedefaults\":{\"line\":{\"color\":\"#2a3f5f\"}},\"ternary\":{\"aaxis\":{\"gridcolor\":\"white\",\"linecolor\":\"white\",\"ticks\":\"\"},\"baxis\":{\"gridcolor\":\"white\",\"linecolor\":\"white\",\"ticks\":\"\"},\"bgcolor\":\"#E5ECF6\",\"caxis\":{\"gridcolor\":\"white\",\"linecolor\":\"white\",\"ticks\":\"\"}},\"title\":{\"x\":0.05},\"xaxis\":{\"automargin\":true,\"gridcolor\":\"white\",\"linecolor\":\"white\",\"ticks\":\"\",\"title\":{\"standoff\":15},\"zerolinecolor\":\"white\",\"zerolinewidth\":2},\"yaxis\":{\"automargin\":true,\"gridcolor\":\"white\",\"linecolor\":\"white\",\"ticks\":\"\",\"title\":{\"standoff\":15},\"zerolinecolor\":\"white\",\"zerolinewidth\":2}}},\"xaxis\":{\"anchor\":\"y\",\"domain\":[0.0,1.0],\"title\":{\"text\":\"0\"}},\"yaxis\":{\"anchor\":\"x\",\"domain\":[0.0,1.0],\"title\":{\"text\":\"1\"}},\"legend\":{\"tracegroupgap\":0},\"margin\":{\"t\":60}},                        {\"responsive\": true}                    ).then(function(){\n                            \nvar gd = document.getElementById('eb99ff2a-a1dd-4451-a8d8-0610e8e48f7d');\nvar x = new MutationObserver(function (mutations, observer) {{\n        var display = window.getComputedStyle(gd).display;\n        if (!display || display === 'none') {{\n            console.log([gd, 'removed!']);\n            Plotly.purge(gd);\n            observer.disconnect();\n        }}\n}});\n\n// Listen for the removal of the full notebook cells\nvar notebookContainer = gd.closest('#notebook-container');\nif (notebookContainer) {{\n    x.observe(notebookContainer, {childList: true});\n}}\n\n// Listen for the clearing of the current output cell\nvar outputEl = gd.closest('.output');\nif (outputEl) {{\n    x.observe(outputEl, {childList: true});\n}}\n\n                        })                };                });            </script>        </div>"
     },
     "metadata": {},
     "output_type": "display_data"
    }
   ],
   "source": [
    "import plotly.express as px\n",
    "\n",
    "fig = px.scatter(new_values, x=0, y=1, opacity=1, hover_name=sentences)\n",
    "fig.show()"
   ],
   "metadata": {
    "collapsed": false,
    "pycharm": {
     "name": "#%%\n"
    }
   }
  },
  {
   "cell_type": "code",
   "execution_count": 82,
   "outputs": [
    {
     "data": {
      "text/plain": "{'input_ids': [2, 1802, 3357, 1680, 3131, 1685, 10651, 11853, 2666, 15, 42, 2333, 2556, 16, 15058, 2848, 3276, 1725, 1680, 7844, 1685, 10599, 1682, 3045, 4542, 1690, 2861, 1680, 5631, 1690, 20054, 1685, 25820, 1821, 1700, 3763, 1715, 2556, 16, 15058, 5991, 17, 6377, 6883, 1685, 1680, 2556, 16, 15058, 12362, 15, 10651, 11853, 2666, 27263, 3223, 42, 20092, 2674, 15, 2027, 14982, 6031, 1026, 1680, 4614, 8116, 1680, 2786, 8465, 1701, 2814, 8169, 1690, 6448, 17, 1680, 3276, 2029, 2030, 2801, 1682, 42, 4005, 16, 4517, 12816, 6159, 1680, 5177, 1685, 3818, 1725, 1680, 3559, 7895, 1685, 3045, 4542, 1690, 3853, 24582, 1727, 1725, 1680, 5941, 1685, 5373, 3877, 16, 2234, 2848, 1715, 5263, 2404, 2848, 17, 1890, 1685, 1680, 4176, 3517, 3275, 42, 1877, 4423, 8169, 4124, 1725, 2718, 10054, 17, 3289, 5452, 10651, 11853, 2666, 1732, 3203, 2051, 18915, 15, 4132, 15, 1690, 24782, 1682, 3801, 1701, 3877, 16, 2234, 2848, 3537, 4522, 1680, 7672, 8520, 1725, 6448, 1690, 8169, 1734, 3941, 1682, 6475, 1685, 1680, 3877, 17, 3], 'token_type_ids': [0, 0, 0, 0, 0, 0, 0, 0, 0, 0, 0, 0, 0, 0, 0, 0, 0, 0, 0, 0, 0, 0, 0, 0, 0, 0, 0, 0, 0, 0, 0, 0, 0, 0, 0, 0, 0, 0, 0, 0, 0, 0, 0, 0, 0, 0, 0, 0, 0, 0, 0, 0, 0, 0, 0, 0, 0, 0, 0, 0, 0, 0, 0, 0, 0, 0, 0, 0, 0, 0, 0, 0, 0, 0, 0, 0, 0, 0, 0, 0, 0, 0, 0, 0, 0, 0, 0, 0, 0, 0, 0, 0, 0, 0, 0, 0, 0, 0, 0, 0, 0, 0, 0, 0, 0, 0, 0, 0, 0, 0, 0, 0, 0, 0, 0, 0, 0, 0, 0, 0, 0, 0, 0, 0, 0, 0, 0, 0, 0, 0, 0, 0, 0, 0, 0, 0, 0, 0, 0, 0, 0, 0, 0, 0, 0, 0, 0, 0, 0, 0, 0, 0, 0, 0, 0, 0, 0, 0, 0, 0, 0, 0, 0, 0, 0, 0, 0, 0, 0, 0, 0], 'attention_mask': [1, 1, 1, 1, 1, 1, 1, 1, 1, 1, 1, 1, 1, 1, 1, 1, 1, 1, 1, 1, 1, 1, 1, 1, 1, 1, 1, 1, 1, 1, 1, 1, 1, 1, 1, 1, 1, 1, 1, 1, 1, 1, 1, 1, 1, 1, 1, 1, 1, 1, 1, 1, 1, 1, 1, 1, 1, 1, 1, 1, 1, 1, 1, 1, 1, 1, 1, 1, 1, 1, 1, 1, 1, 1, 1, 1, 1, 1, 1, 1, 1, 1, 1, 1, 1, 1, 1, 1, 1, 1, 1, 1, 1, 1, 1, 1, 1, 1, 1, 1, 1, 1, 1, 1, 1, 1, 1, 1, 1, 1, 1, 1, 1, 1, 1, 1, 1, 1, 1, 1, 1, 1, 1, 1, 1, 1, 1, 1, 1, 1, 1, 1, 1, 1, 1, 1, 1, 1, 1, 1, 1, 1, 1, 1, 1, 1, 1, 1, 1, 1, 1, 1, 1, 1, 1, 1, 1, 1, 1, 1, 1, 1, 1, 1, 1, 1, 1, 1, 1, 1, 1]}"
     },
     "execution_count": 82,
     "metadata": {},
     "output_type": "execute_result"
    }
   ],
   "source": [
    "sentences = \"We investigate the performance of QuantiScale, a new multi-touch interaction technique for the quantification of distances in medical images and discuss the benefits and prospects of redesigning interactions with multi-touch devices. Taking advantage of the multi-touch capabilities, QuantiScale behaves like a tape measure, but automatically adjusts the view onto the measured object to improve precision and speed. The technique has been studied in a real-world scenario measuring the diameter of structures for the diagnostic reading of medical images and provides hints for the replacement of traditional mouse-based interaction with gestural interaction. Results of the quantitative evaluation indicate a high measurement precision particularly for small objects. Participants experienced QuantiScale as being more fun, natural, and intuitive in comparison to mouse-based interaction even though the subjective preference for speed and precision was still in favor of the mouse.\"\n",
    "encoded_inputs = tokenizer(sentences, padding=True)\n",
    "encoded_inputs"
   ],
   "metadata": {
    "collapsed": false,
    "pycharm": {
     "name": "#%%\n"
    }
   }
  },
  {
   "cell_type": "code",
   "execution_count": 83,
   "outputs": [
    {
     "data": {
      "text/plain": "'[CLS] we investigate the performance of quantiscale, a new multi - touch interaction technique for the quantification of distances in medical images and discuss the benefits and prospects of redesigning interactions with multi - touch devices. taking advantage of the multi - touch capabilities, quantiscale behaves like a tape measure, but automatically adjusts the view onto the measured object to improve precision and speed. the technique has been studied in a real - world scenario measuring the diameter of structures for the diagnostic reading of medical images and provides hints for the replacement of traditional mouse - based interaction with gestural interaction. results of the quantitative evaluation indicate a high measurement precision particularly for small objects. participants experienced quantiscale as being more fun, natural, and intuitive in comparison to mouse - based interaction even though the subjective preference for speed and precision was still in favor of the mouse. [SEP]'"
     },
     "execution_count": 83,
     "metadata": {},
     "output_type": "execute_result"
    }
   ],
   "source": [
    "tokenizer.decode(encoded_inputs[\"input_ids\"])"
   ],
   "metadata": {
    "collapsed": false,
    "pycharm": {
     "name": "#%%\n"
    }
   }
  },
  {
   "cell_type": "code",
   "execution_count": null,
   "outputs": [],
   "source": [],
   "metadata": {
    "collapsed": false,
    "pycharm": {
     "name": "#%%\n"
    }
   }
  }
 ],
 "metadata": {
  "kernelspec": {
   "display_name": "Python 3",
   "language": "python",
   "name": "python3"
  },
  "language_info": {
   "codemirror_mode": {
    "name": "ipython",
    "version": 2
   },
   "file_extension": ".py",
   "mimetype": "text/x-python",
   "name": "python",
   "nbconvert_exporter": "python",
   "pygments_lexer": "ipython2",
   "version": "2.7.6"
  }
 },
 "nbformat": 4,
 "nbformat_minor": 0
}