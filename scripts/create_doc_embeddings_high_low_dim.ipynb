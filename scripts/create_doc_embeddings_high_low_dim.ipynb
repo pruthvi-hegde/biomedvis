{
 "cells": [
  {
   "cell_type": "code",
   "execution_count": 17,
   "metadata": {
    "collapsed": true
   },
   "outputs": [],
   "source": [
    "import json\n",
    "\n",
    "import umap\n",
    "from sentence_transformers import SentenceTransformer\n",
    "from umap import UMAP\n",
    "\n",
    "\n",
    "def high_low_dim_emb_for_sentence_tranformer_models(model_name):\n",
    "    with open('../articles_data/all_articles_with_thumbnail_metadata.json') as f:\n",
    "        papers = json.load(f)\n",
    "\n",
    "    # We then load the allenai-specter model with SentenceTransformers\n",
    "    model = SentenceTransformer(model_name)\n",
    "    model_name = model_name.split('/')[-1].replace('-', '_').lower()\n",
    "\n",
    "    # To encode the papers, we must combine the title and the abstracts to a single string\n",
    "    article_texts = [paper['article_title'] + '[SEP]' + paper['abstract'] for paper in papers]\n",
    "    article_titles = [paper['article_title'] for paper in papers]\n",
    "\n",
    "    # Compute embeddings for all papers\n",
    "    corpus_embeddings = model.encode(article_texts, convert_to_tensor=True)\n",
    "    umap_embeddings = UMAP(n_neighbors=5, n_components=2, metric='cosine', random_state=42)\n",
    "    low_dim_embeddings = umap_embeddings.fit_transform(corpus_embeddings)\n",
    "    low_dim_embeddings = low_dim_embeddings.tolist()\n",
    "    corpus_embeddings = corpus_embeddings.tolist()\n",
    "    result_high = dict(zip(article_titles, corpus_embeddings))\n",
    "    with open('../embeddings/high_dim/' + model_name + '_high_dim.json', 'x') as f:\n",
    "        json.dump(result_high, f)\n",
    "    result_low = dict(zip(article_titles, low_dim_embeddings))\n",
    "    with open('../embeddings/low_dim/' + model_name + '_low_dim.json', 'x') as f:\n",
    "        json.dump(result_low, f)\n",
    "\n"
   ]
  },
  {
   "cell_type": "code",
   "execution_count": 18,
   "outputs": [],
   "source": [
    "if __name__ == \"__main__\":\n",
    "    high_low_dim_emb_for_sentence_tranformer_models('pritamdeka/S-PubMedBert-MS-MARCO-SCIFACT')"
   ],
   "metadata": {
    "collapsed": false,
    "pycharm": {
     "name": "#%%\n"
    }
   }
  },
  {
   "cell_type": "code",
   "execution_count": null,
   "outputs": [],
   "source": [],
   "metadata": {
    "collapsed": false,
    "pycharm": {
     "name": "#%%\n"
    }
   }
  },
  {
   "cell_type": "code",
   "execution_count": null,
   "outputs": [],
   "source": [],
   "metadata": {
    "collapsed": false,
    "pycharm": {
     "name": "#%%\n"
    }
   }
  },
  {
   "cell_type": "code",
   "execution_count": null,
   "outputs": [],
   "source": [],
   "metadata": {
    "collapsed": false,
    "pycharm": {
     "name": "#%%\n"
    }
   }
  }
 ],
 "metadata": {
  "kernelspec": {
   "display_name": "Python 3",
   "language": "python",
   "name": "python3"
  },
  "language_info": {
   "codemirror_mode": {
    "name": "ipython",
    "version": 2
   },
   "file_extension": ".py",
   "mimetype": "text/x-python",
   "name": "python",
   "nbconvert_exporter": "python",
   "pygments_lexer": "ipython2",
   "version": "2.7.6"
  }
 },
 "nbformat": 4,
 "nbformat_minor": 0
}