{
 "cells": [
  {
   "cell_type": "code",
   "execution_count": 70,
   "metadata": {
    "collapsed": true
   },
   "outputs": [],
   "source": [
    "import numpy as np\n",
    "import torch\n",
    "import json\n",
    "from sentence_transformers import util\n",
    "def search_papers(title, abstract, model_name):\n",
    "    f = open(f'../embeddings/high_dim/{model_name}_high_dim.json')\n",
    "    data = json.load(f)\n",
    "\n",
    "    query_embedding = torch.as_tensor(data[title])\n",
    "\n",
    "    corpus_embedding = torch.tensor(list(data.values()))\n",
    "\n",
    "    titles = list(data.keys())\n",
    "\n",
    "    search_hits = util.semantic_search(query_embedding,corpus_embedding)\n",
    "    search_hits = search_hits[0]  # Get the hits for the first query\n",
    "\n",
    "    print(\"\\n\\nPaper:\", title)\n",
    "    print(\"Most similar papers:\")\n",
    "    for hit in search_hits:\n",
    "        print(hit)\n",
    "        related_paper = titles[hit['corpus_id']]\n",
    "        print(\"{:.2f}\\t{}\".format(hit['score'], related_paper))"
   ]
  },
  {
   "cell_type": "code",
   "execution_count": 72,
   "outputs": [
    {
     "name": "stdout",
     "output_type": "stream",
     "text": [
      "\n",
      "\n",
      "Paper: Interactive Exploded Views for Molecular Structures\n",
      "Most similar papers:\n",
      "{'corpus_id': 143, 'score': 1.0}\n",
      "1.00\tInteractive Exploded Views for Molecular Structures\n",
      "{'corpus_id': 196, 'score': 0.9751389026641846}\n",
      "0.98\tSline: Seamless Line Illustration for Interactive Biomedical Visualization\n",
      "{'corpus_id': 235, 'score': 0.9745084643363953}\n",
      "0.97\tUnfolding and Interactive Exploration of Protein Tunnels and their Dynamics\n",
      "{'corpus_id': 93, 'score': 0.9718807935714722}\n",
      "0.97\tWatergate: Visual Exploration of Water Trajectories in Protein Dynamics\n",
      "{'corpus_id': 53, 'score': 0.9714003801345825}\n",
      "0.97\tcellVIEW: a Tool for Illustrative and Multi-Scale Rendering of Large Biomolecular Datasets\n",
      "{'corpus_id': 210, 'score': 0.969343900680542}\n",
      "0.97\tMedical Animations: A Survey and a Research Agenda\n",
      "{'corpus_id': 233, 'score': 0.9690823554992676}\n",
      "0.97\tInstant Visualization of Secondary Structures of Molecular Models\n",
      "{'corpus_id': 87, 'score': 0.9672581553459167}\n",
      "0.97\tGlobal and Local Mesh Morphing for Complex Biological Objects from µCT Data\n",
      "{'corpus_id': 135, 'score': 0.9665234088897705}\n",
      "0.97\tGraxels: Information Rich Primitives for the Visualization of Time-Dependent Spatial Data\n",
      "{'corpus_id': 183, 'score': 0.9662954807281494}\n",
      "0.97\tAutomatic Generation of Web-Based User Studies to Evaluate Depth Perception in Vascular Surface Visualizations\n"
     ]
    }
   ],
   "source": [
    "search_papers(\"Interactive Exploded Views for Molecular Structures\", \"We propose an approach to interactively create exploded views of molecular structures with the goal to help domain experts in their design process and provide them with a meaningful visual representation of component relationships. Exploded views are excellently suited to manage visual occlusion of structure components, which is one of the main challenges when visualizing complex 3D data. In this paper, we discuss four key parameters of an exploded view: explosion distance, direction, order, and the selection of explosion components. We propose two strategies, namely the structure-derived exploded view and the interactive free-form exploded view, for computing these four parameters systematically. The first strategy allows scientists to automatically create exploded views by computing the parameters from the given object structures. The second strategy further supports them to design and customize detailed explosion paths through user interaction. Our approach features the possibility to animate exploded views, to incorporate ease functions into these animations and to display the explosion path of components via arrows. Finally, we demonstrate three use cases with various challenges that we investigated in collaboration with a domain scientist. Our approach, therefore, provides interesting new ways of investigating and presenting the design layout and composition of complex molecular structures.\", \"biowordvec\")"
   ],
   "metadata": {
    "collapsed": false,
    "pycharm": {
     "name": "#%%\n"
    }
   }
  },
  {
   "cell_type": "code",
   "execution_count": 54,
   "outputs": [],
   "source": [],
   "metadata": {
    "collapsed": false,
    "pycharm": {
     "name": "#%%\n"
    }
   }
  },
  {
   "cell_type": "code",
   "execution_count": null,
   "outputs": [],
   "source": [],
   "metadata": {
    "collapsed": false,
    "pycharm": {
     "name": "#%%\n"
    }
   }
  },
  {
   "cell_type": "code",
   "execution_count": null,
   "outputs": [],
   "source": [],
   "metadata": {
    "collapsed": false,
    "pycharm": {
     "name": "#%%\n"
    }
   }
  },
  {
   "cell_type": "code",
   "execution_count": null,
   "outputs": [],
   "source": [],
   "metadata": {
    "collapsed": false,
    "pycharm": {
     "name": "#%%\n"
    }
   }
  },
  {
   "cell_type": "code",
   "execution_count": null,
   "outputs": [],
   "source": [],
   "metadata": {
    "collapsed": false,
    "pycharm": {
     "name": "#%%\n"
    }
   }
  }
 ],
 "metadata": {
  "kernelspec": {
   "display_name": "Python 3",
   "language": "python",
   "name": "python3"
  },
  "language_info": {
   "codemirror_mode": {
    "name": "ipython",
    "version": 2
   },
   "file_extension": ".py",
   "mimetype": "text/x-python",
   "name": "python",
   "nbconvert_exporter": "python",
   "pygments_lexer": "ipython2",
   "version": "2.7.6"
  }
 },
 "nbformat": 4,
 "nbformat_minor": 0
}