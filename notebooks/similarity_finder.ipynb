{
 "cells": [
  {
   "cell_type": "code",
   "execution_count": 6,
   "metadata": {
    "collapsed": true
   },
   "outputs": [],
   "source": [
    "import numpy as np\n",
    "import torch\n",
    "import json\n",
    "from sentence_transformers import util\n",
    "def search_papers(title, abstract, model_name):\n",
    "    f = open(f'../embeddings/high_dimension/{model_name}_high_dim.json')\n",
    "    data = json.load(f)\n",
    "\n",
    "    query_embedding = torch.as_tensor(data[title])\n",
    "\n",
    "    corpus_embedding = torch.tensor(list(data.values()))\n",
    "\n",
    "    titles = list(data.keys())\n",
    "\n",
    "    search_hits = util.semantic_search(query_embedding,corpus_embedding)\n",
    "    search_hits = search_hits[0]  # Get the hits for the first query\n",
    "\n",
    "    print(\"\\n\\nPaper:\", title)\n",
    "    print(\"Most similar papers:\")\n",
    "    for hit in search_hits:\n",
    "        print(hit)\n",
    "        related_paper = titles[hit['corpus_id']]\n",
    "        print(\"{:.2f}\\t{}\".format(hit['score'], related_paper))"
   ]
  },
  {
   "cell_type": "code",
   "execution_count": 7,
   "outputs": [
    {
     "name": "stdout",
     "output_type": "stream",
     "text": [
      "\n",
      "\n",
      "Paper: Visual Analytics in Digital Pathology: Challenges and Opportunities\n",
      "Most similar papers:\n",
      "{'corpus_id': 127, 'score': 0.9999996423721313}\n",
      "1.00\tVisual Analytics in Digital Pathology: Challenges and Opportunities\n",
      "{'corpus_id': 70, 'score': 0.9584764838218689}\n",
      "0.96\tVisual Analytics in Histopathology Diagnostics: a Protocol-Based Approach\n",
      "{'corpus_id': 61, 'score': 0.9015693664550781}\n",
      "0.90\tPATHONE: From one Thousand Patients to one Cell\n",
      "{'corpus_id': 74, 'score': 0.864912748336792}\n",
      "0.86\tDiscovering Medical Knowledge Using Visual Analytics\n",
      "{'corpus_id': 207, 'score': 0.8586125373840332}\n",
      "0.86\tVisual Analytics for the Exploration and Assessment of Segmentation Errors\n",
      "{'corpus_id': 133, 'score': 0.8464146852493286}\n",
      "0.85\tRegistrationShop: An Interactive 3D Medical Volume Registration System\n",
      "{'corpus_id': 184, 'score': 0.8454501628875732}\n",
      "0.85\tA Visual Analytics Approach for Patient Stratification and Biomarker Discovery\n",
      "{'corpus_id': 84, 'score': 0.840019941329956}\n",
      "0.84\tSurvey of Labeling Techniques in Medical Visualizations\n",
      "{'corpus_id': 49, 'score': 0.8289483785629272}\n",
      "0.83\tVisualFlatter - Visual Analysis of Distortions in the Projection of Biomedical Structures\n",
      "{'corpus_id': 25, 'score': 0.8279874324798584}\n",
      "0.83\tA Critical Analysis of the Evaluation Practice in Medical Visualization\n"
     ]
    }
   ],
   "source": [
    "search_papers(\"Visual Analytics in Digital Pathology: Challenges and Opportunities\", \"The advances in high-throughput digitization, digital pathology systems, and quantitative image analysis opened new horizons in pathology. The diagnostic work of the pathologists and their role is likely to be augmented with computer-assistance and more quantitative information at hand. The recent success of artificial intelligence (AI) and computer vision methods demonstrated that in the coming years machines will support pathologists in typically tedious and highly subjective tasks and also in better patient stratification. In spite of clear future improvements in the diagnostic workflow, questions on how to effectively support the pathologists and how to integrate current data sources and quantitative information still persist. In this context, Visual Analytics (VA) - as the discipline that aids users to solve complex problems with an interactive and visual approach - can play a vital role to support the cognitive skills of pathologists and the large volumes of data available. To identify the main opportunities to employ VA in digital pathology systems, we conducted a survey with 20 pathologists to characterize the diagnostic practice and needs from a user perspective. From our findings, we discuss how VA can leverage quantitative image data to empower pathologists with new advanced digital pathology systems.\", \"allenai_specter\")"
   ],
   "metadata": {
    "collapsed": false,
    "pycharm": {
     "name": "#%%\n"
    }
   }
  },
  {
   "cell_type": "code",
   "execution_count": 54,
   "outputs": [],
   "source": [
    "from sentence_transformers import SentenceTransformer\n",
    "embedder = SentenceTransformer('allenai-specter')\n",
    "f = open(f'../embeddings/high_dimension/allenai_specter_high_dim.json')\n",
    "data = json.load(f)\n",
    "doc_titles = list(data.keys())\n",
    "embeddings = list(data.values())"
   ],
   "metadata": {
    "collapsed": false,
    "pycharm": {
     "name": "#%%\n"
    }
   }
  },
  {
   "cell_type": "code",
   "execution_count": null,
   "outputs": [],
   "source": [
    "\"\"\"\n",
    "This is a simple application for sentence embeddings: clustering\n",
    "\n",
    "Sentences are mapped to sentence embeddings and then agglomerative clustering with a threshold is applied.\n",
    "\"\"\"\n",
    "from sentence_transformers import SentenceTransformer\n",
    "from sklearn.cluster import AgglomerativeClustering\n",
    "import numpy as np\n",
    "\n",
    "embedder = SentenceTransformer('allenai-specter')\n",
    "\n",
    "# Corpus with example sentences\n",
    "corpus = ['A man is eating food.',\n",
    "          'A man is eating a piece of bread.',\n",
    "          'A man is eating pasta.',\n",
    "          'The girl is carrying a baby.',\n",
    "          'The baby is carried by the woman',\n",
    "          'A man is riding a horse.',\n",
    "          'A man is riding a white horse on an enclosed ground.',\n",
    "          'A monkey is playing drums.',\n",
    "          'Someone in a gorilla costume is playing a set of drums.',\n",
    "          'A cheetah is running behind its prey.',\n",
    "          'A cheetah chases prey on across a field.'\n",
    "          ]\n",
    "corpus_embeddings = embedder.encode(corpus)\n",
    "\n",
    "# Normalize the embeddings to unit length\n",
    "corpus_embeddings = corpus_embeddings /  np.linalg.norm(corpus_embeddings, axis=1, keepdims=True)\n",
    "\n",
    "# Perform kmean clustering\n",
    "clustering_model = AgglomerativeClustering(n_clusters=None, distance_threshold=1.5) #, affinity='cosine', linkage='average', distance_threshold=0.4)\n",
    "clustering_model.fit(corpus_embeddings)\n",
    "cluster_assignment = clustering_model.labels_\n",
    "\n",
    "clustered_sentences = {}\n",
    "for sentence_id, cluster_id in enumerate(cluster_assignment):\n",
    "    if cluster_id not in clustered_sentences:\n",
    "        clustered_sentences[cluster_id] = []\n",
    "\n",
    "    clustered_sentences[cluster_id].append(corpus[sentence_id])\n",
    "\n",
    "for i, cluster in clustered_sentences.items():\n",
    "    print(\"Cluster \", i+1)\n",
    "    print(cluster)\n",
    "    print(\"\")"
   ],
   "metadata": {
    "collapsed": false,
    "pycharm": {
     "name": "#%%\n"
    }
   }
  },
  {
   "cell_type": "code",
   "execution_count": null,
   "outputs": [],
   "source": [],
   "metadata": {
    "collapsed": false,
    "pycharm": {
     "name": "#%%\n"
    }
   }
  },
  {
   "cell_type": "code",
   "execution_count": null,
   "outputs": [],
   "source": [],
   "metadata": {
    "collapsed": false,
    "pycharm": {
     "name": "#%%\n"
    }
   }
  },
  {
   "cell_type": "code",
   "execution_count": null,
   "outputs": [],
   "source": [],
   "metadata": {
    "collapsed": false,
    "pycharm": {
     "name": "#%%\n"
    }
   }
  },
  {
   "cell_type": "code",
   "execution_count": null,
   "outputs": [],
   "source": [],
   "metadata": {
    "collapsed": false,
    "pycharm": {
     "name": "#%%\n"
    }
   }
  }
 ],
 "metadata": {
  "kernelspec": {
   "display_name": "Python 3",
   "language": "python",
   "name": "python3"
  },
  "language_info": {
   "codemirror_mode": {
    "name": "ipython",
    "version": 2
   },
   "file_extension": ".py",
   "mimetype": "text/x-python",
   "name": "python",
   "nbconvert_exporter": "python",
   "pygments_lexer": "ipython2",
   "version": "2.7.6"
  }
 },
 "nbformat": 4,
 "nbformat_minor": 0
}