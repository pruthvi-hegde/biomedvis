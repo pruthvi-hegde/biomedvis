{
 "cells": [
  {
   "cell_type": "code",
   "execution_count": 6,
   "metadata": {
    "collapsed": true
   },
   "outputs": [],
   "source": [
    "\n",
    "import json\n",
    "\n",
    "import torch\n",
    "from sentence_transformers import util\n",
    "\n",
    "\n",
    "def search_papers(title, abstract, model_name):\n",
    "    f = open(f'../embeddings/high_dimension/{model_name}_high_dim.json')\n",
    "    data = json.load(f)\n",
    "\n",
    "    query_embedding = torch.as_tensor(data[title])\n",
    "\n",
    "    corpus_embedding = torch.tensor(list(data.values()))\n",
    "\n",
    "    titles = list(data.keys())\n",
    "\n",
    "    search_hits = util.semantic_search(query_embedding, corpus_embedding)\n",
    "    search_hits = search_hits[0]  # Get the hits for the first query\n",
    "\n",
    "    print(\"\\n\\nPaper:\", title)\n",
    "    print(\"Most similar papers:\")\n",
    "    for hit in search_hits:\n",
    "        print(hit)\n",
    "        related_paper = titles[hit['corpus_id']]\n",
    "        print(\"{:.2f}\\t{}\".format(hit['score'], related_paper))"
   ]
  },
  {
   "cell_type": "code",
   "execution_count": 7,
   "outputs": [
    {
     "name": "stdout",
     "output_type": "stream",
     "text": [
      "\n",
      "\n",
      "Paper: Visual Analytics in Digital Pathology: Challenges and Opportunities\n",
      "Most similar papers:\n",
      "{'corpus_id': 127, 'score': 0.9999996423721313}\n",
      "1.00\tVisual Analytics in Digital Pathology: Challenges and Opportunities\n",
      "{'corpus_id': 70, 'score': 0.9584764838218689}\n",
      "0.96\tVisual Analytics in Histopathology Diagnostics: a Protocol-Based Approach\n",
      "{'corpus_id': 61, 'score': 0.9015693664550781}\n",
      "0.90\tPATHONE: From one Thousand Patients to one Cell\n",
      "{'corpus_id': 74, 'score': 0.864912748336792}\n",
      "0.86\tDiscovering Medical Knowledge Using Visual Analytics\n",
      "{'corpus_id': 207, 'score': 0.8586125373840332}\n",
      "0.86\tVisual Analytics for the Exploration and Assessment of Segmentation Errors\n",
      "{'corpus_id': 133, 'score': 0.8464146852493286}\n",
      "0.85\tRegistrationShop: An Interactive 3D Medical Volume Registration System\n",
      "{'corpus_id': 184, 'score': 0.8454501628875732}\n",
      "0.85\tA Visual Analytics Approach for Patient Stratification and Biomarker Discovery\n",
      "{'corpus_id': 84, 'score': 0.840019941329956}\n",
      "0.84\tSurvey of Labeling Techniques in Medical Visualizations\n",
      "{'corpus_id': 49, 'score': 0.8289483785629272}\n",
      "0.83\tVisualFlatter - Visual Analysis of Distortions in the Projection of Biomedical Structures\n",
      "{'corpus_id': 25, 'score': 0.8279874324798584}\n",
      "0.83\tA Critical Analysis of the Evaluation Practice in Medical Visualization\n"
     ]
    }
   ],
   "source": [
    "search_papers(\"Visual Analytics in Digital Pathology: Challenges and Opportunities\",\n",
    "              \"The advances in high-throughput digitization, digital pathology systems, and quantitative image analysis opened new horizons in pathology. The diagnostic work of the pathologists and their role is likely to be augmented with computer-assistance and more quantitative information at hand. The recent success of artificial intelligence (AI) and computer vision methods demonstrated that in the coming years machines will support pathologists in typically tedious and highly subjective tasks and also in better patient stratification. In spite of clear future improvements in the diagnostic workflow, questions on how to effectively support the pathologists and how to integrate current data sources and quantitative information still persist. In this context, Visual Analytics (VA) - as the discipline that aids users to solve complex problems with an interactive and visual approach - can play a vital role to support the cognitive skills of pathologists and the large volumes of data available. To identify the main opportunities to employ VA in digital pathology systems, we conducted a survey with 20 pathologists to characterize the diagnostic practice and needs from a user perspective. From our findings, we discuss how VA can leverage quantitative image data to empower pathologists with new advanced digital pathology systems.\",\n",
    "              \"allenai_specter\")"
   ],
   "metadata": {
    "collapsed": false,
    "pycharm": {
     "name": "#%%\n"
    }
   }
  },
  {
   "cell_type": "code",
   "execution_count": 10,
   "outputs": [],
   "source": [
    "from sentence_transformers import SentenceTransformer\n",
    "\n",
    "embedder = SentenceTransformer('allenai-specter')\n",
    "f = open(f'../embeddings/high_dimension/allenai_specter_high_dim.json')\n",
    "data = json.load(f)\n",
    "doc_titles = list(data.keys())\n",
    "corpus_embeddings = list(data.values())"
   ],
   "metadata": {
    "collapsed": false,
    "pycharm": {
     "name": "#%%\n"
    }
   }
  },
  {
   "cell_type": "code",
   "execution_count": 12,
   "outputs": [
    {
     "name": "stdout",
     "output_type": "stream",
     "text": [
      "Cluster  4\n",
      "['Interactive Exploded Views for Molecular Structures', 'Atomistic Visualization of Mesoscopic Whole-Cell Simulations', 'Watergate: Visual Exploration of Water Trajectories in Protein Dynamics', 'cellVIEW: a Tool for Illustrative and Multi-Scale Rendering of Large Biomolecular Datasets', 'Polar Space Based Shape Averaging for Star-shaped Biological Objects', 'Visual Analysis and Comparison of Multiple Sequence Alignments', 'Membrane Mapping: Combining Mesoscopic and Molecular Cell Visualization', 'Analyzing Protein Similarity by Clustering Molecular Surface Maps', 'Real-Time Visualization of 3D Amyloid-Beta Fibrils from 2D Cryo-EM Density Maps', 'Unfolding and Interactive Exploration of Protein Tunnels and their Dynamics', 'DockVis: Visual Analysis of Molecular Docking Data', 'Protein Tunnel Reprojection for Physico-Chemical Property Analysis', 'Interactive CPU-based Ray Tracing of Solvent Excluded Surfaces', 'Visualization and Exploration of 3D Toponome Data', 'Computation of More Channels in Protein Molecules', 'Visual Analysis of Bipartite Biological Networks', 'Illustrative Transitions in Molecular Visualization via Forward and Inverse Abstraction Transform', 'Hybrid Visualization of Protein-Lipid and Protein-Protein Interaction', 'Molecular Sombreros: Abstract Visualization of Binding Sites within Proteins', 'Chameleon - Dynamic Color Mapping for Multi-Scale Structural Biology Models', 'Instant Visualization of Secondary Structures of Molecular Models', 'Visual Analysis of Evolution of EEG Coherence Networks employing Temporal Multidimensional Scaling', 'Visualizing Movements of Protein Tunnels in Molecular Dynamics Simulations', 'Global and Local Mesh Morphing for Complex Biological Objects from µCT Data', 'FoldSynth: Interactive 2D/3D Visualisation Platform for Molecular Strands', 'FluoroSim: A Visual Problem-Solving Environment for Fluorescence Microscopy', 'Improving Perception of Molecular Surface Visualizations by Incorporating Translucency Effects', 'Interactive Labeling of Toponome Data', 'Real-Time Dense Nucleus Selection from Confocal Data', 'Semantic Screen-Space Occlusion for Multiscale Molecular Visualization']\n",
      "\n",
      "Cluster  8\n",
      "['Layer-Aware iOCT Volume Rendering for Retinal Surgery', 'A New Vessel Enhancement Transform on Retinal Blood Vessels Segmentation', 'PATHONE: From one Thousand Patients to one Cell', 'Visual Analytics in Histopathology Diagnostics: a Protocol-Based Approach', 'Automatic Hepatocyte Quantification from Histological Images: Comparing Pre-smoothing filters', 'A Guided Spatial Transformer Network for Histology Cell Differentiation', 'Maximizing AUC with Deep Learning for Classification of Imbalanced Mammogram Datasets', 'Evaluation of Hippocampal Segmentation Methods for Healthy and Pathological Subjects', 'Visual Analytics in Digital Pathology: Challenges and Opportunities', 'GLANCE: Visual Analytics for Monitoring Glaucoma Progression', 'Imaging the Vascular Network of the Human Spleen from Immunostained Serial Sections', 'Uncertainty-Guided Semi-Automated Editing of CNN-based Retinal Layer Segmentations in Optical Coherence Tomography', 'UI-Net: Interactive Artificial Neural Networks for Iterative Image Segmentation Based on a User Model', 'A Feasibility Study on Automated Protein Aggregate Characterization Utilizing a Hybrid Classification Model', 'InShaDe: Invariant Shape Descriptors for Visual Analysis of Histology 2D Cellular and Nuclear Shapes', 'Mammogram Classification and Abnormality Detection from Nonlocal Labels using Deep Multiple Instance Neural Network']\n",
      "\n",
      "Cluster  2\n",
      "['Introducing CNN-Based Mouse Grim Scale Analysis for Fully Automated Image-Based Assessment of Distress in Laboratory Mice', 'Visual Exploratory Analysis for Multiple T-Maze Studies', 'A Multilinear Model for Bidirectional Craniofacial Reconstruction', 'Feasibility Study For Automatic Bird Tracking and Visualization from Time-Dependent Marine Radar Imagery', 'Design Considerations for Immersive Analytics of Bird Movements Obtained by Miniaturised GPS Sensors', 'PerSleep: A Visual Analytics Approach for Performance Assessment of Sleep Staging Models', 'Estimation of Muscle Activity in One-Leg Stance from 3D Surface Deformation', 'An Exploration of Practice and Preferences for the Visual Communication of Biomedical Processes', 'Discovering Medical Knowledge Using Visual Analytics', 'preha: Establishing Precision Rehabilitation with Visual Analytics', 'Visual Analytics of Missing Data in Epidemiological Cohort Studies', 'SWiFT Seeing the Wood From the Trees: helping people make sense of their health data', 'Visual Analysis of Multivariate Intensive Care Surveillance Data', 'A Visual Analytics Approach for Patient Stratification and Biomarker Discovery', 'Multiple Scale Visualization of Electronic Health Records to Support Finding Medical Narratives']\n",
      "\n",
      "Cluster  3\n",
      "['Pelvis Runner: Visualizing Pelvic Organ Variability in a Cohort of Radiotherapy Patients', 'Automatic Segmentation of the Pelvic Bones from CT Data Based on a Statistical Shape Model', 'Misalignment Correction in Open Cone-Beam CT', 'Estimation of the Midsagittal Plane for Sideness Determination of Malignant Structures of Head and Neck', 'Sketch-based Image-independent Editing of 3D Tumor Segmentations using Variational Interpolation', 'Bone Fracture and Lesion Assessment using Shape-Adaptive Unfolding', 'Illustrative Multi-volume Rendering for PET/CT Scans', 'Visually Guided Mesh Smoothing for Medical Applications', 'Robust Classification and Analysis of Anatomical Surfaces Using 3D Skeletons', 'An Integrated Platform for Dynamic Cardiac Simulation and Image Processing: Application to Personalised Tetralogy of Fallot Simulation', 'Generation of a Mean Motion Model of the Lung Using 4D-CT Image Data', 'Fast and Smooth Interactive Segmentation of Medical Images Using Variational Interpolation', 'Constrained Labeling of 2D Slice Data for Reading Images in Radiology', 'Survey of Labeling Techniques in Medical Visualizations', 'A Statistical Method for Surface Detection', 'A General Approach to Model Biomedical Data from 3D Unorganised Point Clouds with Medial Scaffolds', 'Visual Analysis of Medical Image Segmentation Feature Space for Interactive Supervised Classification', 'Interactive Residual Stress Modeling for Soft Tissue Simulation', 'Colonic Content Assessment from MRI Imaging Using a Semi-automatic Approach', 'A Web-based Application for the Visual Exploration of Colon Morphology Data', 'Image Registration Methods for Patient-Specific Virtual Physiological Human Models', 'Visualisation of PET data in the Fly Algorithm', 'The iCoCooN: Integration of Cobweb Charts with Parallel Coordinates for Visual Analysis of DCE-MRI Modeling Variations', 'RegistrationShop: An Interactive 3D Medical Volume Registration System', 'Towards Clinical Deployment of Automated Anatomical Regions-Of-Interest', 'Extracting and Visualizing Uncertainties in Segmentations from 3D Medical Data', 'Inlier Detection in Thermal Sensitive Images', 'Personalized X-ray Reconstruction of the Proximal Femur via a New Control Point-based 2D-3D Registration and Residual Complexity Minimization', 'Visual Assessment of Growth Prediction in Brain Structures after Pediatric Radiotherapy', 'Computational Steering for Patient-Specific Implant Planning in Orthopedics', 'Deriving and Visualizing Uncertainty in Kinetic PET Modeling', 'Efficient Globally Optimal Matching of Anatomical Trees of the Liver', 'MRI Hip Joint Segmentation: A Locally Bhattacharyya Weighted Hybrid 3D Level Set Approach', 'Simulated Motion Artefact in Computed Tomography', 'Surface Curvature Line Clustering for Polyp Detection in CT Colonography', 'Staircase-Aware Smoothing of Medical Surface Meshes', 'Visual Analytics for the Exploration and Assessment of Segmentation Errors', 'Parametric-based Reconstruction Of 3D Mesh Models; Towards the Generation of a Parametric Human Foot Biomodel', 'Illustrative PET/CT Visualisation of SIRT-Treated Lung Metastases', 'Importance-Driven Structure Categorization for 3D Surgery Planning', 'Dynamic Visualisation of Orbital Fat Deformation using Anatomy-Guided Interaction']\n",
      "\n",
      "Cluster  9\n",
      "['Information-based Transfer Functions for Multimodal Visualization', 'Distance Field Visualization and 2D Abstraction of Vessel Tree Structures with on-the-fly Parameterization', 'A Critical Analysis of the Evaluation Practice in Medical Visualization', 'Sline: Seamless Line Illustration for Interactive Biomedical Visualization', 'Visibility-Driven Processing of Streaming Volume Data', 'Automatic Animations to Analyze Blood Flow Data', 'Anatomical Volume Visualization with Weighted Distance Fields', 'VisualFlatter - Visual Analysis of Distortions in the Projection of Biomedical Structures', 'Medical Animations: A Survey and a Research Agenda', 'Combining Pseudo Chroma Depth Enhancement and Parameter Mapping for Vascular Surface Models', 'Model-based Solid Texture Synthesis for Anatomic Volume Illustration', 'Automatic Generation of Web-Based User Studies to Evaluate Depth Perception in Vascular Surface Visualizations', 'Semi-Immersive 3D Sketching of Vascular Structures for Medical Education', 'Vologram: An Educational Holographic Sculpture for Volumetric Medical Data Physicalization', 'How to Evaluate Medical Visualizations on the Example of 3D Aneurysm Surfaces', 'From Imprecise User Input to Precise Vessel Segmentations', 'GPU Accelerated Normalized Mutual Information and B-Spline Transformation', 'Shading Style Assessment for Vessel Wall and Lumen Visualization', 'Graxels: Information Rich Primitives for the Visualization of Time-Dependent Spatial Data', 'Focus + Context Rendering of Structured Biomedical Data', 'Parameterization and Feature Extraction for the Visualization of Tree-like Structures', 'Concentric Circle Glyphs for Enhanced Depth-Judgment in Vascular Models', 'Feature Exploration using Local Frequency Distributions in Computed Tomography Data', 'Interactive Position-dependent Customization of Transfer Function Classification Parameters in Volume Rendering', 'Volume Visualization Using Principal Component Analysis']\n",
      "\n",
      "Cluster  5\n",
      "['VR Acrophobia Treatment - Development of Customizable Acrophobia Inducing Scenarios', 'Student and Teacher Meet in a Shared Virtual Reality: A one-on-one Tutoring System for Anatomy Education', 'Real-Time Guidance and Anatomical Information by Image Projection onto Patients', 'Exploration of 3D Medical Image Data for Interventional Radiology using Myoelectric Gesture Control', 'Projection Mapping for In-Situ Surgery Planning by the Example of DIEP Flap Breast Reconstruction', 'Haptics-based Modelling of Pigmented Skin Lesions', 'A Prototype Holographic Augmented Reality Interface for Image-Guided Prostate Cancer Interventions', 'An Endoscope Interface for Immersive Virtual Reality', 'A Haptic Rendering Algorithm for Molecular Interaction', 'Simulation-based Ultrasound Training Supported by Annotations, Haptics and Linked Multimodal Views', 'A Comparative User Study of a 2D and an Autostereoscopic 3D Display for a Tympanoplastic Surgery', 'ICG based Augmented-Reality-System for Sentinel Lymph Node Biopsy', 'The Role of Depth Perception in XR from a Neuroscience Perspective: A Primer and Survey', 'QuantiScale: A Study in Redesigning Interactions for Multi-Touch', 'Learning Hand Anatomy with Sense of Embodiment', 'A Haptics-enabled Simulator for Transperineal Ultrasound-Guided Biopsy', 'Challenges and Technologies for Low Cost Wheelchair Simulation', 'AR-Assisted Craniotomy Planning for Tumour Resection', 'The Virtual Reality Flow Lens for Blood Flow Exploration', 'Interactive Visualization of Muscle Activity During Limb Movements: Towards Enhanced Anatomy Learning']\n",
      "\n",
      "Cluster  1\n",
      "['CoWRadar: Visual Quantification of the Circle of Willis in Stroke Patients', 'Semantic Segmentation of Brain Tumors in MRI Data Without any Labels', 'Reconstruction of Blood Vessels from Neck CT Datasets using Stable 3D Mass-Spring Models', 'Visual Analysis of Regional Anomalies in Myocardial Motion', 'Uncertainty-aware Brain Lesion Visualization', '2.5D Geometric Mapping of Aortic Blood Flow Data for Cohort Visualization', 'Strategies for Generating Multi-Time Frame Localization of Cardiac MRI', 'Histology-Based Evaluation of Optical Coherence Tomographic Characteristics of the Cerebral Artery Wall via Virtual Inflating', 'Visual Assessment of Vascular Torsion using Ellipse Fitting', 'On the Value of Multi-Volume Visualization for Preoperative Planning of Cerebral AVM Surgery', 'A Framework for Visual Comparison of 4D PC-MRI Aortic Blood Flow Data', 'VirtualDSA++: Automated Segmentation, Vessel Labeling, Occlusion Detection and Graph Search on CT-Angiography Data', 'Adapted Surface Visualization of Cerebral Aneurysms with Embedded Blood Flow Information', 'Interactive Visual Similarity Analysis of Measured and Simulated Multi-field Tubular Flow Ensembles', 'Automatic Thrombus Detection in Non-enhanced Computed Tomography Images in Patients With Acute Ischemic Stroke', 'Aneulysis - A System for Aneurysm Data Analysis', 'A Survey of Cardiac 4D PC-MRI Data Processing', 'Aortic Dissection Maps: Comprehensive Visualization of Aortic Dissections for Risk Assessment', 'Recent Advances in MRI and Ultrasound Perfusion Imaging', 'InkVis: A High-Particle-Count Approach for Visualization of Phase-Contrast Magnetic Resonance Imaging Data', 'Automatic Cutting and Flattening of Carotid Artery Geometries', 'Fully Automatic Skull-Stripping in 3D Time-of-Flight MRA Image Sequences', 'Spatio-temporal Visualization of Regional Myocardial Velocities', 'A Framework for Fast Initial Exploration of PC-MRI Cardiac Flow', 'Semi-Automatic Vessel Boundary Detection in Cardiac 4D PC-MRI Data Using FTLE fields', 'Uncertainty-aware Ensemble of Classifiers for Segmenting Brain MRI Data', 'Temporal Interpolation of 4D PC-MRI Blood-flow Measurements Using Bidirectional Physics-based Fluid Simulation', 'Glyph-Based Visualization of Myocardial Perfusion Data and Enhancement with Contractility and Viability Information', 'Robustness Evaluation of CFD Simulations to Mesh Deformation', 'Uncertainty Estimation and Visualization for Multi-modal Image Segmentation', 'Computation and Visualization of Asynchronous Behavior of the Heart', 'Robust Cardiac Function Assessment in 4D PC-MRI Data', 'CT Late Enhancement Segmentation for the Combined Analysis of Coronary Arteries and Myocardial Viability', 'Exploration of Interventricular Septum Motion in Multi-Cycle Cardiac MRI', 'High-Quality Multimodal Volume Visualization of Intracerebral Pathological Tissue', 'A Two-Level Cascade Classification Algorithm for Real-Time Bifurcation Detection in CTA Images of Blood Vessels', 'Automated Slice-Based Artery Identification in Various Field-of-View CTA Scans', 'Coherence Maps for Blood Flow Exploration', 'Evolutionary Pathlines for Blood Flow Exploration in Cerebral Aneurysms', 'Evaluation of Transfer Function Methods in Direct Volume Rendering of the Blood Vessel Lumen']\n",
      "\n",
      "Cluster  6\n",
      "['Multiparametric Magnetic Resonance Image Synthesis using Generative Adversarial Networks', 'Application of Image Processing Functions for Brain Tumor Enhancement in Intraoperative Ultrasound Image Data', 'Geometrical-Acoustics-based Ultrasound Image Simulation', 'Deriving Anatomical Context from 4D Ultrasound', 'CT-Based Navigation Guidance for Liver Tumor Ablation', 'HIFUpm: a Visual Environment to Plan and Monitor High Intensity Focused Ultrasound Treatments', 'Monte-Carlo Ray-Tracing for Realistic Interactive Ultrasound Simulation', 'Using Position-Based Dynamics for Simulating the Mitral Valve in a Decision Support System', 'HIFUtk: Visual Analytics for High Intensity Focused Ultrasound Simulation', 'Visual Navigation Support for Liver Applicator Placement using Interactive Map Displays', 'Guided Visualization of Ultrasound Image Sequences', 'Automatic Real-time Annotation of Important Landmarks in Ultrasound-Guided Femoral Nerve Blocks', 'Combining B-Mode and Color Flow Vessel Segmentation for Registration of Hepatic CT and Ultrasound Volumes', 'The Vitruvian Baby: Interactive Reformation of Fetal Ultrasound Data to a T-Position', 'A Web-Based Tool for Cardiac Dyssynchrony Assessment on Ultrasound Data', 'Motion-moderated Transfer Function for Volume Rendering 4D CMR Data', 'Lowest-Variance Streamlines for Filtering of 3D Ultrasound', 'Visualization-Guided Evaluation of Simulated Minimally Invasive Cancer Treatment', 'VRIDAA: Virtual Reality Platform for Training and Planning Implantations of Occluder Devices in Left Atrial Appendages', 'Impact of Physical Noise Modeling on Image Segmentation in Echocardiography', 'Ultrasound Decompression for Large Field-of-View Reconstructions', 'Illustrated Ultrasound for Multimodal Data Interpretation of Liver Examinations', 'Interactive Real Time Simulation of Cardiac Radio-Frequency Ablation']\n",
      "\n",
      "Cluster  7\n",
      "['Synaptic Connectivity in Anatomically Realistic Neural Networks: Modeling and Visual Analysis', 'Ontology-Based Visualization of Hierarchical Neuroanatomical Structures', 'Visualizing and Exploring Dynamic Multichannel EEG Coherence Networks', 'Graph Averaging as a Means to Compare Multichannel EEG Coherence Networks', 'BrainCove: A Tool for Voxel-wise fMRI Brain Connectivity Visualization', 'Iterative Exploration of Big Brain Network Data', 'Visual and Quantitative Analysis of Higher Order Arborization Overlaps for Neural Circuit Research', 'Annotated Dendrograms for Neurons From the Larval Fruit Fly Brain', 'Schematic Electrode Map for Navigation in Neuro Data Sets', 'MedUse: A Visual Analysis Tool for Medication Use Data in the ABCD Study', 'Visual Analysis of Integrated Resting State Functional Brain Connectivity and Anatomy', 'A Visual Environment for Hypothesis Formation and Reasoning in Studies with fMRI and Multivariate Clinical Data']\n",
      "\n",
      "Cluster  10\n",
      "['Interactive Classification of Multi-Shell Diffusion MRI With Features From a Dual-Branch CNN Autoencoder', 'The BundleExplorer: A Focus and Context Rendering Framework for Complex Fiber Distributions', 'Progressive and Efficient Multi-Resolution Representations for Brain Tractograms', 'Interactive Formation of Statistical Hypotheses in Diffusion Tensor Imaging', 'Tractography in Context: Multimodal Visualization of Probabilistic Tractograms in Anatomical Context', 'Comparative Visualization for Diffusion Tensor Imaging Group Study at Multiple Levels of Detail', 'Interactive Multimodal Imaging Visualization for Multiple Sclerosis Lesion Analysis', 'Multi-fiber Estimation and Tractography for Diffusion MRI using mixture of Non-central Wishart Distributions', 'SpectraMosaic: An Exploratory Tool for the Interactive Visual Analysis of Magnetic Resonance Spectroscopy Data', 'Reducing Model Uncertainty in Crossing Fiber Tractography', 'Visualizing White Matter Fiber Tracts with Optimally Fitted Curved Dissection Surfaces', 'Fiber Stipples for Crossing Tracts in Probabilistic Tractography', 'A Survey on Visualizing Magnetic Resonance Spectroscopy Data', 'Accelerated Diffusion Operators for Enhancing DW-MRI']\n",
      "\n"
     ]
    }
   ],
   "source": [
    "\"\"\"\n",
    "This is a simple application for sentence embeddings: clustering\n",
    "\n",
    "Sentences are mapped to sentence embeddings and then agglomerative clustering with a threshold is applied.\n",
    "\"\"\"\n",
    "from sentence_transformers import SentenceTransformer\n",
    "from sklearn.cluster import AgglomerativeClustering\n",
    "import numpy as np\n",
    "\n",
    "embedder = SentenceTransformer('allenai-specter')\n",
    "\n",
    "# Corpus with example sentences\n",
    "# corpus = ['A man is eating food.',\n",
    "#           'A man is eating a piece of bread.',\n",
    "#           'A man is eating pasta.',\n",
    "#           'The girl is carrying a baby.',\n",
    "#           'The baby is carried by the woman',\n",
    "#           'A man is riding a horse.',\n",
    "#           'A man is riding a white horse on an enclosed ground.',\n",
    "#           'A monkey is playing drums.',\n",
    "#           'Someone in a gorilla costume is playing a set of drums.',\n",
    "#           'A cheetah is running behind its prey.',\n",
    "#           'A cheetah chases prey on across a field.'\n",
    "#           ]\n",
    "# corpus_embeddings = embedder.encode(corpus)\n",
    "\n",
    "# Normalize the embeddings to unit length\n",
    "corpus_embeddings = corpus_embeddings / np.linalg.norm(corpus_embeddings, axis=1, keepdims=True)\n",
    "\n",
    "# Perform kmean clustering\n",
    "clustering_model = AgglomerativeClustering(n_clusters=None,\n",
    "                                           distance_threshold=1.5)  #, affinity='cosine', linkage='average', distance_threshold=0.4)\n",
    "clustering_model.fit(corpus_embeddings)\n",
    "cluster_assignment = clustering_model.labels_\n",
    "\n",
    "clustered_sentences = {}\n",
    "for sentence_id, cluster_id in enumerate(cluster_assignment):\n",
    "    if cluster_id not in clustered_sentences:\n",
    "        clustered_sentences[cluster_id] = []\n",
    "\n",
    "    clustered_sentences[cluster_id].append(doc_titles[sentence_id])\n",
    "\n",
    "for i, cluster in clustered_sentences.items():\n",
    "    print(\"Cluster \", i + 1)\n",
    "    print(cluster)\n",
    "    print(\"\")"
   ],
   "metadata": {
    "collapsed": false,
    "pycharm": {
     "name": "#%%\n"
    }
   }
  },
  {
   "cell_type": "code",
   "execution_count": null,
   "outputs": [],
   "source": [
    "\n"
   ],
   "metadata": {
    "collapsed": false,
    "pycharm": {
     "name": "#%%\n"
    }
   }
  },
  {
   "cell_type": "code",
   "execution_count": null,
   "outputs": [],
   "source": [],
   "metadata": {
    "collapsed": false,
    "pycharm": {
     "name": "#%%\n"
    }
   }
  },
  {
   "cell_type": "code",
   "execution_count": null,
   "outputs": [],
   "source": [],
   "metadata": {
    "collapsed": false,
    "pycharm": {
     "name": "#%%\n"
    }
   }
  },
  {
   "cell_type": "code",
   "execution_count": null,
   "outputs": [],
   "source": [],
   "metadata": {
    "collapsed": false,
    "pycharm": {
     "name": "#%%\n"
    }
   }
  }
 ],
 "metadata": {
  "kernelspec": {
   "display_name": "Python 3",
   "language": "python",
   "name": "python3"
  },
  "language_info": {
   "codemirror_mode": {
    "name": "ipython",
    "version": 2
   },
   "file_extension": ".py",
   "mimetype": "text/x-python",
   "name": "python",
   "nbconvert_exporter": "python",
   "pygments_lexer": "ipython2",
   "version": "2.7.6"
  }
 },
 "nbformat": 4,
 "nbformat_minor": 0
}