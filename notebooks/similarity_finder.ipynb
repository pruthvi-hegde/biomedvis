{
 "cells": [
  {
   "cell_type": "code",
   "execution_count": 12,
   "metadata": {
    "collapsed": true
   },
   "outputs": [],
   "source": [
    "import numpy as np\n",
    "import torch\n",
    "import json\n",
    "from sentence_transformers import util\n",
    "def search_papers(title, abstract, model_name):\n",
    "    f = open(f'../embeddings/high_dim/{model_name}_high_dim.json')\n",
    "    data = json.load(f)\n",
    "\n",
    "    query_embedding = torch.as_tensor(data[title])\n",
    "\n",
    "    corpus_embedding = torch.tensor(list(data.values()))\n",
    "\n",
    "    titles = list(data.keys())\n",
    "\n",
    "    search_hits = util.semantic_search(query_embedding,corpus_embedding)\n",
    "    search_hits = search_hits[0]  # Get the hits for the first query\n",
    "\n",
    "    print(\"\\n\\nPaper:\", title)\n",
    "    print(\"Most similar papers:\")\n",
    "    for hit in search_hits:\n",
    "        print(hit)\n",
    "        related_paper = titles[hit['corpus_id']]\n",
    "        print(\"{:.2f}\\t{}\".format(hit['score'], related_paper))"
   ]
  },
  {
   "cell_type": "code",
   "execution_count": 20,
   "outputs": [
    {
     "name": "stdout",
     "output_type": "stream",
     "text": [
      "\n",
      "\n",
      "Paper: Learning Hand Anatomy with Sense of Embodiment\n",
      "Most similar papers:\n",
      "{'corpus_id': 167, 'score': 0.9999999403953552}\n",
      "1.00\tLearning Hand Anatomy with Sense of Embodiment\n",
      "{'corpus_id': 106, 'score': 0.9832030534744263}\n",
      "0.98\tSimulation-based Ultrasound Training Supported by Annotations, Haptics and Linked Multimodal Views\n",
      "{'corpus_id': 215, 'score': 0.982864499092102}\n",
      "0.98\tInteractive Visualization of Muscle Activity During Limb Movements: Towards Enhanced Anatomy Learning\n",
      "{'corpus_id': 109, 'score': 0.9799896478652954}\n",
      "0.98\tSemi-Immersive 3D Sketching of Vascular Structures for Medical Education\n",
      "{'corpus_id': 18, 'score': 0.9764404892921448}\n",
      "0.98\tStudent and Teacher Meet in a Shared Virtual Reality: A one-on-one Tutoring System for Anatomy Education\n",
      "{'corpus_id': 152, 'score': 0.9759253263473511}\n",
      "0.98\tVisualization-Guided Evaluation of Simulated Minimally Invasive Cancer Treatment\n",
      "{'corpus_id': 42, 'score': 0.9748866558074951}\n",
      "0.97\tExploration of 3D Medical Image Data for Interventional Radiology using Myoelectric Gesture Control\n",
      "{'corpus_id': 78, 'score': 0.9747798442840576}\n",
      "0.97\tA Prototype Holographic Augmented Reality Interface for Image-Guided Prostate Cancer Interventions\n",
      "{'corpus_id': 123, 'score': 0.974223256111145}\n",
      "0.97\tVologram: An Educational Holographic Sculpture for Volumetric Medical Data Physicalization\n",
      "{'corpus_id': 151, 'score': 0.9740893840789795}\n",
      "0.97\tQuantiScale: A Study in Redesigning Interactions for Multi-Touch\n"
     ]
    }
   ],
   "source": [
    "search_papers(\"Learning Hand Anatomy with Sense of Embodiment\", \"We present a VR-based prototype for learning the hand anatomy. The prototype is designed to support embodied cognition, i.e., a learning process based on movements. The learner employs the prototype in VR by moving their own hand and fingers and observing how the virtual anatomical hand model mirrors this movement. The display of anatomical systems and their names can be adjusted. The prototype is deployed on the Oculus Quest and uses its native hand tracking capabilities to obtain the hand posture of the user. The potential of the prototype is shown with a small user study.\", \"biobert\")"
   ],
   "metadata": {
    "collapsed": false,
    "pycharm": {
     "name": "#%%\n"
    }
   }
  },
  {
   "cell_type": "code",
   "execution_count": 54,
   "outputs": [],
   "source": [],
   "metadata": {
    "collapsed": false,
    "pycharm": {
     "name": "#%%\n"
    }
   }
  },
  {
   "cell_type": "code",
   "execution_count": null,
   "outputs": [],
   "source": [],
   "metadata": {
    "collapsed": false,
    "pycharm": {
     "name": "#%%\n"
    }
   }
  },
  {
   "cell_type": "code",
   "execution_count": null,
   "outputs": [],
   "source": [],
   "metadata": {
    "collapsed": false,
    "pycharm": {
     "name": "#%%\n"
    }
   }
  },
  {
   "cell_type": "code",
   "execution_count": null,
   "outputs": [],
   "source": [],
   "metadata": {
    "collapsed": false,
    "pycharm": {
     "name": "#%%\n"
    }
   }
  },
  {
   "cell_type": "code",
   "execution_count": null,
   "outputs": [],
   "source": [],
   "metadata": {
    "collapsed": false,
    "pycharm": {
     "name": "#%%\n"
    }
   }
  }
 ],
 "metadata": {
  "kernelspec": {
   "display_name": "Python 3",
   "language": "python",
   "name": "python3"
  },
  "language_info": {
   "codemirror_mode": {
    "name": "ipython",
    "version": 2
   },
   "file_extension": ".py",
   "mimetype": "text/x-python",
   "name": "python",
   "nbconvert_exporter": "python",
   "pygments_lexer": "ipython2",
   "version": "2.7.6"
  }
 },
 "nbformat": 4,
 "nbformat_minor": 0
}