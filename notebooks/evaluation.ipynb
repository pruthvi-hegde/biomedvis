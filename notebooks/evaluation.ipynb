{
 "cells": [
  {
   "cell_type": "code",
   "execution_count": 2,
   "metadata": {
    "collapsed": true
   },
   "outputs": [],
   "source": [
    "from scipy.spatial import distance_matrix"
   ]
  },
  {
   "cell_type": "code",
   "execution_count": 3,
   "outputs": [
    {
     "data": {
      "text/plain": "array([[1.        , 1.41421356],\n       [1.41421356, 1.        ]])"
     },
     "execution_count": 3,
     "metadata": {},
     "output_type": "execute_result"
    }
   ],
   "source": [],
   "metadata": {
    "collapsed": false,
    "pycharm": {
     "name": "#%%\n"
    }
   }
  },
  {
   "cell_type": "code",
   "execution_count": 8,
   "outputs": [],
   "source": [
    "from scipy.stats import spearmanr"
   ],
   "metadata": {
    "collapsed": false,
    "pycharm": {
     "name": "#%%\n"
    }
   }
  },
  {
   "cell_type": "code",
   "execution_count": 12,
   "outputs": [
    {
     "data": {
      "text/plain": "SpearmanrResult(correlation=0.9999999999999999, pvalue=nan)"
     },
     "execution_count": 12,
     "metadata": {},
     "output_type": "execute_result"
    }
   ],
   "source": [],
   "metadata": {
    "collapsed": false,
    "pycharm": {
     "name": "#%%\n"
    }
   }
  },
  {
   "cell_type": "code",
   "execution_count": 7,
   "outputs": [
    {
     "data": {
      "text/plain": "array([[0.29893516]])"
     },
     "execution_count": 7,
     "metadata": {},
     "output_type": "execute_result"
    }
   ],
   "source": [],
   "metadata": {
    "collapsed": false,
    "pycharm": {
     "name": "#%%\n"
    }
   }
  },
  {
   "cell_type": "code",
   "execution_count": 34,
   "outputs": [],
   "source": [
    "import json\n",
    "\n",
    "with open('../embeddings/low_dim/tfidf_low_dim.json') as f:\n",
    "    emb1 = json.load(f)\n",
    "with open('../embeddings/low_dim/bow_low_dim.json') as f:\n",
    "    emb2 = json.load(f)\n",
    "\n",
    "with open('../embeddings/low_dim/all_mpnet_base_v2_low_dim.json') as f:\n",
    "    emb3 = json.load(f)"
   ],
   "metadata": {
    "collapsed": false,
    "pycharm": {
     "name": "#%%\n"
    }
   }
  },
  {
   "cell_type": "code",
   "execution_count": 35,
   "outputs": [],
   "source": [
    "tf_idf = list(emb1.values())\n",
    "bw = list(emb2.values())\n",
    "st = list(emb3.values())"
   ],
   "metadata": {
    "collapsed": false,
    "pycharm": {
     "name": "#%%\n"
    }
   }
  },
  {
   "cell_type": "code",
   "execution_count": 42,
   "outputs": [
    {
     "name": "stdout",
     "output_type": "stream",
     "text": [
      "SpearmanrResult(correlation=-0.2821082134689387, pvalue=1.0798801332817158e-05)\n"
     ]
    }
   ],
   "source": [
    "y = spearmanr(tf_idf)\n",
    "x = spearmanr(bw)\n",
    "z = spearmanr(st, axis=0)\n",
    "print(z)"
   ],
   "metadata": {
    "collapsed": false,
    "pycharm": {
     "name": "#%%\n"
    }
   }
  },
  {
   "cell_type": "code",
   "execution_count": 53,
   "outputs": [
    {
     "data": {
      "text/plain": "array([[ 1., -1., -1.],\n       [-1.,  1.,  1.],\n       [-1.,  1.,  1.]])"
     },
     "execution_count": 53,
     "metadata": {},
     "output_type": "execute_result"
    }
   ],
   "source": [
    "import numpy as np\n",
    "\n",
    "tf = np.array(tf_idf)\n",
    "np.corrcoef(\n",
    "    [[3.615783929824829, 0.6], [3.615783929824829, 4.7388763427734375], [3.615783929824829, 4.7388763427734375]])"
   ],
   "metadata": {
    "collapsed": false,
    "pycharm": {
     "name": "#%%\n"
    }
   }
  },
  {
   "cell_type": "code",
   "execution_count": 73,
   "outputs": [
    {
     "name": "stdout",
     "output_type": "stream",
     "text": [
      "0.9512869000486365\n"
     ]
    }
   ],
   "source": [
    "from sklearn.metrics import pairwise_distances\n",
    "\n",
    "with open('../embeddings/low_dim/bow_low_dim.json') as f:\n",
    "    emb3 = json.load(f)\n",
    "dist_out = 1 - pairwise_distances(list(emb3.values()), metric=\"cosine\")\n",
    "dist_out\n",
    "x = [np.mean(i) for i in dist_out]\n",
    "print(np.mean(x))"
   ],
   "metadata": {
    "collapsed": false,
    "pycharm": {
     "name": "#%%\n"
    }
   }
  },
  {
   "cell_type": "code",
   "execution_count": 75,
   "outputs": [],
   "source": [
    "from sklearn.metrics.pairwise import euclidean_distances\n",
    "from scipy import sparse\n",
    "import numpy as np"
   ],
   "metadata": {
    "collapsed": false,
    "pycharm": {
     "name": "#%%\n"
    }
   }
  },
  {
   "cell_type": "code",
   "execution_count": 82,
   "outputs": [
    {
     "name": "stdout",
     "output_type": "stream",
     "text": [
      "pairwise dense output:\n",
      " [[0.         1.22980762 3.60351788 ... 1.88893592 4.53601834 3.12138608]\n",
      " [1.22980762 0.         4.50609573 ... 1.38141213 3.4005609  2.46430274]\n",
      " [3.60351788 4.50609573 0.         ... 5.49160012 7.87173139 4.48775307]\n",
      " ...\n",
      " [1.88893592 1.38141213 5.49160012 ... 0.         2.99167812 3.77257957]\n",
      " [4.53601834 3.4005609  7.87173139 ... 2.99167812 0.         4.38436745]\n",
      " [3.12138608 2.46430274 4.48775307 ... 3.77257957 4.38436745 0.        ]]\n",
      "\n",
      "4.120552450667069\n"
     ]
    }
   ],
   "source": [
    "from sklearn.metrics import pairwise_distances\n",
    "\n",
    "with open('../embeddings/low_dim/all_minilm_l6_v2_low_dim.json') as f:\n",
    "    emb4 = json.load(f)\n",
    "A_sparse = sparse.csr_matrix(list(emb4.values()))\n",
    "\n",
    "similarities = euclidean_distances(A_sparse)\n",
    "print('pairwise dense output:\\n {}\\n'.format(similarities))\n",
    "x = [np.mean(i) for i in similarities]\n",
    "print(np.mean(x))"
   ],
   "metadata": {
    "collapsed": false,
    "pycharm": {
     "name": "#%%\n"
    }
   }
  },
  {
   "cell_type": "code",
   "execution_count": 22,
   "outputs": [
    {
     "name": "stdout",
     "output_type": "stream",
     "text": [
      "{'Image Registration Methods for Patient-Specific Virtual Physiological Human Models': [6.912987232208252, 6.957751750946045], 'Interactive Classification of Multi-Shell Diffusion MRI With Features From a Dual-Branch CNN Autoencoder': [3.9920718669891357, 8.8130464553833], 'Visual Assessment of Vascular Torsion using Ellipse Fitting': [7.381600856781006, 4.968464374542236], 'Simulation-based Ultrasound Training Supported by Annotations, Haptics and Linked Multimodal Views': [7.512796878814697, 7.794095516204834], 'How to Evaluate Medical Visualizations on the Example of 3D Aneurysm Surfaces': [5.741652965545654, 9.104303359985352], 'Student and Teacher Meet in a Shared Virtual Reality: A one-on-one Tutoring System for Anatomy Education': [7.218874454498291, 9.966750144958496], 'CT Late Enhancement Segmentation for the Combined Analysis of Coronary Arteries and Myocardial Viability': [6.275537014007568, 4.54205846786499], 'Estimation of the Midsagittal Plane for Sideness Determination of Malignant Structures of Head and Neck': [5.276620864868164, 7.600429058074951], 'QuantiScale: A Study in Redesigning Interactions for Multi-Touch': [6.289714336395264, 9.615208625793457], 'Visual Analytics in Histopathology Diagnostics: a Protocol-Based Approach': [8.056121826171875, 9.851175308227539], 'Uncertainty-Guided Semi-Automated Editing of CNN-based Retinal Layer Segmentations in Optical Coherence Tomography': [4.166601657867432, 9.824715614318848], 'A Multilinear Model for Bidirectional Craniofacial Reconstruction': [2.891296625137329, 10.578907012939453], 'Visualizing White Matter Fiber Tracts with Optimally Fitted Curved Dissection Surfaces': [2.678889513015747, 5.213160514831543], 'Visual Analysis of Medical Image Segmentation Feature Space for Interactive Supervised Classification': [3.932692527770996, 8.776663780212402], 'Sketch-based Image-independent Editing of 3D Tumor Segmentations using Variational Interpolation': [3.996450424194336, 9.867961883544922], 'Semantic Segmentation of Brain Tumors in MRI Data Without any Labels': [4.448517322540283, 7.702605724334717], 'The Vitruvian Baby: Interactive Reformation of Fetal Ultrasound Data to a T-Position': [6.10468053817749, 7.779907703399658], 'Maximizing AUC with Deep Learning for Classification of Imbalanced Mammogram Datasets': [4.276811122894287, 7.998154163360596], 'Interactive CPU-based Ray Tracing of Solvent Excluded Surfaces': [1.7374943494796753, 6.665313243865967], 'ICG based Augmented-Reality-System for Sentinel Lymph Node Biopsy': [6.722153663635254, 7.802881240844727], 'Temporal Interpolation of 4D PC-MRI Blood-flow Measurements Using Bidirectional Physics-based Fluid Simulation': [5.897801876068115, 5.8807172775268555], 'Visual Analytics for the Exploration and Assessment of Segmentation Errors': [5.051609039306641, 9.089045524597168], 'A Two-Level Cascade Classification Algorithm for Real-Time Bifurcation Detection in CTA Images of Blood Vessels': [6.890100002288818, 4.119171619415283], 'Aneulysis - A System for Aneurysm Data Analysis': [6.960062026977539, 5.417959213256836], 'Semi-Immersive 3D Sketching of Vascular Structures for Medical Education': [7.766333103179932, 5.131925106048584], 'Surface Curvature Line Clustering for Polyp Detection in CT Colonography': [3.2897441387176514, 10.45089054107666], 'Information-based Transfer Functions for Multimodal Visualization': [3.372051239013672, 8.892926216125488], 'Efficient Globally Optimal Matching of Anatomical Trees of the Liver': [3.9778048992156982, 8.511489868164062], 'Interactive Residual Stress Modeling for Soft Tissue Simulation': [7.099974155426025, 7.879494667053223], 'The BundleExplorer: A Focus and Context Rendering Framework for Complex Fiber Distributions': [2.667552947998047, 5.241861343383789], 'Uncertainty-aware Ensemble of Classifiers for Segmenting Brain MRI Data': [4.1247172355651855, 8.90384292602539], 'HIFUtk: Visual Analytics for High Intensity Focused Ultrasound Simulation': [6.707010746002197, 7.950043201446533], 'Model-based Solid Texture Synthesis for Anatomic Volume Illustration': [2.2847554683685303, 10.382436752319336], 'CoWRadar: Visual Quantification of the Circle of Willis in Stroke Patients': [6.557461261749268, 5.027914524078369], 'An Exploration of Practice and Preferences for the Visual Communication of Biomedical Processes': [6.551004409790039, 9.997631072998047], 'A Survey of Cardiac 4D PC-MRI Data Processing': [5.624721527099609, 5.509909629821777], 'Visual Analysis of Integrated Resting State Functional Brain Connectivity and Anatomy': [1.4305471181869507, 8.458733558654785], 'The Virtual Reality Flow Lens for Blood Flow Exploration': [6.1350178718566895, 8.925040245056152], 'Fully Automatic Skull-Stripping in 3D Time-of-Flight MRA Image Sequences': [3.9639275074005127, 9.9103364944458], 'Visual Analysis and Comparison of Multiple Sequence Alignments': [3.740504026412964, 7.096591472625732], 'SWiFT Seeing the Wood From the Trees: helping people make sense of their health data': [7.456554889678955, 10.365836143493652], 'On the Value of Multi-Volume Visualization for Preoperative Planning of Cerebral AVM Surgery': [5.916764736175537, 7.332193851470947], 'Simulated Motion Artefact in Computed Tomography': [4.011402130126953, 10.561066627502441], 'Recent Advances in MRI and Ultrasound Perfusion Imaging': [6.131842613220215, 4.562642574310303], 'Interactive Real Time Simulation of Cardiac Radio-Frequency Ablation': [6.901740550994873, 7.740945816040039], 'AR-Assisted Craniotomy Planning for Tumour Resection': [5.8008222579956055, 7.863170146942139], 'Coherence Maps for Blood Flow Exploration': [6.106289386749268, 5.673367500305176], 'Automatic Animations to Analyze Blood Flow Data': [6.739572048187256, 5.506892204284668], 'Monte-Carlo Ray-Tracing for Realistic Interactive Ultrasound Simulation': [6.80211877822876, 8.125783920288086], 'Automatic Thrombus Detection in Non-enhanced Computed Tomography Images in Patients With Acute Ischemic Stroke': [6.9857988357543945, 4.075953006744385], 'Semi-Automatic Vessel Boundary Detection in Cardiac 4D PC-MRI Data Using FTLE fields': [6.117160320281982, 5.891387462615967], 'Evaluation of Transfer Function Methods in Direct Volume Rendering of the Blood Vessel Lumen': [6.766693115234375, 4.654473781585693], 'HIFUpm: a Visual Environment to Plan and Monitor High Intensity Focused Ultrasound Treatments': [6.488592624664307, 8.10977554321289], 'cellVIEW: a Tool for Illustrative and Multi-Scale Rendering of Large Biomolecular Datasets': [1.8573476076126099, 6.719050407409668], 'Discovering Medical Knowledge Using Visual Analytics': [7.650073051452637, 10.241642951965332], 'Vologram: An Educational Holographic Sculpture for Volumetric Medical Data Physicalization': [6.889344692230225, 9.96886157989502], 'Illustrative Transitions in Molecular Visualization via Forward and Inverse Abstraction Transform': [2.497464895248413, 6.714145660400391], 'Learning Hand Anatomy with Sense of Embodiment': [7.4633402824401855, 8.634211540222168], 'The Role of Depth Perception in XR from a Neuroscience Perspective: A Primer and Survey': [6.671012878417969, 9.924707412719727], 'Illustrative PET-CT Visualisation of SIRT-Treated Lung Metastases': [5.005893230438232, 7.391390800476074], 'Interactive Position-dependent Customization of Transfer Function Classification Parameters in Volume Rendering': [3.5170207023620605, 9.185961723327637], 'Visualizing Movements of Protein Tunnels in Molecular Dynamics Simulations': [1.1237082481384277, 6.66553258895874], 'Personalized X-ray Reconstruction of the Proximal Femur via a New Control Point-based 2D-3D Registration and Residual Complexity Minimization': [6.847630500793457, 6.900062561035156], 'Evaluation of Hippocampal Segmentation Methods for Healthy and Pathological Subjects': [4.352142810821533, 7.849408149719238], 'Mammogram Classification and Abnormality Detection from Nonlocal Labels using Deep Multiple Instance Neural Network': [4.437151908874512, 8.139402389526367], 'Deriving and Visualizing Uncertainty in Kinetic PET Modeling': [3.9339301586151123, 6.2404327392578125], '2.5D Geometric Mapping of Aortic Blood Flow Data for Cohort Visualization': [6.302567481994629, 5.533385276794434], 'BrainCove: A Tool for Voxel-wise fMRI Brain Connectivity Visualization': [1.4239966869354248, 8.391233444213867], 'Reconstruction of Blood Vessels from Neck CT Datasets using Stable 3D Mass-Spring Models': [7.020878314971924, 4.250514984130859], 'Visual Analysis of Bipartite Biological Networks': [1.5373234748840332, 7.7066874504089355], 'MRI Hip Joint Segmentation: A Locally Bhattacharyya Weighted Hybrid 3D Level Set Approach': [3.43267560005188, 10.502264022827148], 'A Visual Environment for Hypothesis Formation and Reasoning in Studies with fMRI and Multivariate Clinical Data': [3.8084588050842285, 6.462399005889893], 'Towards Clinical Deployment of Automated Anatomical Regions-Of-Interest': [8.29952621459961, 9.476438522338867], 'A Statistical Method for Surface Detection': [3.4270505905151367, 10.363202095031738], 'Visual Analysis of Regional Anomalies in Myocardial Motion': [5.7173285484313965, 5.077879905700684], 'Exploration of 3D Medical Image Data for Interventional Radiology using Myoelectric Gesture Control': [7.170889854431152, 9.875194549560547], 'Interactive Formation of Statistical Hypotheses in Diffusion Tensor Imaging': [3.7704319953918457, 6.04787540435791], 'From Imprecise User Input to Precise Vessel Segmentations': [4.783658504486084, 9.253705024719238], 'Fiber Stipples for Crossing Tracts in Probabilistic Tractography': [2.963444232940674, 5.064415454864502], 'Illustrated Ultrasound for Multimodal Data Interpretation of Liver Examinations': [6.653557300567627, 7.160778045654297], 'Visual and Quantitative Analysis of Higher Order Arborization Overlaps for Neural Circuit Research': [0.9458035230636597, 8.211579322814941], 'Imaging the Vascular Network of the Human Spleen from Immunostained Serial Sections': [7.344905853271484, 4.712254524230957], 'Staircase-Aware Smoothing of Medical Surface Meshes': [2.835988759994507, 10.231860160827637], 'High-Quality Multimodal Volume Visualization of Intracerebral Pathological Tissue': [4.727085590362549, 7.108718395233154], 'Molecular Sombreros: Abstract Visualization of Binding Sites within Proteins': [0.9881010055541992, 6.47104024887085], 'Survey of Labeling Techniques in Medical Visualizations': [5.570741176605225, 9.207137107849121], 'Analyzing Protein Similarity by Clustering Molecular Surface Maps': [2.0173141956329346, 7.395044326782227], 'Global and Local Mesh Morphing for Complex Biological Objects from µCT Data': [2.507669687271118, 9.886189460754395], 'GPU Accelerated Normalized Mutual Information and B-Spline Transformation': [3.414536237716675, 9.475197792053223], 'Synaptic Connectivity in Anatomically Realistic Neural Networks: Modeling and Visual Analysis': [1.041919231414795, 8.250595092773438], 'Extracting and Visualizing Uncertainties in Segmentations from 3D Medical Data': [3.4650280475616455, 9.944284439086914], 'Automatic Cutting and Flattening of Carotid Artery Geometries': [7.565345764160156, 5.061633586883545], 'Guided Visualization of Ultrasound Image Sequences': [6.236900806427002, 7.579829692840576], 'Watergate: Visual Exploration of Water Trajectories in Protein Dynamics': [1.8908497095108032, 6.831712245941162], 'Robustness Evaluation of CFD Simulations to Mesh Deformation': [5.78843355178833, 5.94835901260376], 'Shading Style Assessment for Vessel Wall and Lumen Visualization': [7.296730041503906, 5.302695274353027], 'Visual Analysis of Evolution of EEG Coherence Networks employing Temporal Multidimensional Scaling': [1.5730777978897095, 8.273782730102539], 'GLANCE: Visual Analytics for Monitoring Glaucoma Progression': [7.757972240447998, 10.10610580444336], 'Feature Exploration using Local Frequency Distributions in Computed Tomography Data': [3.5919344425201416, 7.027245998382568], 'Geometrical-Acoustics-based Ultrasound Image Simulation': [6.966445446014404, 7.917656421661377], 'Challenges and Technologies for Low Cost Wheelchair Simulation': [6.842615604400635, 9.607772827148438], 'Spatio-temporal Visualization of Regional Myocardial Velocities': [5.627699375152588, 5.027752876281738], 'An Endoscope Interface for Immersive Virtual Reality': [6.970830917358398, 9.418291091918945], 'A Visual Analytics Approach for Patient Stratification and Biomarker Discovery': [8.12576675415039, 9.922415733337402], 'CT-Based Navigation Guidance for Liver Tumor Ablation': [6.254888534545898, 8.05549430847168], 'A Guided Spatial Transformer Network for Histology Cell Differentiation': [4.327696800231934, 7.911678791046143], 'Real-Time Visualization of 3D Amyloid-Beta Fibrils from 2D Cryo-EM Density Maps': [1.7833431959152222, 6.451416492462158], 'Design Considerations for Immersive Analytics of Bird Movements Obtained by Miniaturised GPS Sensors': [6.620078086853027, 9.772112846374512], 'A Web-Based Tool for Cardiac Dyssynchrony Assessment on Ultrasound Data': [5.557401180267334, 5.461658477783203], 'A Haptics-enabled Simulator for Transperineal Ultrasound-Guided Biopsy': [7.213743209838867, 7.940077304840088], 'Visual Assessment of Growth Prediction in Brain Structures after Pediatric Radiotherapy': [4.598945140838623, 7.351722240447998], 'Atomistic Visualization of Mesoscopic Whole-Cell Simulations': [1.738580346107483, 6.555109024047852], 'Visual Navigation Support for Liver Applicator Placement using Interactive Map Displays': [6.077054500579834, 8.291047096252441], 'Visualisation of PET data in the Fly Algorithm': [3.9058568477630615, 10.361963272094727], 'Multiple Scale Visualization of Electronic Health Records to Support Finding Medical Narratives': [7.69388484954834, 10.227826118469238], 'A Framework for Fast Initial Exploration of PC-MRI Cardiac Flow': [6.292972087860107, 5.557316780090332], 'Visualization and Exploration of 3D Toponome Data': [2.0506749153137207, 7.451842308044434], 'Generation of a Mean Motion Model of the Lung Using 4D-CT Image Data': [5.0275750160217285, 5.585920333862305], 'A Framework for Visual Comparison of 4D PC-MRI Aortic Blood Flow Data': [6.2516045570373535, 5.778833866119385], 'A Survey on Visualizing Magnetic Resonance Spectroscopy Data': [4.738832473754883, 6.993837833404541], 'Visual Exploratory Analysis for Multiple T-Maze Studies': [3.469822645187378, 6.565130233764648], 'The iCoCooN: Integration of Cobweb Charts with Parallel Coordinates for Visual Analysis of DCE-MRI Modeling Variations': [4.137723445892334, 6.203014373779297], 'Combining B-Mode and Color Flow Vessel Segmentation for Registration of Hepatic CT and Ultrasound Volumes': [6.635395526885986, 6.862081050872803], 'Chameleon - Dynamic Color Mapping for Multi-Scale Structural Biology Models': [2.5727195739746094, 9.224218368530273], 'Parametric-based Reconstruction Of 3D Mesh Models; Towards the Generation of a Parametric Human Foot Biomodel': [2.8363451957702637, 10.30404281616211], 'Interactive Labeling of Toponome Data': [2.2309138774871826, 7.796118259429932], 'Evolutionary Pathlines for Blood Flow Exploration in Cerebral Aneurysms': [6.737410068511963, 5.516469955444336], 'Graph Averaging as a Means to Compare Multichannel EEG Coherence Networks': [3.553917169570923, 10.420642852783203], 'Accelerated Diffusion Operators for Enhancing DW-MRI': [3.068053960800171, 5.132719993591309], 'DockVis: Visual Analysis of Molecular Docking Data': [2.084686756134033, 6.575525760650635], 'Automatic Segmentation of the Pelvic Bones from CT Data Based on a Statistical Shape Model': [3.177842855453491, 10.265019416809082], 'Using Position-Based Dynamics for Simulating the Mitral Valve in a Decision Support System': [6.090078830718994, 5.17644739151001], 'Visually Guided Mesh Smoothing for Medical Applications': [2.710836410522461, 9.8500394821167], 'Illustrative Multi-volume Rendering for PET-CT Scans': [5.186244487762451, 7.411463260650635], 'Visual Analytics in Digital Pathology: Challenges and Opportunities': [7.710155010223389, 10.069962501525879], 'Graxels: Information Rich Primitives for the Visualization of Time-Dependent Spatial Data': [2.7637252807617188, 8.976614952087402], 'Parameterization and Feature Extraction for the Visualization of Tree-like Structures': [2.6732819080352783, 9.871760368347168], 'Interactive Visualization of Muscle Activity During Limb Movements: Towards Enhanced Anatomy Learning': [7.347886562347412, 8.599481582641602], 'Importance-Driven Structure Categorization for 3D Surgery Planning': [5.879228591918945, 9.441393852233887], 'Visibility-Driven Processing of Streaming Volume Data': [3.45747709274292, 9.415461540222168], 'Impact of Physical Noise Modeling on Image Segmentation in Echocardiography': [4.516361236572266, 9.89924144744873], 'An Integrated Platform for Dynamic Cardiac Simulation and Image Processing: Application to Personalised Tetralogy of Fallot Simulation': [5.858254909515381, 9.186178207397461], 'Computation of More Channels in Protein Molecules': [1.8733474016189575, 6.633375644683838], 'Interactive Exploded Views for Molecular Structures': [2.0318310260772705, 6.4812798500061035], 'Feasibility Study For Automatic Bird Tracking and Visualization from Time-Dependent Marine Radar Imagery': [6.404279708862305, 9.895464897155762], 'Exploration of Interventricular Septum Motion in Multi-Cycle Cardiac MRI': [5.791360378265381, 5.1080803871154785], 'Real-Time Dense Nucleus Selection from Confocal Data': [2.4560937881469727, 8.40022087097168], 'Lowest-Variance Streamlines for Filtering of 3D Ultrasound': [4.404228687286377, 10.177262306213379], 'Uncertainty Estimation and Visualization for Multi-modal Image Segmentation': [4.110008239746094, 8.89953327178955], 'Constrained Labeling of 2D Slice Data for Reading Images in Radiology': [5.338601589202881, 9.000894546508789], 'Computational Steering for Patient-Specific Implant Planning in Orthopedics': [2.8033010959625244, 10.455774307250977], 'VisualFlatter - Visual Analysis of Distortions in the Projection of Biomedical Structures': [4.13864803314209, 9.218381881713867], 'Tractography in Context: Multimodal Visualization of Probabilistic Tractograms in Anatomical Context': [2.786555767059326, 8.723298072814941], 'Progressive and Efficient Multi-Resolution Representations for Brain Tractograms': [2.8497891426086426, 8.860156059265137], 'A New Vessel Enhancement Transform on Retinal Blood Vessels Segmentation': [7.084787845611572, 4.747964382171631], 'SpectraMosaic: An Exploratory Tool for the Interactive Visual Analysis of Magnetic Resonance Spectroscopy Data': [4.403336524963379, 6.82484245300293], 'A Prototype Holographic Augmented Reality Interface for Image-Guided Prostate Cancer Interventions': [7.631826400756836, 7.7576751708984375], 'Computation and Visualization of Asynchronous Behavior of the Heart': [5.25148344039917, 5.472342014312744], 'Automatic Real-time Annotation of Important Landmarks in Ultrasound-Guided Femoral Nerve Blocks': [6.990175247192383, 4.183967590332031], 'Projection Mapping for In-Situ Surgery Planning by the Example of DIEP Flap Breast Reconstruction': [6.1148905754089355, 8.122182846069336], 'Membrane Mapping: Combining Mesoscopic and Molecular Cell Visualization': [1.4831655025482178, 6.511317729949951], 'Improving Perception of Molecular Surface Visualizations by Incorporating Translucency Effects': [1.4499107599258423, 6.691771507263184], 'Protein Tunnel Reprojection for Physico-Chemical Property Analysis': [0.9828932285308838, 6.497906684875488], 'Combining Pseudo Chroma Depth Enhancement and Parameter Mapping for Vascular Surface Models': [2.5563807487487793, 9.429047584533691], 'Visualizing and Exploring Dynamic Multichannel EEG Coherence Networks': [1.4071012735366821, 8.404387474060059], 'UI-Net: Interactive Artificial Neural Networks for Iterative Image Segmentation Based on a User Model': [4.244907379150391, 9.013120651245117], 'Adapted Surface Visualization of Cerebral Aneurysms with Embedded Blood Flow Information': [7.0875654220581055, 5.327899932861328], 'FluoroSim: A Visual Problem-Solving Environment for Fluorescence Microscopy': [3.144237756729126, 9.26923942565918], 'Layer-Aware iOCT Volume Rendering for Retinal Surgery': [6.646045207977295, 7.680121421813965], 'Deriving Anatomical Context from 4D Ultrasound': [6.698484420776367, 6.842375755310059], 'Histology-Based Evaluation of Optical Coherence Tomographic Characteristics of the Cerebral Artery Wall via Virtual Inflating': [6.968339920043945, 4.5094218254089355], 'preha: Establishing Precision Rehabilitation with Visual Analytics': [8.353265762329102, 9.610783576965332], 'Visualization-Guided Evaluation of Simulated Minimally Invasive Cancer Treatment': [8.214125633239746, 9.539043426513672], 'InShaDe: Invariant Shape Descriptors for Visual Analysis of Histology 2D Cellular and Nuclear Shapes': [2.67406964302063, 10.123919486999512], 'VR Acrophobia Treatment - Development of Customizable Acrophobia Inducing Scenarios': [7.289490222930908, 9.750782012939453], 'A Critical Analysis of the Evaluation Practice in Medical Visualization': [8.003243446350098, 9.735270500183105], 'Estimation of Muscle Activity in One-Leg Stance from 3D Surface Deformation': [7.361556053161621, 8.467025756835938], 'Multiparametric Magnetic Resonance Image Synthesis using Generative Adversarial Networks': [4.286661624908447, 8.49289608001709], 'MedUse: A Visual Analysis Tool for Medication Use Data in the ABCD Study': [8.298990249633789, 9.858636856079102], 'Application of Image Processing Functions for Brain Tumor Enhancement in Intraoperative Ultrasound Image Data': [6.373801231384277, 7.055637836456299], 'Volume Visualization Using Principal Component Analysis': [3.3564188480377197, 9.690040588378906], 'Robust Cardiac Function Assessment in 4D PC-MRI Data': [6.1486029624938965, 5.258637428283691], 'Distance Field Visualization and 2D Abstraction of Vessel Tree Structures with on-the-fly Parameterization': [2.4212117195129395, 10.234809875488281], 'Automatic Generation of Web-Based User Studies to Evaluate Depth Perception in Vascular Surface Visualizations': [6.5590386390686035, 9.884069442749023], 'Aortic Dissection Maps: Comprehensive Visualization of Aortic Dissections for Risk Assessment': [7.0377960205078125, 5.300205230712891], 'Motion-moderated Transfer Function for Volume Rendering 4D CMR Data': [6.005899906158447, 5.161174774169922], 'Ultrasound Decompression for Large Field-of-View Reconstructions': [4.254477024078369, 10.401150703430176], 'Iterative Exploration of Big Brain Network Data': [1.502975583076477, 8.103958129882812], 'Comparative Visualization for Diffusion Tensor Imaging Group Study at Multiple Levels of Detail': [3.5469465255737305, 5.708296775817871], 'Hybrid Visualization of Protein-Lipid and Protein-Protein Interaction': [1.68150794506073, 7.019092559814453], 'Focus + Context Rendering of Structured Biomedical Data': [3.377305507659912, 8.478503227233887], 'Annotated Dendrograms for Neurons From the Larval Fruit Fly Brain': [0.9847623109817505, 8.21181869506836], 'Multi-fiber Estimation and Tractography for Diffusion MRI using mixture of Non-central Wishart Distributions': [2.9193198680877686, 5.083558559417725], 'PerSleep: A Visual Analytics Approach for Performance Assessment of Sleep Staging Models': [7.872602462768555, 10.017321586608887], 'Strategies for Generating Multi-Time Frame Localization of Cardiac MRI': [6.529351234436035, 6.19102144241333], 'InkVis: A High-Particle-Count Approach for Visualization of Phase-Contrast Magnetic Resonance Imaging Data': [6.145819187164307, 6.004501819610596], 'Sline: Seamless Line Illustration for Interactive Biomedical Visualization': [5.8025336265563965, 9.319361686706543], 'A Web-based Application for the Visual Exploration of Colon Morphology Data': [4.536836624145508, 6.225873947143555], 'A General Approach to Model Biomedical Data from 3D Unorganised Point Clouds with Medial Scaffolds': [2.5945076942443848, 10.29297161102295], 'Real-Time Guidance and Anatomical Information by Image Projection onto Patients': [6.24534797668457, 8.277122497558594], 'Interactive Visual Similarity Analysis of Measured and Simulated Multi-field Tubular Flow Ensembles': [5.921374797821045, 5.85745906829834], 'Polar Space Based Shape Averaging for Star-shaped Biological Objects': [2.90054988861084, 9.754764556884766], 'Bone Fracture and Lesion Assessment using Shape-Adaptive Unfolding': [7.3299078941345215, 4.707999229431152], 'Automated Slice-Based Artery Identification in Various Field-of-View CTA Scans': [6.8562421798706055, 4.037924766540527], 'A Comparative User Study of a 2D and an Autostereoscopic 3D Display for a Tympanoplastic Surgery': [7.56177282333374, 7.835090160369873], 'Haptics-based Modelling of Pigmented Skin Lesions': [4.542999744415283, 7.262582302093506], 'Ontology-Based Visualization of Hierarchical Neuroanatomical Structures': [1.5743194818496704, 8.04212474822998], 'A Feasibility Study on Automated Protein Aggregate Characterization Utilizing a Hybrid Classification Model': [3.575883626937866, 6.924616813659668], 'Visual Analytics of Missing Data in Epidemiological Cohort Studies': [8.384483337402344, 9.670544624328613], 'Robust Classification and Analysis of Anatomical Surfaces Using 3D Skeletons': [2.4568300247192383, 10.187496185302734], 'Medical Animations: A Survey and a Research Agenda': [6.3847975730896, 9.72355842590332], 'VRIDAA: Virtual Reality Platform for Training and Planning Implantations of Occluder Devices in Left Atrial Appendages': [7.500222206115723, 7.792974472045898], 'Schematic Electrode Map for Navigation in Neuro Data Sets': [5.942655086517334, 8.366211891174316], 'FoldSynth: Interactive 2D-3D Visualisation Platform for Molecular Strands': [1.2170674800872803, 6.571974754333496], 'Misalignment Correction in Open Cone-Beam CT': [4.118232727050781, 10.440339088439941], 'Reducing Model Uncertainty in Crossing Fiber Tractography': [3.005065679550171, 5.046394348144531], 'VirtualDSA++: Automated Segmentation, Vessel Labeling, Occlusion Detection and Graph Search on CT-Angiography Data': [6.95676851272583, 4.159257411956787], 'Visual Analysis of Multivariate Intensive Care Surveillance Data': [8.254530906677246, 9.649701118469238], 'Introducing CNN-Based Mouse Grim Scale Analysis for Fully Automated Image-Based Assessment of Distress in Laboratory Mice': [5.253856182098389, 8.293813705444336], 'PATHONE: From one Thousand Patients to one Cell': [8.0184907913208, 9.917842864990234], 'Glyph-Based Visualization of Myocardial Perfusion Data and Enhancement with Contractility and Viability Information': [6.075449466705322, 4.642669677734375], 'Uncertainty-aware Brain Lesion Visualization': [4.6089582443237305, 7.279530048370361], 'Semantic Screen-Space Occlusion for Multiscale Molecular Visualization': [2.4810261726379395, 9.129798889160156], 'Fast and Smooth Interactive Segmentation of Medical Images Using Variational Interpolation': [2.795969247817993, 9.71046257019043], 'Inlier Detection in Thermal Sensitive Images': [3.3240838050842285, 10.080357551574707], 'Pelvis Runner: Visualizing Pelvic Organ Variability in a Cohort of Radiotherapy Patients': [8.155904769897461, 9.358924865722656], 'Automatic Hepatocyte Quantification from Histological Images: Comparing Pre-smoothing filters': [3.5953969955444336, 10.070930480957031], 'Concentric Circle Glyphs for Enhanced Depth-Judgment in Vascular Models': [5.044837951660156, 9.078370094299316], 'Dynamic Visualisation of Orbital Fat Deformation using Anatomy-Guided Interaction': [2.2814197540283203, 10.429808616638184], 'Anatomical Volume Visualization with Weighted Distance Fields': [3.3672268390655518, 9.83181381225586], 'A Haptic Rendering Algorithm for Molecular Interaction': [1.3407607078552246, 6.638003349304199], 'RegistrationShop: An Interactive 3D Medical Volume Registration System': [7.524905681610107, 7.6484222412109375], 'Interactive Multimodal Imaging Visualization for Multiple Sclerosis Lesion Analysis': [4.636114120483398, 7.125298500061035], 'Instant Visualization of Secondary Structures of Molecular Models': [1.7169592380523682, 6.5686354637146], 'Colonic Content Assessment from MRI Imaging Using a Semi-automatic Approach': [4.6198906898498535, 6.36214017868042], 'Unfolding and Interactive Exploration of Protein Tunnels and their Dynamics': [1.414128065109253, 6.808773517608643]}\n",
      "wrote to a file\n"
     ]
    }
   ],
   "source": [],
   "metadata": {
    "collapsed": false,
    "pycharm": {
     "name": "#%%\n"
    }
   }
  },
  {
   "cell_type": "code",
   "execution_count": 12,
   "outputs": [],
   "source": [],
   "metadata": {
    "collapsed": false,
    "pycharm": {
     "name": "#%%\n"
    }
   }
  },
  {
   "cell_type": "code",
   "execution_count": null,
   "outputs": [],
   "source": [],
   "metadata": {
    "collapsed": false,
    "pycharm": {
     "name": "#%%\n"
    }
   }
  },
  {
   "cell_type": "code",
   "execution_count": null,
   "outputs": [],
   "source": [],
   "metadata": {
    "collapsed": false,
    "pycharm": {
     "name": "#%%\n"
    }
   }
  },
  {
   "cell_type": "code",
   "execution_count": null,
   "outputs": [],
   "source": [],
   "metadata": {
    "collapsed": false,
    "pycharm": {
     "name": "#%%\n"
    }
   }
  },
  {
   "cell_type": "code",
   "execution_count": null,
   "outputs": [],
   "source": [],
   "metadata": {
    "collapsed": false,
    "pycharm": {
     "name": "#%%\n"
    }
   }
  },
  {
   "cell_type": "code",
   "execution_count": null,
   "outputs": [],
   "source": [],
   "metadata": {
    "collapsed": false,
    "pycharm": {
     "name": "#%%\n"
    }
   }
  },
  {
   "cell_type": "code",
   "execution_count": null,
   "outputs": [],
   "source": [],
   "metadata": {
    "collapsed": false,
    "pycharm": {
     "name": "#%%\n"
    }
   }
  },
  {
   "cell_type": "code",
   "execution_count": null,
   "outputs": [],
   "source": [],
   "metadata": {
    "collapsed": false,
    "pycharm": {
     "name": "#%%\n"
    }
   }
  },
  {
   "cell_type": "code",
   "execution_count": null,
   "outputs": [],
   "source": [],
   "metadata": {
    "collapsed": false,
    "pycharm": {
     "name": "#%%\n"
    }
   }
  },
  {
   "cell_type": "code",
   "execution_count": null,
   "outputs": [],
   "source": [],
   "metadata": {
    "collapsed": false,
    "pycharm": {
     "name": "#%%\n"
    }
   }
  },
  {
   "cell_type": "code",
   "execution_count": null,
   "outputs": [],
   "source": [],
   "metadata": {
    "collapsed": false,
    "pycharm": {
     "name": "#%%\n"
    }
   }
  },
  {
   "cell_type": "code",
   "execution_count": null,
   "outputs": [],
   "source": [],
   "metadata": {
    "collapsed": false,
    "pycharm": {
     "name": "#%%\n"
    }
   }
  }
 ],
 "metadata": {
  "kernelspec": {
   "display_name": "Python 3",
   "language": "python",
   "name": "python3"
  },
  "language_info": {
   "codemirror_mode": {
    "name": "ipython",
    "version": 2
   },
   "file_extension": ".py",
   "mimetype": "text/x-python",
   "name": "python",
   "nbconvert_exporter": "python",
   "pygments_lexer": "ipython2",
   "version": "2.7.6"
  }
 },
 "nbformat": 4,
 "nbformat_minor": 0
}