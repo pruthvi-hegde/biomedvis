{
 "cells": [
  {
   "cell_type": "code",
   "execution_count": 36,
   "outputs": [
    {
     "name": "stderr",
     "output_type": "stream",
     "text": [
      "[nltk_data] Downloading package omw-1.4 to /Users/prush/nltk_data...\n",
      "[nltk_data]   Package omw-1.4 is already up-to-date!\n",
      "[nltk_data] Downloading package wordnet to /Users/prush/nltk_data...\n",
      "[nltk_data]   Package wordnet is already up-to-date!\n",
      "[nltk_data] Downloading package stopwords to /Users/prush/nltk_data...\n",
      "[nltk_data]   Package stopwords is already up-to-date!\n",
      "[nltk_data] Downloading package punkt to /Users/prush/nltk_data...\n",
      "[nltk_data]   Package punkt is already up-to-date!\n"
     ]
    }
   ],
   "source": [
    "\n",
    "\n",
    "import nltk\n",
    "\n",
    "nltk.download('omw-1.4')\n",
    "nltk.download('wordnet')\n",
    "nltk.download('stopwords')\n",
    "nltk.download('punkt')\n",
    "\n",
    "from flair.data import Sentence"
   ],
   "metadata": {
    "collapsed": false
   }
  },
  {
   "cell_type": "code",
   "execution_count": 37,
   "outputs": [],
   "source": [
    "import json\n",
    "from flair.embeddings import TransformerDocumentEmbeddings\n",
    "\n",
    "#\n",
    "model = TransformerDocumentEmbeddings(\"microsoft/BiomedNLP-PubMedBERT-base-uncased-abstract\")"
   ],
   "metadata": {
    "collapsed": false
   }
  },
  {
   "cell_type": "code",
   "execution_count": 38,
   "outputs": [],
   "source": [
    "# embed the sentence\n",
    "def get_bert_embeddings(text):\n",
    "    sent = Sentence(text)\n",
    "    sent = model.embed(sent)[0]\n",
    "    return sent"
   ],
   "metadata": {
    "collapsed": false
   }
  },
  {
   "cell_type": "code",
   "execution_count": 39,
   "outputs": [],
   "source": [
    "with open('../articles_data/all_articles_with_thumbnail_metadata.json') as f:\n",
    "    papers = json.load(f)\n"
   ],
   "metadata": {
    "collapsed": false
   }
  },
  {
   "cell_type": "code",
   "execution_count": 40,
   "outputs": [],
   "source": [
    "article_texts = [paper['article_title'] + '. ' + paper['abstract'] for paper in papers]\n",
    "article_titles = [paper['article_title'] for paper in papers]"
   ],
   "metadata": {
    "collapsed": false
   }
  },
  {
   "cell_type": "code",
   "execution_count": 41,
   "outputs": [],
   "source": [
    "# import numpy as np\n",
    "# doc_emb = []\n",
    "# for article in article_texts:\n",
    "#     article_sentences = article.split('. ')\n",
    "#     emb = [get_bert_embeddings(sentence).embedding.tolist() for sentence in article_sentences]\n",
    "#     doc_emb.append(list(np.mean(emb, axis=0)))"
   ],
   "metadata": {
    "collapsed": false
   }
  },
  {
   "cell_type": "code",
   "execution_count": 42,
   "outputs": [],
   "source": [
    "# len(doc_emb[0])"
   ],
   "metadata": {
    "collapsed": false
   }
  },
  {
   "cell_type": "code",
   "execution_count": 43,
   "outputs": [],
   "source": [
    "\n",
    "doc_emb = [get_bert_embeddings(article).embedding.tolist() for article in article_texts]"
   ],
   "metadata": {
    "collapsed": false
   }
  },
  {
   "cell_type": "code",
   "execution_count": 44,
   "outputs": [],
   "source": [
    "\n",
    "# doc_emb = [get_bert_embeddings(article).embedding.tolist() for article in article_texts]"
   ],
   "metadata": {
    "collapsed": false
   }
  },
  {
   "cell_type": "code",
   "execution_count": 45,
   "outputs": [
    {
     "data": {
      "text/plain": "236"
     },
     "execution_count": 45,
     "metadata": {},
     "output_type": "execute_result"
    }
   ],
   "source": [
    "len(doc_emb)"
   ],
   "metadata": {
    "collapsed": false
   }
  },
  {
   "cell_type": "code",
   "execution_count": 46,
   "outputs": [],
   "source": [
    "from umap import UMAP\n",
    "\n",
    "umap_embeddings = UMAP(n_neighbors=5, n_components=2, metric='cosine', random_state=42)\n",
    "low_dim_embeddings = umap_embeddings.fit_transform(doc_emb)\n",
    "low_dim_embeddings = low_dim_embeddings.tolist()"
   ],
   "metadata": {
    "collapsed": false
   }
  },
  {
   "cell_type": "code",
   "execution_count": 47,
   "outputs": [],
   "source": [
    "\n",
    "result = dict(zip(article_titles, doc_emb))\n",
    "with open('../embeddings/high_dimension/pubmedbert_high_dim.json', 'w') as f:\n",
    "    json.dump(result, f)\n",
    "\n",
    "result_intermediary = dict(zip(article_titles, low_dim_embeddings))\n",
    "with open('../embeddings/low_dimension/pubmedbert_low_dim.json', 'w') as f:\n",
    "    json.dump(result_intermediary, f)"
   ],
   "metadata": {
    "collapsed": false
   }
  }
 ],
 "metadata": {
  "kernelspec": {
   "display_name": "Python 3",
   "language": "python",
   "name": "python3"
  },
  "language_info": {
   "codemirror_mode": {
    "name": "ipython",
    "version": 2
   },
   "file_extension": ".py",
   "mimetype": "text/x-python",
   "name": "python",
   "nbconvert_exporter": "python",
   "pygments_lexer": "ipython2",
   "version": "2.7.6"
  }
 },
 "nbformat": 4,
 "nbformat_minor": 0
}
