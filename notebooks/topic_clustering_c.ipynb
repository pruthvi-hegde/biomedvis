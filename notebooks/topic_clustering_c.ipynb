{
 "cells": [
  {
   "cell_type": "code",
   "execution_count": 57,
   "metadata": {
    "collapsed": true
   },
   "outputs": [],
   "source": [
    "from bertopic import BERTopic\n",
    "from sklearn.datasets import fetch_20newsgroups\n",
    "from sentence_transformers import SentenceTransformer\n",
    "import umap\n",
    "import hdbscan\n",
    "import matplotlib.pyplot as plt\n",
    "import pandas as pd\n",
    "import json\n",
    "import numpy as np\n",
    "from sklearn.feature_extraction.text import CountVectorizer"
   ]
  },
  {
   "cell_type": "code",
   "execution_count": 58,
   "outputs": [],
   "source": [
    "model = SentenceTransformer('allenai-specter')"
   ],
   "metadata": {
    "collapsed": false,
    "pycharm": {
     "name": "#%%\n"
    }
   }
  },
  {
   "cell_type": "code",
   "execution_count": 437,
   "outputs": [],
   "source": [
    "\n"
   ],
   "metadata": {
    "collapsed": false,
    "pycharm": {
     "name": "#%%\n"
    }
   }
  },
  {
   "cell_type": "code",
   "execution_count": 460,
   "outputs": [],
   "source": [
    "with open('../articles_data/all_articles_with_thumbnail_metadata.json') as f:\n",
    "    papers = json.load(f)\n",
    "\n",
    "# docs = [paper['article_title'] + ' ' + paper['abstract'] for paper in papers]\n",
    "# doc_titles = [paper['article_title'] for paper in papers]\n",
    "# doc_years = [paper['published_year'] for paper in papers]\n",
    "#\n",
    "#\n",
    "# embeddings = model.encode(docs, show_progress_bar=True)\n"
   ],
   "metadata": {
    "collapsed": false,
    "pycharm": {
     "name": "#%%\n"
    }
   }
  },
  {
   "cell_type": "code",
   "execution_count": 461,
   "outputs": [],
   "source": [
    "f = open(f'../embeddings/high_dimension/allenai_specter_high_dim.json')\n",
    "data = json.load(f)\n",
    "doc_titles = list(data.keys())\n",
    "embeddings = list(data.values())\n",
    "docs =[paper['article_title'] + '. ' + paper['abstract'] for paper in papers]\n",
    "doc_years = [paper['published_year'] for paper in papers]"
   ],
   "metadata": {
    "collapsed": false,
    "pycharm": {
     "name": "#%%\n"
    }
   }
  },
  {
   "cell_type": "code",
   "execution_count": 532,
   "outputs": [],
   "source": [
    "from sklearn.cluster import AgglomerativeClustering\n",
    "import json\n",
    "\n",
    "\n",
    "def docvec():\n",
    "    # docs = fetch_20newsgroups(subset='all', remove=('headers', 'footers', 'quotes'))['data']\n",
    "    # docs = docs[0:100]\n",
    "\n",
    "\n",
    "    # umap_embeddings = umap.UMAP(n_neighbors=5,\n",
    "    #                             n_components=5,\n",
    "    #                             metric='cosine').fit_transform(embeddings)\n",
    "\n",
    "    # cluster = hdbscan.HDBSCAN(min_cluster_size=3,\n",
    "    #                           metric='euclidean',\n",
    "    #                           cluster_selection_method='eom').fit(umap_embeddings)\n",
    "    corpus_embeddings = embeddings /  np.linalg.norm(embeddings, axis=1, keepdims=True)\n",
    "    cluster = AgglomerativeClustering(affinity='cosine', linkage='average', distance_threshold=None, n_clusters=22).fit(corpus_embeddings) #, affinity='cosine', linkage='average', distance_threshold=0.4)\n",
    "\n",
    "\n",
    "\n",
    "    # Prepare data\n",
    "    umap_data = umap.UMAP(n_neighbors=5, n_components=2, metric='cosine').fit_transform(corpus_embeddings)\n",
    "    result = pd.DataFrame(umap_data, columns=['x', 'y'])\n",
    "    result['labels'] = cluster.labels_\n",
    "    result['titles'] = doc_titles\n",
    "    result['years'] = doc_years\n",
    "    print(cluster.labels_.max())\n",
    "\n",
    "\n",
    "    docs_df = pd.DataFrame(docs, columns=[\"Doc\"])\n",
    "    docs_df['Topic'] = cluster.labels_\n",
    "    docs_df['Titles'] = doc_titles\n",
    "    docs_df['Years'] = doc_years\n",
    "    docs_df['Doc_ID'] = range(len(docs_df))\n",
    "    docs_per_topic = docs_df.groupby(['Topic'], as_index=False).agg({'Doc': ' '.join,'Years':set})\n",
    "    return result,cluster, docs_df, docs_per_topic"
   ],
   "metadata": {
    "collapsed": false,
    "pycharm": {
     "name": "#%%\n"
    }
   }
  },
  {
   "cell_type": "code",
   "execution_count": 533,
   "outputs": [
    {
     "name": "stdout",
     "output_type": "stream",
     "text": [
      "21\n"
     ]
    }
   ],
   "source": [
    "\n",
    "\n",
    "result,cluster, docs_df, docs_per_topic = docvec()\n"
   ],
   "metadata": {
    "collapsed": false,
    "pycharm": {
     "name": "#%%\n"
    }
   }
  },
  {
   "cell_type": "code",
   "execution_count": 534,
   "outputs": [
    {
     "data": {
      "text/plain": "    Topic                                                Doc  \\\n0       0  Pelvis Runner: Visualizing Pelvic Organ Variab...   \n1       1  Automatic Segmentation of the Pelvic Bones fro...   \n2       2  Interactive Exploded Views for Molecular Struc...   \n3       3  Introducing CNN-Based Mouse Grim Scale Analysi...   \n4       4  Real-Time Guidance and Anatomical Information ...   \n5       5  Visual Exploratory Analysis for Multiple T-Maz...   \n6       6  Semantic Segmentation of Brain Tumors in MRI D...   \n7       7  Haptics-based Modelling of Pigmented Skin Lesi...   \n8       8  Student and Teacher Meet in a Shared Virtual R...   \n9       9  Using Position-Based Dynamics for Simulating t...   \n10     10  An Exploration of Practice and Preferences for...   \n11     11  Feasibility Study For Automatic Bird Tracking ...   \n12     12  A Feasibility Study on Automated Protein Aggre...   \n13     13  A Multilinear Model for Bidirectional Craniofa...   \n14     14  Colonic Content Assessment from MRI Imaging Us...   \n15     15  Challenges and Technologies for Low Cost Wheel...   \n16     16  Layer-Aware iOCT Volume Rendering for Retinal ...   \n17     17  VR Acrophobia Treatment - Development of Custo...   \n18     18  A Guided Spatial Transformer Network for Histo...   \n19     19  PerSleep: A Visual Analytics Approach for Perf...   \n20     20  Maximizing AUC with Deep Learning for Classifi...   \n21     21  Ontology-Based Visualization of Hierarchical N...   \n\n                                                Years  \n0   {2010, 2016, 2021, 2019, 2008, 2015, 2020, 201...  \n1          {2010, 2016, 2008, 2015, 2017, 2014, 2012}  \n2   {2021, 2016, 2019, 2008, 2015, 2020, 2017, 201...  \n3                                        {2017, 2018}  \n4                {2016, 2021, 2015, 2020, 2014, 2018}  \n5                                  {2018, 2014, 2012}  \n6   {2010, 2021, 2019, 2020, 2015, 2017, 2014, 201...  \n7                                        {2008, 2015}  \n8                                        {2014, 2020}  \n9                                        {2019, 2010}  \n10                     {2021, 2019, 2015, 2020, 2017}  \n11                                       {2017, 2019}  \n12                                             {2016}  \n13                                             {2018}  \n14                                       {2019, 2008}  \n15                                             {2015}  \n16                                       {2019, 2020}  \n17                                             {2020}  \n18                                       {2017, 2020}  \n19                                             {2021}  \n20                                             {2017}  \n21         {2010, 2019, 2008, 2015, 2017, 2018, 2012}  ",
      "text/html": "<div>\n<style scoped>\n    .dataframe tbody tr th:only-of-type {\n        vertical-align: middle;\n    }\n\n    .dataframe tbody tr th {\n        vertical-align: top;\n    }\n\n    .dataframe thead th {\n        text-align: right;\n    }\n</style>\n<table border=\"1\" class=\"dataframe\">\n  <thead>\n    <tr style=\"text-align: right;\">\n      <th></th>\n      <th>Topic</th>\n      <th>Doc</th>\n      <th>Years</th>\n    </tr>\n  </thead>\n  <tbody>\n    <tr>\n      <th>0</th>\n      <td>0</td>\n      <td>Pelvis Runner: Visualizing Pelvic Organ Variab...</td>\n      <td>{2010, 2016, 2021, 2019, 2008, 2015, 2020, 201...</td>\n    </tr>\n    <tr>\n      <th>1</th>\n      <td>1</td>\n      <td>Automatic Segmentation of the Pelvic Bones fro...</td>\n      <td>{2010, 2016, 2008, 2015, 2017, 2014, 2012}</td>\n    </tr>\n    <tr>\n      <th>2</th>\n      <td>2</td>\n      <td>Interactive Exploded Views for Molecular Struc...</td>\n      <td>{2021, 2016, 2019, 2008, 2015, 2020, 2017, 201...</td>\n    </tr>\n    <tr>\n      <th>3</th>\n      <td>3</td>\n      <td>Introducing CNN-Based Mouse Grim Scale Analysi...</td>\n      <td>{2017, 2018}</td>\n    </tr>\n    <tr>\n      <th>4</th>\n      <td>4</td>\n      <td>Real-Time Guidance and Anatomical Information ...</td>\n      <td>{2016, 2021, 2015, 2020, 2014, 2018}</td>\n    </tr>\n    <tr>\n      <th>5</th>\n      <td>5</td>\n      <td>Visual Exploratory Analysis for Multiple T-Maz...</td>\n      <td>{2018, 2014, 2012}</td>\n    </tr>\n    <tr>\n      <th>6</th>\n      <td>6</td>\n      <td>Semantic Segmentation of Brain Tumors in MRI D...</td>\n      <td>{2010, 2021, 2019, 2020, 2015, 2017, 2014, 201...</td>\n    </tr>\n    <tr>\n      <th>7</th>\n      <td>7</td>\n      <td>Haptics-based Modelling of Pigmented Skin Lesi...</td>\n      <td>{2008, 2015}</td>\n    </tr>\n    <tr>\n      <th>8</th>\n      <td>8</td>\n      <td>Student and Teacher Meet in a Shared Virtual R...</td>\n      <td>{2014, 2020}</td>\n    </tr>\n    <tr>\n      <th>9</th>\n      <td>9</td>\n      <td>Using Position-Based Dynamics for Simulating t...</td>\n      <td>{2019, 2010}</td>\n    </tr>\n    <tr>\n      <th>10</th>\n      <td>10</td>\n      <td>An Exploration of Practice and Preferences for...</td>\n      <td>{2021, 2019, 2015, 2020, 2017}</td>\n    </tr>\n    <tr>\n      <th>11</th>\n      <td>11</td>\n      <td>Feasibility Study For Automatic Bird Tracking ...</td>\n      <td>{2017, 2019}</td>\n    </tr>\n    <tr>\n      <th>12</th>\n      <td>12</td>\n      <td>A Feasibility Study on Automated Protein Aggre...</td>\n      <td>{2016}</td>\n    </tr>\n    <tr>\n      <th>13</th>\n      <td>13</td>\n      <td>A Multilinear Model for Bidirectional Craniofa...</td>\n      <td>{2018}</td>\n    </tr>\n    <tr>\n      <th>14</th>\n      <td>14</td>\n      <td>Colonic Content Assessment from MRI Imaging Us...</td>\n      <td>{2019, 2008}</td>\n    </tr>\n    <tr>\n      <th>15</th>\n      <td>15</td>\n      <td>Challenges and Technologies for Low Cost Wheel...</td>\n      <td>{2015}</td>\n    </tr>\n    <tr>\n      <th>16</th>\n      <td>16</td>\n      <td>Layer-Aware iOCT Volume Rendering for Retinal ...</td>\n      <td>{2019, 2020}</td>\n    </tr>\n    <tr>\n      <th>17</th>\n      <td>17</td>\n      <td>VR Acrophobia Treatment - Development of Custo...</td>\n      <td>{2020}</td>\n    </tr>\n    <tr>\n      <th>18</th>\n      <td>18</td>\n      <td>A Guided Spatial Transformer Network for Histo...</td>\n      <td>{2017, 2020}</td>\n    </tr>\n    <tr>\n      <th>19</th>\n      <td>19</td>\n      <td>PerSleep: A Visual Analytics Approach for Perf...</td>\n      <td>{2021}</td>\n    </tr>\n    <tr>\n      <th>20</th>\n      <td>20</td>\n      <td>Maximizing AUC with Deep Learning for Classifi...</td>\n      <td>{2017}</td>\n    </tr>\n    <tr>\n      <th>21</th>\n      <td>21</td>\n      <td>Ontology-Based Visualization of Hierarchical N...</td>\n      <td>{2010, 2019, 2008, 2015, 2017, 2018, 2012}</td>\n    </tr>\n  </tbody>\n</table>\n</div>"
     },
     "execution_count": 534,
     "metadata": {},
     "output_type": "execute_result"
    }
   ],
   "source": [
    "\n",
    "docs_per_topic"
   ],
   "metadata": {
    "collapsed": false,
    "pycharm": {
     "name": "#%%\n"
    }
   }
  },
  {
   "cell_type": "code",
   "execution_count": 535,
   "outputs": [
    {
     "data": {
      "text/plain": "{0: ['2010',\n  '2016',\n  '2021',\n  '2019',\n  '2008',\n  '2015',\n  '2020',\n  '2017',\n  '2014',\n  '2018',\n  '2012'],\n 1: ['2010', '2016', '2008', '2015', '2017', '2014', '2012'],\n 2: ['2021',\n  '2016',\n  '2019',\n  '2008',\n  '2015',\n  '2020',\n  '2017',\n  '2014',\n  '2018',\n  '2012'],\n 3: ['2017', '2018'],\n 4: ['2016', '2021', '2015', '2020', '2014', '2018'],\n 5: ['2018', '2014', '2012'],\n 6: ['2010', '2021', '2019', '2020', '2015', '2017', '2014', '2018', '2012'],\n 7: ['2008', '2015'],\n 8: ['2014', '2020'],\n 9: ['2019', '2010'],\n 10: ['2021', '2019', '2015', '2020', '2017'],\n 11: ['2017', '2019'],\n 12: ['2016'],\n 13: ['2018'],\n 14: ['2019', '2008'],\n 15: ['2015'],\n 16: ['2019', '2020'],\n 17: ['2020'],\n 18: ['2017', '2020'],\n 19: ['2021'],\n 20: ['2017'],\n 21: ['2010', '2019', '2008', '2015', '2017', '2018', '2012']}"
     },
     "execution_count": 535,
     "metadata": {},
     "output_type": "execute_result"
    }
   ],
   "source": [
    "\n",
    "index = list(docs_per_topic.Years)\n",
    "years_topic_wise = {i:list(index)\n",
    "               for i, index in enumerate(index)}\n",
    "years_topic_wise"
   ],
   "metadata": {
    "collapsed": false,
    "pycharm": {
     "name": "#%%\n"
    }
   }
  },
  {
   "cell_type": "code",
   "execution_count": 536,
   "outputs": [],
   "source": [
    "def c_tf_idf(documents, m, ngram_range=(1, 2)):\n",
    "    count = CountVectorizer(ngram_range=ngram_range, stop_words=\"english\").fit(documents)\n",
    "    t = count.transform(documents).toarray()\n",
    "    w = t.sum(axis=1)\n",
    "    tf = np.divide(t.T, w)\n",
    "    sum_t = t.sum(axis=0)\n",
    "    idf = np.log(np.divide(m, sum_t)).reshape(-1, 1)\n",
    "    tf_idf = np.multiply(tf, idf)\n",
    "\n",
    "    return tf_idf, count"
   ],
   "metadata": {
    "collapsed": false,
    "pycharm": {
     "name": "#%%\n"
    }
   }
  },
  {
   "cell_type": "code",
   "execution_count": 537,
   "outputs": [],
   "source": [
    "tf_idf, count = c_tf_idf(docs_per_topic.Doc.values, m=len(docs))"
   ],
   "metadata": {
    "collapsed": false,
    "pycharm": {
     "name": "#%%\n"
    }
   }
  },
  {
   "cell_type": "code",
   "execution_count": 538,
   "outputs": [],
   "source": [
    "def extract_top_n_words_per_topic(tf_idf, count, docs_per_topic, n):\n",
    "    words = count.get_feature_names()\n",
    "    labels = list(docs_per_topic.Topic)\n",
    "    tf_idf_transposed = tf_idf.T\n",
    "    indices = tf_idf_transposed.argsort()[:, -n:]\n",
    "    top_n_words = {label: [words[j] for j in indices[i]][::-1] for i, label in enumerate(labels)}\n",
    "    return top_n_words"
   ],
   "metadata": {
    "collapsed": false,
    "pycharm": {
     "name": "#%%\n"
    }
   }
  },
  {
   "cell_type": "code",
   "execution_count": 539,
   "outputs": [],
   "source": [
    "def extract_topic_sizes(df):\n",
    "    topic_sizes = (df.groupby(['Topic'])\n",
    "                     .Doc\n",
    "                     .count()\n",
    "                     .reset_index()\n",
    "                     .rename({\"Topic\": \"Topic\", \"Doc\": \"Size\"}, axis='columns')\n",
    "                     .sort_values(\"Size\", ascending=False))\n",
    "    return topic_sizes"
   ],
   "metadata": {
    "collapsed": false,
    "pycharm": {
     "name": "#%%\n"
    }
   }
  },
  {
   "cell_type": "code",
   "execution_count": 540,
   "outputs": [
    {
     "name": "stdout",
     "output_type": "stream",
     "text": [
      "{0: ['blood', 'flow', 'vessel', 'ultrasound', 'blood flow', 'volume', 'vascular', 'vessels', 'mri', 'evaluation'], 1: ['pet', 'ct', 'registration', 'implant', 'smoothing', 'lung', 'mesh', 'bone', 'modeling', 'correction'], 2: ['molecular', 'protein', 'proteins', 'tunnels', 'cell', 'molecule', 'molecules', 'tunnel', 'properties', 'biological'], 3: ['mgs', 'automated', 'distress', 'semi automated', 'fcn', 'mgs scoring', 'neural networks', 'scoring', 'mouse', 'animals'], 4: ['ar', 'reality', 'display', 'hmd', 'gesture', 'biopsy', 'device', 'craniotomy', 'augmented reality', 'touch'], 5: ['neurons', 'overlaps', 'synapses', 'maze', 'fruit fly', 'multiple maze', 'neuron', 'fruit', 'dendrograms', 'neural'], 6: ['diffusion', 'fiber', 'tensor', 'tractography', 'crossing', 'uncertainty', 'brain', 'tracts', 'diffusion tensor', 'matter'], 7: ['haptic', 'haptic rendering', 'haptics', 'skin', 'skin lesions', 'lesions', 'modelling', 'pigmented', 'spheres', 'pigmented skin'], 8: ['student', 'hand', 'teacher', 'activation', 'muscle', 'anatomy', 'muscle activation', 'prototype', 'learning', 'action'], 9: ['valve', 'mitral', 'mitral valve', 'simulation', 'interventions', 'closing', 'virtual interventions', 'simulate', 'cases', 'ablation'], 10: ['visual analytics', 'analytics', 'rehabilitation', 'biomedical', 'communication', 'discovery', 'knowledge', 'notes', 'intensive care', 'biomedical processes'], 11: ['bird', 'radar', 'radar images', 'immersive', 'immersive analytics', 'bird tracking', 'environments', 'environmental', 'marine', 'bird migration'], 12: ['hybrid classification', 'classification', 'characterization', 'hybrid', 'relying', 'segmentation tracking', 'stationary information', 'stationary', 'machine focusing', 'cells focus'], 13: ['skin', 'multilinear model', 'multilinear', 'muscular', 'activity', 'skin surface', 'fstt', 'emg', 'activation', 'deformation'], 14: ['colon', 'polyp', 'morphological', 'content', 'morphological data', 'polyp detection', 'partition', 'clustering', 'colonography', 'colon wall'], 15: ['wheelchair', 'low cost', 'simulator', 'world', 'simulators', 'electric', 'vr', 'training', 'cost', 'lack'], 16: ['glaucoma', 'trust', 'deep learning', 'intraoperative', 'glaucoma progression', 'based measurements', 'clinical decision', 'ioct', 'retinal', 'layer'], 17: ['acrophobia', 'phobias', 'specific phobias', 'motivation', 'therapy', 'options', 'implemented', 'concept', 'vr', 'development customizable'], 18: ['mitotic', 'histology', 'mitotic figures', 'invariant', 'invariance', 'figures', 'cell', 'cells', 'cellular nuclear', 'shape descriptors'], 19: ['sleep', 'sleep staging', 'staging', 'models', 'understand models', 'models trained', 'predictive models', 'performance', 'varies', 'predictive'], 20: ['deep', 'mammogram', 'mg', 'learning', 'deep learning', 'mil', 'inbreast', 'auc', 'learning methods', 'classification'], 21: ['networks', 'network', 'functional', 'connectivity', 'fu', 'eeg', 'brain', 'eeg coherence', 'coherence networks', 'fmri']}\n",
      "huggingface/tokenizers: The current process just got forked, after parallelism has already been used. Disabling parallelism to avoid deadlocks...\n",
      "To disable this warning, you can either:\n",
      "\t- Avoid using `tokenizers` before the fork if possible\n",
      "\t- Explicitly set the environment variable TOKENIZERS_PARALLELISM=(true | false)\n"
     ]
    },
    {
     "data": {
      "text/plain": "<Figure size 1440x720 with 1 Axes>",
      "image/png": "[encoded data removed]"
     },
     "metadata": {
      "needs_background": "light"
     },
     "output_type": "display_data"
    }
   ],
   "source": [
    "top_n_words = extract_top_n_words_per_topic(tf_idf, count, docs_per_topic, n=10)\n",
    "print(top_n_words)\n",
    "\n",
    "from collections import Counter\n",
    "import plotly.graph_objects as go\n",
    "import plotly.io as pio\n",
    "\n",
    "\n",
    "# Visualize clusters\n",
    "fig, ax = plt.subplots(figsize=(20, 10))\n",
    "outliers = result.loc[result.labels == -1, :]\n",
    "clustered = result.loc[result.labels != -1, :]\n",
    "\n",
    "# outlier_years = list(years_topic_wise[-1])\n",
    "clustered_years = [value for key, value in years_topic_wise.items() if key!=1]\n",
    "\n",
    "\n",
    "plot_top=Counter() # to get only distinct labels, replace with a set and add a check here [1]\n",
    "top_terms = top_n_words\n",
    "\n",
    "for key, a in top_terms.items():\n",
    "  k = []\n",
    "  for i in a:\n",
    "    for j in a:\n",
    "        if  i!=j and i in j:\n",
    "            k.append(i)\n",
    "\n",
    "  top_terms[key] = list(filter(lambda i: i not in k, a))\n",
    "\n",
    "for  b in clustered_years:\n",
    "        k=b\n",
    "        k=b.sort()\n",
    "\n",
    "\n",
    "topic_years = ['.'.join(str(e) for e in years_topic_wise[item]) for item in clustered.labels]\n",
    "topic_years_outliers = ['.'.join(str(e) for e in years_topic_wise[item]) for item in outliers.labels]\n",
    "\n",
    "\n",
    "\n",
    "top_terms_docs = ['.'.join(str(e) for e in top_terms[item]) for item in clustered.labels]\n",
    "top_terms_docs_outliers = ['.'.join(str(e) for e in top_terms[item]) for item in outliers.labels]\n",
    "\n",
    "df1 = pd.DataFrame({'a':top_terms_docs_outliers,'b':topic_years_outliers})\n",
    "\n",
    "df2 = pd.DataFrame({'a':top_terms_docs, 'b':topic_years})\n",
    "\n",
    "\n",
    "pio.renderers.default = \"browser\"\n",
    "import plotly.express as px\n",
    "df = px.data.iris()\n",
    "fig = px.scatter(x=clustered.x, y=clustered.y, color=top_terms_docs, hover_name=clustered.titles,\n",
    "                 labels={\"color\" : \"Topics\"}, hover_data=[df2['b']])\n",
    "\n",
    "# fig.add_trace(go.Scatter(customdata=df2, mode='markers', hovertext=clustered.titles,\n",
    "#                                     hovertemplate='<b>%{hovertext}<br></b><br><br>years = %{customdata[1]}<br>Topic= %{customdata[0]}</br>'\n",
    "#                                      ))\n",
    "fig.add_trace(go.Scatter(x=outliers.x, y=outliers.y,customdata=df1, mode='markers', showlegend=True, hovertext=outliers.titles,\n",
    "                                     marker=dict(\n",
    "                                         color='#BDBDBD',\n",
    "                                     ),\n",
    "                                     hoverlabel=dict(\n",
    "                                         bgcolor=\"#ffffff\",\n",
    "                                         font_size=12,\n",
    "                                         font_color=\"#141414\",\n",
    "                                         font_family=\"Calibri\",\n",
    "                                         bordercolor=\"#BDBDBD\",\n",
    "                                     ),\n",
    "                                    hovertemplate='<b>%{hovertext}<br></b><br><br>Topic= %{customdata[0]}</br>Years = %{customdata[1]}<br>'\n",
    "                                     ))\n"
   ],
   "metadata": {
    "collapsed": false,
    "pycharm": {
     "name": "#%%\n"
    }
   }
  },
  {
   "cell_type": "code",
   "execution_count": null,
   "outputs": [],
   "source": [],
   "metadata": {
    "collapsed": false,
    "pycharm": {
     "name": "#%%\n"
    }
   }
  },
  {
   "cell_type": "code",
   "execution_count": null,
   "outputs": [],
   "source": [],
   "metadata": {
    "collapsed": false,
    "pycharm": {
     "name": "#%%\n"
    }
   }
  },
  {
   "cell_type": "code",
   "execution_count": null,
   "outputs": [],
   "source": [
    "from sentence_transformers import SentenceTransformer\n",
    "\n",
    "sentence_model = SentenceTransformer(\"allenai-specter\")\n",
    "topic_model = BERTopic(nr_topics=25, embedding_model=sentence_model, n_gram_range=(1,3)).fit(docs)"
   ],
   "metadata": {
    "collapsed": false,
    "pycharm": {
     "name": "#%%\n"
    }
   }
  },
  {
   "cell_type": "code",
   "execution_count": null,
   "outputs": [],
   "source": [
    "topic_model.get_topic_info()\n"
   ],
   "metadata": {
    "collapsed": false,
    "pycharm": {
     "name": "#%%\n"
    }
   }
  },
  {
   "cell_type": "code",
   "execution_count": 182,
   "outputs": [
    {
     "name": "stdout",
     "output_type": "stream",
     "text": [
      "huggingface/tokenizers: The current process just got forked, after parallelism has already been used. Disabling parallelism to avoid deadlocks...\n",
      "To disable this warning, you can either:\n",
      "\t- Avoid using `tokenizers` before the fork if possible\n",
      "\t- Explicitly set the environment variable TOKENIZERS_PARALLELISM=(true | false)\n"
     ]
    }
   ],
   "source": [
    "topic_model.visualize_topics()"
   ],
   "metadata": {
    "collapsed": false,
    "pycharm": {
     "name": "#%%\n"
    }
   }
  },
  {
   "cell_type": "code",
   "execution_count": 20,
   "outputs": [],
   "source": [
    "top_n_words[10][:10]"
   ],
   "metadata": {
    "collapsed": false,
    "pycharm": {
     "name": "#%%\n"
    }
   }
  },
  {
   "cell_type": "code",
   "execution_count": 21,
   "outputs": [],
   "source": [
    "model1 = SentenceTransformer('allenai-specter')"
   ],
   "metadata": {
    "collapsed": false,
    "pycharm": {
     "name": "#%%\n"
    }
   }
  },
  {
   "cell_type": "code",
   "execution_count": 23,
   "outputs": [
    {
     "name": "stdout",
     "output_type": "stream",
     "text": [
      "{-1: ['vessels', 'stress', 'neck', 'hifu', 'residual', 'colon', 'vessel', 'blood', 'lumen', 'wall'], 0: ['protein', 'molecular', 'proteins', 'cell', 'tunnels', 'molecules', 'properties', 'molecule', 'tunnel', 'level'], 1: ['fiber', 'diffusion', 'brain', 'connectivity', 'tensor', 'tractography', 'functional', 'crossing', 'neurons', 'tracts'], 2: ['analytics', 'sleep', 'rehabilitation', 'biomedical', 'communication', 'discovery', 'knowledge', 'staging', 'models', 'notes'], 3: ['evaluations', 'evaluation', 'studies', 'perception', 'user', 'surfaces', 'visualizations', 'aneurysm', 'web', 'medical'], 4: ['deep', 'pathologists', 'pathology', 'digital', 'learning', 'diagnostic', 'mitotic', 'mammogram', 'mg', 'classification'], 5: ['reality', 'virtual', 'vr', 'valve', 'training', 'mitral', 'haptic', 'interaction', 'simulation', 'xr'], 6: ['vascular', 'bird', 'vessel', 'parameterization', 'radar', 'depth', 'color', 'dependent', 'applicator', 'animation'], 7: ['registration', 'implant', 'motion', 'bone', 'stage', 'lung', 'simulation', 'specific', '2d', 'prediction'], 8: ['heart', 'motion', 'regional', 'myocardial', 'lv', 'spatio', 'ventricle', 'cardiac', 'temporal', 'cycle'], 9: ['smoothing', 'mesh', 'surface', 'shape', 'deformation', 'noise', 'statistical', 'mgs', 'skeleton', 'matches'], 10: ['flow', 'pc', '4d', 'mri', 'aortic', 'blood', 'perfusion', 'cfd', 'pathlines', 'cardiac'], 11: ['transfer', 'projection', 'distortions', 'mutual', 'projections', 'multimodal', 'volume', 'function', 'wdt', 'registrationshop'], 12: ['ultrasound', 'tumor', 'liver', 'ius', 'interventional', 'registered', 'fetus', 'intraoperative', 'ablation', 'hifupm'], 13: ['pet', 'uncertainty', 'modeling', 'thermal', 'rib', 'labels', 'ct', 'labeling', 'visualisation', 'cocoon'], 14: ['cow', 'tof', 'pathological', 'skull', 'cerebral', 'sequences', 'arteries', 'stripping', 'mra', 'tumors'], 15: ['arteries', 'artery', 'cta', 'coronary', 'thrombus', 'automated', 'ischemic', 'angiography', 'cerebral', 'content']}\n",
      "huggingface/tokenizers: The current process just got forked, after parallelism has already been used. Disabling parallelism to avoid deadlocks...\n",
      "To disable this warning, you can either:\n",
      "\t- Avoid using `tokenizers` before the fork if possible\n",
      "\t- Explicitly set the environment variable TOKENIZERS_PARALLELISM=(true | false)\n"
     ]
    },
    {
     "data": {
      "text/plain": "<Figure size 1440x720 with 1 Axes>",
      "image/png": "[encoded data removed]"
     },
     "metadata": {
      "needs_background": "light"
     },
     "output_type": "display_data"
    }
   ],
   "source": [
    "result,cluster, docs, docs_df, docs_per_topic = docvec(model1)"
   ],
   "metadata": {
    "collapsed": false,
    "pycharm": {
     "name": "#%%\n"
    }
   }
  },
  {
   "cell_type": "code",
   "execution_count": 370,
   "outputs": [
    {
     "data": {
      "text/plain": "    Topic  Size\n0      -1    37\n2       1    29\n17     16    25\n1       0    21\n10      9    14\n19     18    13\n7       6    11\n8       7    10\n11     10    10\n13     12    10\n3       2     8\n4       3     7\n12     11     7\n16     15     7\n5       4     5\n6       5     5\n9       8     5\n15     14     5\n18     17     4\n14     13     3",
      "text/html": "<div>\n<style scoped>\n    .dataframe tbody tr th:only-of-type {\n        vertical-align: middle;\n    }\n\n    .dataframe tbody tr th {\n        vertical-align: top;\n    }\n\n    .dataframe thead th {\n        text-align: right;\n    }\n</style>\n<table border=\"1\" class=\"dataframe\">\n  <thead>\n    <tr style=\"text-align: right;\">\n      <th></th>\n      <th>Topic</th>\n      <th>Size</th>\n    </tr>\n  </thead>\n  <tbody>\n    <tr>\n      <th>0</th>\n      <td>-1</td>\n      <td>37</td>\n    </tr>\n    <tr>\n      <th>2</th>\n      <td>1</td>\n      <td>29</td>\n    </tr>\n    <tr>\n      <th>17</th>\n      <td>16</td>\n      <td>25</td>\n    </tr>\n    <tr>\n      <th>1</th>\n      <td>0</td>\n      <td>21</td>\n    </tr>\n    <tr>\n      <th>10</th>\n      <td>9</td>\n      <td>14</td>\n    </tr>\n    <tr>\n      <th>19</th>\n      <td>18</td>\n      <td>13</td>\n    </tr>\n    <tr>\n      <th>7</th>\n      <td>6</td>\n      <td>11</td>\n    </tr>\n    <tr>\n      <th>8</th>\n      <td>7</td>\n      <td>10</td>\n    </tr>\n    <tr>\n      <th>11</th>\n      <td>10</td>\n      <td>10</td>\n    </tr>\n    <tr>\n      <th>13</th>\n      <td>12</td>\n      <td>10</td>\n    </tr>\n    <tr>\n      <th>3</th>\n      <td>2</td>\n      <td>8</td>\n    </tr>\n    <tr>\n      <th>4</th>\n      <td>3</td>\n      <td>7</td>\n    </tr>\n    <tr>\n      <th>12</th>\n      <td>11</td>\n      <td>7</td>\n    </tr>\n    <tr>\n      <th>16</th>\n      <td>15</td>\n      <td>7</td>\n    </tr>\n    <tr>\n      <th>5</th>\n      <td>4</td>\n      <td>5</td>\n    </tr>\n    <tr>\n      <th>6</th>\n      <td>5</td>\n      <td>5</td>\n    </tr>\n    <tr>\n      <th>9</th>\n      <td>8</td>\n      <td>5</td>\n    </tr>\n    <tr>\n      <th>15</th>\n      <td>14</td>\n      <td>5</td>\n    </tr>\n    <tr>\n      <th>18</th>\n      <td>17</td>\n      <td>4</td>\n    </tr>\n    <tr>\n      <th>14</th>\n      <td>13</td>\n      <td>3</td>\n    </tr>\n  </tbody>\n</table>\n</div>"
     },
     "execution_count": 370,
     "metadata": {},
     "output_type": "execute_result"
    }
   ],
   "source": [
    "\n",
    "tf_idf, count = c_tf_idf(docs_per_topic.Doc.values, m=len(docs))"
   ],
   "metadata": {
    "collapsed": false,
    "pycharm": {
     "name": "#%%\n"
    }
   }
  },
  {
   "cell_type": "code",
   "execution_count": 131,
   "outputs": [
    {
     "data": {
      "text/plain": "[('fiber', 0.032929810190857195),\n ('diffusion', 0.031988310329731),\n ('tensor', 0.023774861157086494),\n ('tractography', 0.02289201984294166),\n ('crossing', 0.020034806920963825),\n ('tracts', 0.017929453404837658),\n ('matter', 0.014394004309817222),\n ('white', 0.014394004309817222),\n ('dti', 0.013091680803717212),\n ('uncertainty', 0.013039795921343819)]"
     },
     "execution_count": 131,
     "metadata": {},
     "output_type": "execute_result"
    }
   ],
   "source": [
    "\n",
    "top_n_words = extract_top_n_words_per_topic(tf_idf, count, docs_per_topic, n=20)\n"
   ],
   "metadata": {
    "collapsed": false,
    "pycharm": {
     "name": "#%%\n"
    }
   }
  },
  {
   "cell_type": "code",
   "execution_count": 256,
   "outputs": [
    {
     "name": "stdout",
     "output_type": "stream",
     "text": [
      "['simulation', 'stress', 'blood vessels', 'mitral valve']\n"
     ]
    }
   ],
   "source": [
    "a =  ['valve', 'vessels', 'mitral', 'simulation', 'stress', 'blood vessels', 'mitral valve']\n",
    "k = []\n",
    "for i in a:\n",
    "    for j in a:\n",
    "        if  i!=j and i in j:\n",
    "            k.append(i)\n",
    "\n",
    "filtered = filter(lambda i: i not in k, a)\n",
    "print(list(filtered))\n"
   ],
   "metadata": {
    "collapsed": false,
    "pycharm": {
     "name": "#%%\n"
    }
   }
  },
  {
   "cell_type": "code",
   "execution_count": 258,
   "outputs": [
    {
     "data": {
      "text/plain": "['simulation', 'stress', 'blood vessels', 'mitral valve']"
     },
     "execution_count": 258,
     "metadata": {},
     "output_type": "execute_result"
    }
   ],
   "source": [
    "a =  ['valve', 'vessels', 'mitral', 'simulation', 'stress', 'blood vessels', 'mitral valve']\n",
    "for i in range(len(a) - 1, -1, -1):\n",
    "    for j in range(len(a) - 1, -1, -1):\n",
    "            if  a[i]!=a[j] and a[i] in a[j]:\n",
    "                del a[i]\n"
   ],
   "metadata": {
    "collapsed": false,
    "pycharm": {
     "name": "#%%\n"
    }
   }
  },
  {
   "cell_type": "code",
   "execution_count": null,
   "outputs": [],
   "source": [],
   "metadata": {
    "collapsed": false,
    "pycharm": {
     "name": "#%%\n"
    }
   }
  },
  {
   "cell_type": "code",
   "execution_count": null,
   "outputs": [],
   "source": [],
   "metadata": {
    "collapsed": false,
    "pycharm": {
     "name": "#%%\n"
    }
   }
  },
  {
   "cell_type": "code",
   "execution_count": null,
   "outputs": [],
   "source": [],
   "metadata": {
    "collapsed": false,
    "pycharm": {
     "name": "#%%\n"
    }
   }
  },
  {
   "cell_type": "code",
   "execution_count": null,
   "outputs": [],
   "source": [],
   "metadata": {
    "collapsed": false,
    "pycharm": {
     "name": "#%%\n"
    }
   }
  },
  {
   "cell_type": "code",
   "execution_count": null,
   "outputs": [],
   "source": [],
   "metadata": {
    "collapsed": false,
    "pycharm": {
     "name": "#%%\n"
    }
   }
  },
  {
   "cell_type": "code",
   "execution_count": null,
   "outputs": [],
   "source": [],
   "metadata": {
    "collapsed": false,
    "pycharm": {
     "name": "#%%\n"
    }
   }
  },
  {
   "cell_type": "code",
   "execution_count": null,
   "outputs": [],
   "source": [],
   "metadata": {
    "collapsed": false,
    "pycharm": {
     "name": "#%%\n"
    }
   }
  },
  {
   "cell_type": "code",
   "execution_count": null,
   "outputs": [],
   "source": [],
   "metadata": {
    "collapsed": false,
    "pycharm": {
     "name": "#%%\n"
    }
   }
  },
  {
   "cell_type": "code",
   "execution_count": null,
   "outputs": [],
   "source": [],
   "metadata": {
    "collapsed": false,
    "pycharm": {
     "name": "#%%\n"
    }
   }
  },
  {
   "cell_type": "code",
   "execution_count": null,
   "outputs": [],
   "source": [],
   "metadata": {
    "collapsed": false,
    "pycharm": {
     "name": "#%%\n"
    }
   }
  },
  {
   "cell_type": "code",
   "execution_count": null,
   "outputs": [],
   "source": [
    "\n"
   ],
   "metadata": {
    "collapsed": false,
    "pycharm": {
     "name": "#%%\n"
    }
   }
  },
  {
   "cell_type": "code",
   "execution_count": null,
   "outputs": [],
   "source": [],
   "metadata": {
    "collapsed": false,
    "pycharm": {
     "name": "#%%\n"
    }
   }
  },
  {
   "cell_type": "code",
   "execution_count": null,
   "outputs": [],
   "source": [],
   "metadata": {
    "collapsed": false,
    "pycharm": {
     "name": "#%%\n"
    }
   }
  },
  {
   "cell_type": "code",
   "execution_count": null,
   "outputs": [],
   "source": [],
   "metadata": {
    "collapsed": false,
    "pycharm": {
     "name": "#%%\n"
    }
   }
  },
  {
   "cell_type": "code",
   "execution_count": null,
   "outputs": [],
   "source": [],
   "metadata": {
    "collapsed": false,
    "pycharm": {
     "name": "#%%\n"
    }
   }
  },
  {
   "cell_type": "code",
   "execution_count": null,
   "outputs": [],
   "source": [],
   "metadata": {
    "collapsed": false,
    "pycharm": {
     "name": "#%%\n"
    }
   }
  }
 ],
 "metadata": {
  "kernelspec": {
   "display_name": "Python 3",
   "language": "python",
   "name": "python3"
  },
  "language_info": {
   "codemirror_mode": {
    "name": "ipython",
    "version": 2
   },
   "file_extension": ".py",
   "mimetype": "text/x-python",
   "name": "python",
   "nbconvert_exporter": "python",
   "pygments_lexer": "ipython2",
   "version": "2.7.6"
  }
 },
 "nbformat": 4,
 "nbformat_minor": 0
}