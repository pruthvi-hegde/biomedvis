{
 "cells": [
  {
   "cell_type": "code",
   "execution_count": 6,
   "metadata": {
    "collapsed": true
   },
   "outputs": [],
   "source": [
    "import json\n",
    "import re\n",
    "from string import punctuation\n",
    "\n",
    "import nltk\n",
    "import numpy as np\n",
    "from gensim.models import KeyedVectors\n",
    "from nltk import word_tokenize\n",
    "from nltk.corpus import stopwords\n",
    "from umap import UMAP"
   ]
  },
  {
   "cell_type": "code",
   "execution_count": 7,
   "outputs": [],
   "source": [
    "model = KeyedVectors.load_word2vec_format(\n",
    "    '/Users/prush/PycharmProjects/thesis/biomedvis/app/static/mlmodels/crawl-300d-2M.vec',\n",
    "    binary=False)"
   ],
   "metadata": {
    "collapsed": false
   }
  },
  {
   "cell_type": "code",
   "execution_count": 12,
   "outputs": [],
   "source": [
    "def preprocess_sentence_returns_list(text):\n",
    "    stop_words = set(stopwords.words('english'))\n",
    "    # stop_words.extend(['from', 'subject', 're', 'edu', 'use','figure', 'fig'])\n",
    "    # stemmer = SnowballStemmer(\"english\")\n",
    "    lem = nltk.stem.wordnet.WordNetLemmatizer()\n",
    "    cleanr = re.compile('\\[(.*?)\\]')\n",
    "    text = re.sub(cleanr, '', text)\n",
    "    text = re.sub(r'http\\S+', '', text)\n",
    "    text = re.sub(\"[0-9]{2}\", '', text)\n",
    "    text = text.replace('/', ' ')\n",
    "    text = text.replace('\\'', ' \\' ')\n",
    "    pat = r'[^a-zA-z0-9.,!?/:;\\\"\\'\\s]'\n",
    "    text = re.sub(pat, '', text)\n",
    "    text = text.lower()\n",
    "\n",
    "    # Tokenise the text - try with bert tokeniser later\n",
    "    words = word_tokenize(text)\n",
    "    # words = text.split()\n",
    "    # text = ' '.join([stemmer.stem(word) for word in words])\n",
    "    # words = [stemmer.stem(word) for word in words]\n",
    "    text = ' '.join([lem.lemmatize(word) for word in words])\n",
    "    # text = ' '.join(words)\n",
    "    text = ' '.join([w for w in text.split() if len(w) > 1])\n",
    "    text = text.replace('/`/', '')\n",
    "    text = text.replace('/\"/', '')\n",
    "    text = text.replace(\"/'/\", \"\")\n",
    "\n",
    "    tokens = [token for token in word_tokenize(text) if token not in punctuation and token not in stop_words]\n",
    "    return tokens"
   ],
   "metadata": {
    "collapsed": false
   }
  },
  {
   "cell_type": "code",
   "execution_count": 13,
   "outputs": [],
   "source": [
    "def get_embedding(text):\n",
    "    emb = [np.array(model[t]).tolist() for t in text if t in model.key_to_index]\n",
    "    word_emb = np.mean(emb, axis=0)\n",
    "    return word_emb"
   ],
   "metadata": {
    "collapsed": false
   }
  },
  {
   "cell_type": "code",
   "execution_count": 14,
   "outputs": [],
   "source": [
    "def load_data():\n",
    "    with open('../articles_data/all_articles_with_thumbnail_metadata.json') as f:\n",
    "        papers = json.load(f)\n",
    "\n",
    "    # To encode the papers, we must combine the title and the abstracts to a single string\n",
    "    article_texts = [preprocess_sentence_returns_list(paper['article_title'] + ' ' + paper['abstract']) for paper in\n",
    "                     papers]\n",
    "    article_titles = [paper['article_title'] for paper in papers]\n",
    "    emb = [list(get_embedding(article)) for article in article_texts]\n",
    "    return emb, article_titles"
   ],
   "metadata": {
    "collapsed": false
   }
  },
  {
   "cell_type": "code",
   "execution_count": 15,
   "outputs": [
    {
     "name": "stderr",
     "output_type": "stream",
     "text": [
      "OMP: Info #271: omp_set_nested routine deprecated, please use omp_set_max_active_levels instead.\n"
     ]
    },
    {
     "name": "stdout",
     "output_type": "stream",
     "text": [
      "[[5.566387176513672, 6.037216663360596], [10.400812149047852, 5.693390369415283], [12.402023315429688, 4.308645725250244], [11.111598014831543, 4.491008281707764], [5.75358247756958, 3.497481346130371], [8.402742385864258, 6.307307243347168], [6.334397315979004, 6.739317893981934], [10.809039115905762, 2.9369852542877197], [5.906482696533203, 5.125293731689453], [6.756939888000488, 2.434736967086792], [12.347725868225098, 4.519011974334717], [7.819489479064941, 3.223146438598633], [5.625209808349609, 5.755670070648193], [6.9903764724731445, 4.004396438598633], [11.79672622680664, 4.524794101715088], [11.821490287780762, 4.773310661315918], [11.770257949829102, 4.981322765350342], [7.247778415679932, 3.0856595039367676], [9.016688346862793, 5.494049072265625], [3.4761247634887695, 5.047966003417969], [9.965956687927246, 5.416987895965576], [7.943117141723633, 5.658888339996338], [9.828211784362793, 5.017914772033691], [11.56825065612793, 5.460666656494141], [8.061732292175293, 5.744846343994141], [7.318638801574707, 7.448183536529541], [7.770092010498047, 5.437048435211182], [10.756327629089355, 3.3751327991485596], [10.07768440246582, 2.248253107070923], [6.444697380065918, 1.5337761640548706], [10.263290405273438, 5.416136264801025], [11.487894058227539, 4.965945243835449], [9.268097877502441, 5.145967960357666], [11.151886940002441, 4.305812835693359], [5.821778297424316, 5.607596397399902], [6.1064348220825195, 3.581500291824341], [10.226456642150879, 3.368594169616699], [10.346701622009277, 6.493926525115967], [7.002187728881836, 7.27191686630249], [9.29549789428711, 4.585165023803711], [10.81065845489502, 3.336310386657715], [11.09206485748291, 5.895770072937012], [8.777017593383789, 6.580202579498291], [10.443636894226074, 6.16859245300293], [5.84721040725708, 3.307842969894409], [9.568400382995605, 3.340130090713501], [6.692968368530273, 2.630788564682007], [10.345864295959473, 5.329040050506592], [6.192537784576416, 2.942991018295288], [7.7524895668029785, 5.40153169631958], [10.03232479095459, 6.220279693603516], [11.445279121398926, 4.5709662437438965], [9.647570610046387, 3.165733575820923], [7.828385353088379, 4.34683895111084], [9.822896957397461, 4.247962951660156], [6.869182109832764, 3.5471978187561035], [9.926680564880371, 6.313474655151367], [6.546477317810059, 6.982658386230469], [6.217336654663086, 3.7501614093780518], [10.875493049621582, 3.4464709758758545], [7.230797290802002, 3.053435802459717], [7.92353630065918, 7.363224029541016], [11.172685623168945, 2.8702218532562256], [9.293343544006348, 2.8368215560913086], [10.771052360534668, 3.395502805709839], [8.970154762268066, 2.283745288848877], [7.686516284942627, 6.033231735229492], [11.122011184692383, 5.236466884613037], [9.259230613708496, 2.9751689434051514], [7.8084492683410645, 5.555326461791992], [7.867753982543945, 7.425473690032959], [9.746065139770508, 5.096195697784424], [8.481422424316406, 2.6980230808258057], [6.513129234313965, 3.608280897140503], [7.5742621421813965, 6.909544467926025], [6.892792701721191, 5.177053451538086], [6.73743200302124, 2.8994176387786865], [9.926651000976562, 5.423489570617676], [9.721779823303223, 5.842900276184082], [6.762197494506836, 2.0590078830718994], [11.07209300994873, 2.997202157974243], [12.182958602905273, 4.326251029968262], [5.9026570320129395, 2.448270320892334], [10.159811019897461, 3.522707939147949], [5.893359661102295, 2.4542880058288574], [10.294915199279785, 2.3070693016052246], [9.10179615020752, 2.813636302947998], [5.407012462615967, 5.273166179656982], [9.500466346740723, 6.056187152862549], [6.990570068359375, 2.4722368717193604], [4.781005382537842, 5.147618293762207], [11.4475679397583, 3.127868413925171], [7.175253391265869, 3.129587173461914], [6.937355041503906, 7.44040060043335], [10.137438774108887, 3.4402060508728027], [6.338978290557861, 5.350281715393066], [12.10142993927002, 4.353452205657959], [6.1026611328125, 4.633012771606445], [5.994190216064453, 2.2951583862304688], [10.362054824829102, 4.416415691375732], [10.462362289428711, 2.709810972213745], [4.638306617736816, 4.274876594543457], [4.029714584350586, 4.854225158691406], [4.0812907218933105, 4.8603129386901855], [7.577131748199463, 6.497928619384766], [9.5205659866333, 3.1430037021636963], [9.412332534790039, 5.764606952667236], [10.395617485046387, 3.2055156230926514], [10.691130638122559, 2.4228742122650146], [8.227971076965332, 4.956641674041748], [8.354865074157715, 2.672072410583496], [9.956137657165527, 2.472851037979126], [9.916436195373535, 2.9268393516540527], [11.270689010620117, 4.7187581062316895], [5.518609046936035, 5.9571452140808105], [4.545224666595459, 4.488475322723389], [12.005094528198242, 4.204239368438721], [5.881714820861816, 5.577892780303955], [5.549087047576904, 5.918030738830566], [6.223938465118408, 5.265498161315918], [7.032895565032959, 2.1056525707244873], [9.983367919921875, 4.948617935180664], [6.7950968742370605, 3.3983256816864014], [7.912158489227295, 5.737054347991943], [8.854320526123047, 2.7302310466766357], [8.291729927062988, 4.797240734100342], [3.9933431148529053, 4.925162315368652], [7.788518905639648, 7.2900190353393555], [6.684783935546875, 6.867851257324219], [5.008096694946289, 5.143448352813721], [6.671276092529297, 1.8236061334609985], [8.98500919342041, 2.4626057147979736], [5.833231449127197, 5.40283727645874], [8.875855445861816, 5.734495162963867], [9.519076347351074, 5.7806901931762695], [7.385011196136475, 7.121339321136475], [7.214297771453857, 7.4814653396606445], [10.069122314453125, 2.3941402435302734], [6.9083638191223145, 7.202849388122559], [9.532696723937988, 3.3132035732269287], [8.039459228515625, 3.941145896911621], [7.002804279327393, 7.3545451164245605], [10.227824211120605, 5.854363918304443], [8.249281883239746, 5.62550687789917], [7.069604396820068, 6.740666389465332], [3.911250114440918, 4.719912528991699], [6.412276268005371, 2.6277735233306885], [6.078896999359131, 5.021377086639404], [8.951634407043457, 3.1268227100372314], [6.1203932762146, 1.7504475116729736], [6.033461570739746, 3.5480852127075195], [7.204075813293457, 5.713587284088135], [7.36540412902832, 7.532276630401611], [6.9404683113098145, 2.1669881343841553], [6.007327556610107, 2.094146966934204], [8.068970680236816, 3.930748462677002], [9.627299308776855, 5.727438449859619], [7.06647253036499, 4.74599552154541], [8.910893440246582, 2.859562397003174], [10.525753021240234, 2.290353298187256], [9.006723403930664, 3.0329346656799316], [7.212648868560791, 7.353307247161865], [7.226478576660156, 4.853606224060059], [7.865422248840332, 4.111280918121338], [6.119326114654541, 5.5685834884643555], [6.934106826782227, 1.986808180809021], [9.897139549255371, 4.949299335479736], [9.213950157165527, 5.599909782409668], [7.96467924118042, 3.1903066635131836], [3.8907525539398193, 4.881777286529541], [11.657919883728027, 4.7367987632751465], [6.531181335449219, 5.0534844398498535], [10.140759468078613, 5.591731071472168], [11.23763370513916, 4.814076900482178], [9.724596977233887, 2.708089828491211], [5.128436088562012, 4.176724910736084], [9.979472160339355, 3.024247169494629], [5.857364177703857, 2.8610987663269043], [6.039612770080566, 5.121893882751465], [7.948841094970703, 4.031337738037109], [9.727548599243164, 5.219637870788574], [3.9420084953308105, 4.740880966186523], [9.7406587600708, 5.794865131378174], [10.285428047180176, 2.3071320056915283], [6.905581951141357, 6.854278564453125], [7.406645774841309, 6.832093238830566], [8.917413711547852, 2.6108736991882324], [6.116331100463867, 3.828749179840088], [10.790172576904297, 2.5769007205963135], [3.492689847946167, 5.054712295532227], [5.517642974853516, 5.935116291046143], [6.802511215209961, 2.536892890930176], [10.183865547180176, 2.268777370452881], [3.419144630432129, 5.106348991394043], [7.1418538093566895, 3.293884515762329], [6.101637840270996, 3.651500940322876], [7.441370010375977, 7.125308990478516], [7.613455772399902, 3.2383697032928467], [6.714366436004639, 3.6078593730926514], [7.339927673339844, 5.27338981628418], [11.03647518157959, 3.9990334510803223], [7.304378509521484, 2.6731178760528564], [10.333597183227539, 5.969187259674072], [7.0069074630737305, 3.2364554405212402], [8.272525787353516, 6.230422496795654], [10.860401153564453, 5.491075038909912], [11.265847206115723, 5.124203205108643], [6.074763298034668, 1.7969415187835693], [6.909261703491211, 4.6113739013671875], [7.147897720336914, 6.575112342834473], [7.966395378112793, 5.8616228103637695], [11.318119049072266, 2.866394281387329], [6.920681476593018, 2.722330331802368], [11.35682487487793, 5.657395362854004], [6.427800178527832, 1.602486491203308], [9.316590309143066, 5.360881328582764], [5.368036270141602, 3.550995111465454], [4.168695449829102, 4.995565414428711], [6.300581932067871, 1.692978024482727], [6.8586506843566895, 6.6656599044799805], [6.508360385894775, 6.824723243713379], [6.026560306549072, 2.3932957649230957], [11.145620346069336, 2.920825242996216], [8.669991493225098, 3.0545549392700195], [5.762409687042236, 3.332470178604126], [6.112256050109863, 4.832127094268799], [9.048033714294434, 3.1152844429016113], [6.666971206665039, 3.247441053390503], [6.35589075088501, 5.411126613616943], [4.878404140472412, 4.749729633331299], [6.24957799911499, 3.226166248321533], [6.445515155792236, 3.9468681812286377], [9.884842872619629, 3.3511240482330322], [7.3089375495910645, 4.9099836349487305], [10.374897956848145, 3.6529417037963867], [12.273544311523438, 4.300556659698486]]\n"
     ]
    }
   ],
   "source": [
    "corpus_embeddings, article_titles = load_data()\n",
    "umap_embeddings = UMAP(n_neighbors=5, n_components=2, metric='cosine', random_state=42)\n",
    "low_dim_embeddings = umap_embeddings.fit_transform(corpus_embeddings)\n",
    "low_dim_embeddings = low_dim_embeddings.tolist()\n",
    "print(low_dim_embeddings)\n",
    "result_high = dict(zip(article_titles, corpus_embeddings))\n",
    "with open('../embeddings/high_dim/generic_fasttext_high_dim.json', 'x') as f:\n",
    "    json.dump(result_high, f)"
   ],
   "metadata": {
    "collapsed": false
   }
  },
  {
   "cell_type": "code",
   "execution_count": 16,
   "outputs": [],
   "source": [
    "result_low = dict(zip(article_titles, low_dim_embeddings))\n",
    "with open('../embeddings/low_dim/generic_fasttext_low_dim.json', 'x') as f:\n",
    "    json.dump(result_low, f)"
   ],
   "metadata": {
    "collapsed": false
   }
  },
  {
   "cell_type": "code",
   "execution_count": null,
   "outputs": [],
   "source": [],
   "metadata": {
    "collapsed": false
   }
  },
  {
   "cell_type": "code",
   "execution_count": null,
   "outputs": [],
   "source": [],
   "metadata": {
    "collapsed": false
   }
  },
  {
   "cell_type": "code",
   "execution_count": null,
   "outputs": [],
   "source": [
    "import json\n",
    "\n",
    "f = open('../embeddings/low_dimension/biowordvec_low_dim.json')\n",
    "data = json.load(f)\n",
    "embeddings = list(data.values())\n",
    "titles = list(data.keys())\n"
   ],
   "metadata": {
    "collapsed": false
   }
  },
  {
   "cell_type": "code",
   "execution_count": null,
   "outputs": [],
   "source": [
    "import plotly.express as px\n",
    "\n",
    "fig = px.scatter(embeddings, x=0, y=1, opacity=1, hover_name=titles)"
   ],
   "metadata": {
    "collapsed": false
   }
  },
  {
   "cell_type": "code",
   "execution_count": null,
   "outputs": [],
   "source": [
    "fig.show()"
   ],
   "metadata": {
    "collapsed": false
   }
  },
  {
   "cell_type": "code",
   "execution_count": 6,
   "outputs": [],
   "source": [
    "import json\n",
    "\n",
    "f = open('../embeddings/low_dimension/biowordvec_low_dim.json')\n",
    "data = json.load(f)\n",
    "embeddings = list(data.values())\n",
    "titles = list(data.keys())\n"
   ],
   "metadata": {
    "collapsed": false
   }
  },
  {
   "cell_type": "code",
   "execution_count": 7,
   "outputs": [],
   "source": [
    "import plotly.express as px\n",
    "\n",
    "fig = px.scatter(embeddings, x=0, y=1, opacity=1, hover_name=titles)"
   ],
   "metadata": {
    "collapsed": false
   }
  },
  {
   "cell_type": "code",
   "execution_count": 8,
   "outputs": [
    {
     "data": {
      "application/vnd.plotly.v1+json": {
       "data": [
        {
         "hovertemplate": "<b>%{hovertext}</b><br><br>0=%{x}<br>1=%{y}<extra></extra>",
         "hovertext": [
          "Interactive Exploded Views for Molecular Structures",
          "Layer-Aware iOCT Volume Rendering for Retinal Surgery",
          "Introducing CNN-Based Mouse Grim Scale Analysis for Fully Automated Image-Based Assessment of Distress in Laboratory Mice",
          "Pelvis Runner: Visualizing Pelvic Organ Variability in a Cohort of Radiotherapy Patients",
          "Information-based Transfer Functions for Multimodal Visualization",
          "VR Acrophobia Treatment - Development of Customizable Acrophobia Inducing Scenarios",
          "Visual Exploratory Analysis for Multiple T-Maze Studies",
          "CoWRadar: Visual Quantification of the Circle of Willis in Stroke Patients",
          "Atomistic Visualization of Mesoscopic Whole-Cell Simulations",
          "Automatic Segmentation of the Pelvic Bones from CT Data Based on a Statistical Shape Model",
          "Multiparametric Magnetic Resonance Image Synthesis using Generative Adversarial Networks",
          "Misalignment Correction in Open Cone-Beam CT",
          "Watergate: Visual Exploration of Water Trajectories in Protein Dynamics",
          "Distance Field Visualization and 2D Abstraction of Vessel Tree Structures with on-the-fly Parameterization",
          "Semantic Segmentation of Brain Tumors in MRI Data Without any Labels",
          "Estimation of the Midsagittal Plane for Sideness Determination of Malignant Structures of Head and Neck",
          "Application of Image Processing Functions for Brain Tumor Enhancement in Intraoperative Ultrasound Image Data",
          "A Multilinear Model for Bidirectional Craniofacial Reconstruction",
          "Student and Teacher Meet in a Shared Virtual Reality: A one-on-one Tutoring System for Anatomy Education",
          "Synaptic Connectivity in Anatomically Realistic Neural Networks: Modeling and Visual Analysis",
          "Geometrical-Acoustics-based Ultrasound Image Simulation",
          "Feasibility Study For Automatic Bird Tracking and Visualization from Time-Dependent Marine Radar Imagery",
          "Deriving Anatomical Context from 4D Ultrasound",
          "CT-Based Navigation Guidance for Liver Tumor Ablation",
          "Design Considerations for Immersive Analytics of Bird Movements Obtained by Miniaturised GPS Sensors",
          "A Critical Analysis of the Evaluation Practice in Medical Visualization",
          "Sline: Seamless Line Illustration for Interactive Biomedical Visualization",
          "Reconstruction of Blood Vessels from Neck CT Datasets using Stable 3D Mass-Spring Models",
          "Visual Analysis of Regional Anomalies in Myocardial Motion",
          "Sketch-based Image-independent Editing of 3D Tumor Segmentations using Variational Interpolation",
          "HIFUpm: a Visual Environment to Plan and Monitor High Intensity Focused Ultrasound Treatments",
          "Uncertainty-aware Brain Lesion Visualization",
          "Monte-Carlo Ray-Tracing for Realistic Interactive Ultrasound Simulation",
          "Bone Fracture and Lesion Assessment using Shape-Adaptive Unfolding",
          "cellVIEW: a Tool for Illustrative and Multi-Scale Rendering of Large Biomolecular Datasets",
          "Interactive Classification of Multi-Shell Diffusion MRI With Features From a Dual-Branch CNN Autoencoder",
          "Using Position-Based Dynamics for Simulating the Mitral Valve in a Decision Support System",
          "Real-Time Guidance and Anatomical Information by Image Projection onto Patients",
          "PerSleep: A Visual Analytics Approach for Performance Assessment of Sleep Staging Models",
          "Estimation of Muscle Activity in One-Leg Stance from 3D Surface Deformation",
          "A New Vessel Enhancement Transform on Retinal Blood Vessels Segmentation",
          "Illustrative Multi-volume Rendering for PET/CT Scans",
          "Exploration of 3D Medical Image Data for Interventional Radiology using Myoelectric Gesture Control",
          "Projection Mapping for In-Situ Surgery Planning by the Example of DIEP Flap Breast Reconstruction",
          "Visibility-Driven Processing of Streaming Volume Data",
          "Automatic Animations to Analyze Blood Flow Data",
          "Polar Space Based Shape Averaging for Star-shaped Biological Objects",
          "HIFUtk: Visual Analytics for High Intensity Focused Ultrasound Simulation",
          "Anatomical Volume Visualization with Weighted Distance Fields",
          "VisualFlatter - Visual Analysis of Distortions in the Projection of Biomedical Structures",
          "Visual Navigation Support for Liver Applicator Placement using Interactive Map Displays",
          "Haptics-based Modelling of Pigmented Skin Lesions",
          "2.5D Geometric Mapping of Aortic Blood Flow Data for Cohort Visualization",
          "The BundleExplorer: A Focus and Context Rendering Framework for Complex Fiber Distributions",
          "Strategies for Generating Multi-Time Frame Localization of Cardiac MRI",
          "Visually Guided Mesh Smoothing for Medical Applications",
          "Guided Visualization of Ultrasound Image Sequences",
          "Visual Analysis and Comparison of Multiple Sequence Alignments",
          "Progressive and Efficient Multi-Resolution Representations for Brain Tractograms",
          "Histology-Based Evaluation of Optical Coherence Tomographic Characteristics of the Cerebral Artery Wall via Virtual Inflating",
          "Robust Classification and Analysis of Anatomical Surfaces Using 3D Skeletons",
          "PATHONE: From one Thousand Patients to one Cell",
          "Automatic Real-time Annotation of Important Landmarks in Ultrasound-Guided Femoral Nerve Blocks",
          "An Integrated Platform for Dynamic Cardiac Simulation and Image Processing: Application to Personalised Tetralogy of Fallot Simulation",
          "Visual Assessment of Vascular Torsion using Ellipse Fitting",
          "Generation of a Mean Motion Model of the Lung Using 4D-CT Image Data",
          "An Exploration of Practice and Preferences for the Visual Communication of Biomedical Processes",
          "On the Value of Multi-Volume Visualization for Preoperative Planning of Cerebral AVM Surgery",
          "A Framework for Visual Comparison of 4D PC-MRI Aortic Blood Flow Data",
          "Medical Animations: A Survey and a Research Agenda",
          "Visual Analytics in Histopathology Diagnostics: a Protocol-Based Approach",
          "Combining B-Mode and Color Flow Vessel Segmentation for Registration of Hepatic CT and Ultrasound Volumes",
          "Interactive Formation of Statistical Hypotheses in Diffusion Tensor Imaging",
          "Fast and Smooth Interactive Segmentation of Medical Images Using Variational Interpolation",
          "Discovering Medical Knowledge Using Visual Analytics",
          "Combining Pseudo Chroma Depth Enhancement and Parameter Mapping for Vascular Surface Models",
          "Model-based Solid Texture Synthesis for Anatomic Volume Illustration",
          "The Vitruvian Baby: Interactive Reformation of Fetal Ultrasound Data to a T-Position",
          "A Prototype Holographic Augmented Reality Interface for Image-Guided Prostate Cancer Interventions",
          "Automatic Hepatocyte Quantification from Histological Images: Comparing Pre-smoothing filters",
          "VirtualDSA++: Automated Segmentation, Vessel Labeling, Occlusion Detection and Graph Search on CT-Angiography Data",
          "A Guided Spatial Transformer Network for Histology Cell Differentiation",
          "Constrained Labeling of 2D Slice Data for Reading Images in Radiology",
          "Adapted Surface Visualization of Cerebral Aneurysms with Embedded Blood Flow Information",
          "Survey of Labeling Techniques in Medical Visualizations",
          "A Web-Based Tool for Cardiac Dyssynchrony Assessment on Ultrasound Data",
          "Interactive Visual Similarity Analysis of Measured and Simulated Multi-field Tubular Flow Ensembles",
          "Membrane Mapping: Combining Mesoscopic and Molecular Cell Visualization",
          "An Endoscope Interface for Immersive Virtual Reality",
          "A Statistical Method for Surface Detection",
          "Analyzing Protein Similarity by Clustering Molecular Surface Maps",
          "Automatic Thrombus Detection in Non-enhanced Computed Tomography Images in Patients With Acute Ischemic Stroke",
          "A General Approach to Model Biomedical Data from 3D Unorganised Point Clouds with Medial Scaffolds",
          "preha: Establishing Precision Rehabilitation with Visual Analytics",
          "Aneulysis - A System for Aneurysm Data Analysis",
          "A Haptic Rendering Algorithm for Molecular Interaction",
          "Maximizing AUC with Deep Learning for Classification of Imbalanced Mammogram Datasets",
          "Real-Time Visualization of 3D Amyloid-Beta Fibrils from 2D Cryo-EM Density Maps",
          "Visual Analysis of Medical Image Segmentation Feature Space for Interactive Supervised Classification",
          "Interactive Residual Stress Modeling for Soft Tissue Simulation",
          "Colonic Content Assessment from MRI Imaging Using a Semi-automatic Approach",
          "Tractography in Context: Multimodal Visualization of Probabilistic Tractograms in Anatomical Context",
          "Ontology-Based Visualization of Hierarchical Neuroanatomical Structures",
          "Visualizing and Exploring Dynamic Multichannel EEG Coherence Networks",
          "Automatic Generation of Web-Based User Studies to Evaluate Depth Perception in Vascular Surface Visualizations",
          "A Survey of Cardiac 4D PC-MRI Data Processing",
          "Simulation-based Ultrasound Training Supported by Annotations, Haptics and Linked Multimodal Views",
          "Aortic Dissection Maps: Comprehensive Visualization of Aortic Dissections for Risk Assessment",
          "Recent Advances in MRI and Ultrasound Perfusion Imaging",
          "Semi-Immersive 3D Sketching of Vascular Structures for Medical Education",
          "Comparative Visualization for Diffusion Tensor Imaging Group Study at Multiple Levels of Detail",
          "Motion-moderated Transfer Function for Volume Rendering 4D CMR Data",
          "A Web-based Application for the Visual Exploration of Colon Morphology Data",
          "Interactive Multimodal Imaging Visualization for Multiple Sclerosis Lesion Analysis",
          "Unfolding and Interactive Exploration of Protein Tunnels and their Dynamics",
          "Graph Averaging as a Means to Compare Multichannel EEG Coherence Networks",
          "Evaluation of Hippocampal Segmentation Methods for Healthy and Pathological Subjects",
          "DockVis: Visual Analysis of Molecular Docking Data",
          "Protein Tunnel Reprojection for Physico-Chemical Property Analysis",
          "Interactive CPU-based Ray Tracing of Solvent Excluded Surfaces",
          "Lowest-Variance Streamlines for Filtering of 3D Ultrasound",
          "Image Registration Methods for Patient-Specific Virtual Physiological Human Models",
          "Visualisation of PET data in the Fly Algorithm",
          "Vologram: An Educational Holographic Sculpture for Volumetric Medical Data Physicalization",
          "InkVis: A High-Particle-Count Approach for Visualization of Phase-Contrast Magnetic Resonance Imaging Data",
          "Automatic Cutting and Flattening of Carotid Artery Geometries",
          "BrainCove: A Tool for Voxel-wise fMRI Brain Connectivity Visualization",
          "Visual Analytics in Digital Pathology: Challenges and Opportunities",
          "Visual Analytics of Missing Data in Epidemiological Cohort Studies",
          "Visualization and Exploration of 3D Toponome Data",
          "Fully Automatic Skull-Stripping in 3D Time-of-Flight MRA Image Sequences",
          "The iCoCooN: Integration of Cobweb Charts with Parallel Coordinates for Visual Analysis of DCE-MRI Modeling Variations",
          "Computation of More Channels in Protein Molecules",
          "RegistrationShop: An Interactive 3D Medical Volume Registration System",
          "A Comparative User Study of a 2D and an Autostereoscopic 3D Display for a Tympanoplastic Surgery",
          "SWiFT Seeing the Wood From the Trees: helping people make sense of their health data",
          "How to Evaluate Medical Visualizations on the Example of 3D Aneurysm Surfaces",
          "Spatio-temporal Visualization of Regional Myocardial Velocities",
          "Visual Analysis of Multivariate Intensive Care Surveillance Data",
          "A Framework for Fast Initial Exploration of PC-MRI Cardiac Flow",
          "Multi-fiber Estimation and Tractography for Diffusion MRI using mixture of Non-central Wishart Distributions",
          "Towards Clinical Deployment of Automated Anatomical Regions-Of-Interest",
          "ICG based Augmented-Reality-System for Sentinel Lymph Node Biopsy",
          "The Role of Depth Perception in XR from a Neuroscience Perspective: A Primer and Survey",
          "SpectraMosaic: An Exploratory Tool for the Interactive Visual Analysis of Magnetic Resonance Spectroscopy Data",
          "Visual Analysis of Bipartite Biological Networks",
          "Extracting and Visualizing Uncertainties in Segmentations from 3D Medical Data",
          "Illustrative Transitions in Molecular Visualization via Forward and Inverse Abstraction Transform",
          "Semi-Automatic Vessel Boundary Detection in Cardiac 4D PC-MRI Data Using FTLE fields",
          "From Imprecise User Input to Precise Vessel Segmentations",
          "GPU Accelerated Normalized Mutual Information and B-Spline Transformation",
          "QuantiScale: A Study in Redesigning Interactions for Multi-Touch",
          "Visualization-Guided Evaluation of Simulated Minimally Invasive Cancer Treatment",
          "Inlier Detection in Thermal Sensitive Images",
          "Uncertainty-aware Ensemble of Classifiers for Segmenting Brain MRI Data",
          "Reducing Model Uncertainty in Crossing Fiber Tractography",
          "VRIDAA: Virtual Reality Platform for Training and Planning Implantations of Occluder Devices in Left Atrial Appendages",
          "Hybrid Visualization of Protein-Lipid and Protein-Protein Interaction",
          "Temporal Interpolation of 4D PC-MRI Blood-flow Measurements Using Bidirectional Physics-based Fluid Simulation",
          "Glyph-Based Visualization of Myocardial Perfusion Data and Enhancement with Contractility and Viability Information",
          "Robustness Evaluation of CFD Simulations to Mesh Deformation",
          "GLANCE: Visual Analytics for Monitoring Glaucoma Progression",
          "Shading Style Assessment for Vessel Wall and Lumen Visualization",
          "Visualizing White Matter Fiber Tracts with Optimally Fitted Curved Dissection Surfaces",
          "Molecular Sombreros: Abstract Visualization of Binding Sites within Proteins",
          "Impact of Physical Noise Modeling on Image Segmentation in Echocardiography",
          "Personalized X-ray Reconstruction of the Proximal Femur via a New Control Point-based 2D-3D Registration and Residual Complexity Minimization",
          "Learning Hand Anatomy with Sense of Embodiment",
          "Ultrasound Decompression for Large Field-of-View Reconstructions",
          "Iterative Exploration of Big Brain Network Data",
          "Visual Assessment of Growth Prediction in Brain Structures after Pediatric Radiotherapy",
          "Chameleon - Dynamic Color Mapping for Multi-Scale Structural Biology Models",
          "Computational Steering for Patient-Specific Implant Planning in Orthopedics",
          "Uncertainty Estimation and Visualization for Multi-modal Image Segmentation",
          "Computation and Visualization of Asynchronous Behavior of the Heart",
          "Graxels: Information Rich Primitives for the Visualization of Time-Dependent Spatial Data",
          "Robust Cardiac Function Assessment in 4D PC-MRI Data",
          "Focus + Context Rendering of Structured Biomedical Data",
          "Instant Visualization of Secondary Structures of Molecular Models",
          "Fiber Stipples for Crossing Tracts in Probabilistic Tractography",
          "Illustrated Ultrasound for Multimodal Data Interpretation of Liver Examinations",
          "Visual Analysis of Evolution of EEG Coherence Networks employing Temporal Multidimensional Scaling",
          "A Haptics-enabled Simulator for Transperineal Ultrasound-Guided Biopsy",
          "Interactive Real Time Simulation of Cardiac Radio-Frequency Ablation",
          "A Visual Analytics Approach for Patient Stratification and Biomarker Discovery",
          "A Survey on Visualizing Magnetic Resonance Spectroscopy Data",
          "Deriving and Visualizing Uncertainty in Kinetic PET Modeling",
          "Efficient Globally Optimal Matching of Anatomical Trees of the Liver",
          "CT Late Enhancement Segmentation for the Combined Analysis of Coronary Arteries and Myocardial Viability",
          "Visual and Quantitative Analysis of Higher Order Arborization Overlaps for Neural Circuit Research",
          "Visualizing Movements of Protein Tunnels in Molecular Dynamics Simulations",
          "MRI Hip Joint Segmentation: A Locally Bhattacharyya Weighted Hybrid 3D Level Set Approach",
          "Exploration of Interventricular Septum Motion in Multi-Cycle Cardiac MRI",
          "Annotated Dendrograms for Neurons From the Larval Fruit Fly Brain",
          "Global and Local Mesh Morphing for Complex Biological Objects from µCT Data",
          "Accelerated Diffusion Operators for Enhancing DW-MRI",
          "Multiple Scale Visualization of Electronic Health Records to Support Finding Medical Narratives",
          "Simulated Motion Artefact in Computed Tomography",
          "Parameterization and Feature Extraction for the Visualization of Tree-like Structures",
          "Concentric Circle Glyphs for Enhanced Depth-Judgment in Vascular Models",
          "Imaging the Vascular Network of the Human Spleen from Immunostained Serial Sections",
          "Surface Curvature Line Clustering for Polyp Detection in CT Colonography",
          "Schematic Electrode Map for Navigation in Neuro Data Sets",
          "Staircase-Aware Smoothing of Medical Surface Meshes",
          "Challenges and Technologies for Low Cost Wheelchair Simulation",
          "High-Quality Multimodal Volume Visualization of Intracerebral Pathological Tissue",
          "AR-Assisted Craniotomy Planning for Tumour Resection",
          "Visual Analytics for the Exploration and Assessment of Segmentation Errors",
          "FoldSynth: Interactive 2D/3D Visualisation Platform for Molecular Strands",
          "MedUse: A Visual Analysis Tool for Medication Use Data in the ABCD Study",
          "The Virtual Reality Flow Lens for Blood Flow Exploration",
          "A Two-Level Cascade Classification Algorithm for Real-Time Bifurcation Detection in CTA Images of Blood Vessels",
          "Parametric-based Reconstruction Of 3D Mesh Models; Towards the Generation of a Parametric Human Foot Biomodel",
          "Illustrative PET/CT Visualisation of SIRT-Treated Lung Metastases",
          "Uncertainty-Guided Semi-Automated Editing of CNN-based Retinal Layer Segmentations in Optical Coherence Tomography",
          "Interactive Visualization of Muscle Activity During Limb Movements: Towards Enhanced Anatomy Learning",
          "Feature Exploration using Local Frequency Distributions in Computed Tomography Data",
          "Visual Analysis of Integrated Resting State Functional Brain Connectivity and Anatomy",
          "UI-Net: Interactive Artificial Neural Networks for Iterative Image Segmentation Based on a User Model",
          "A Visual Environment for Hypothesis Formation and Reasoning in Studies with fMRI and Multivariate Clinical Data",
          "A Feasibility Study on Automated Protein Aggregate Characterization Utilizing a Hybrid Classification Model",
          "Importance-Driven Structure Categorization for 3D Surgery Planning",
          "Automated Slice-Based Artery Identification in Various Field-of-View CTA Scans",
          "Dynamic Visualisation of Orbital Fat Deformation using Anatomy-Guided Interaction",
          "Interactive Position-dependent Customization of Transfer Function Classification Parameters in Volume Rendering",
          "FluoroSim: A Visual Problem-Solving Environment for Fluorescence Microscopy",
          "Coherence Maps for Blood Flow Exploration",
          "InShaDe: Invariant Shape Descriptors for Visual Analysis of Histology 2D Cellular and Nuclear Shapes",
          "Improving Perception of Molecular Surface Visualizations by Incorporating Translucency Effects",
          "Interactive Labeling of Toponome Data",
          "Volume Visualization Using Principal Component Analysis",
          "Real-Time Dense Nucleus Selection from Confocal Data",
          "Evolutionary Pathlines for Blood Flow Exploration in Cerebral Aneurysms",
          "Semantic Screen-Space Occlusion for Multiscale Molecular Visualization",
          "Evaluation of Transfer Function Methods in Direct Volume Rendering of the Blood Vessel Lumen",
          "Mammogram Classification and Abnormality Detection from Nonlocal Labels using Deep Multiple Instance Neural Network"
         ],
         "legendgroup": "",
         "marker": {
          "color": "#636efa",
          "opacity": 1,
          "symbol": "circle"
         },
         "mode": "markers",
         "name": "",
         "orientation": "v",
         "showlegend": false,
         "x": [
          8.195077896118164,
          3.8977482318878174,
          3.6691184043884277,
          4.513609409332275,
          5.639538288116455,
          5.700282096862793,
          6.414506912231445,
          0.6587456464767456,
          8.556120872497559,
          3.913581371307373,
          5.4987640380859375,
          3.1466689109802246,
          8.384326934814453,
          4.045699119567871,
          3.0664050579071045,
          3.296949625015259,
          2.951202869415283,
          3.797516107559204,
          5.635402202606201,
          7.450741767883301,
          3.178227424621582,
          5.877899646759033,
          2.395298480987549,
          3.2115116119384766,
          5.740634441375732,
          5.085324287414551,
          5.037215709686279,
          0.19824013113975525,
          0.9362666606903076,
          4.513566493988037,
          3.045201063156128,
          2.963426351547241,
          3.5471858978271484,
          1.6092935800552368,
          8.473108291625977,
          5.5660200119018555,
          1.517059087753296,
          5.400040149688721,
          5.382359027862549,
          2.15214204788208,
          0.7494155168533325,
          3.606795072555542,
          5.551913261413574,
          3.4946846961975098,
          5.388031005859375,
          1.1921225786209106,
          4.469828128814697,
          2.9850993156433105,
          4.320629596710205,
          7.861673831939697,
          3.5991129875183105,
          2.9624860286712646,
          1.1636409759521484,
          6.855162620544434,
          1.6833800077438354,
          4.052959442138672,
          4.712469100952148,
          5.516195774078369,
          5.828056335449219,
          0.5567891001701355,
          4.088846683502197,
          5.455539703369141,
          0.04361695051193237,
          4.959379196166992,
          1.0338817834854126,
          0.6924437284469604,
          5.4096150398254395,
          3.160919427871704,
          1.3528445959091187,
          5.409175872802734,
          5.174741268157959,
          2.271827220916748,
          6.424174785614014,
          4.042259216308594,
          5.695483207702637,
          4.552794456481934,
          4.176207542419434,
          4.767779350280762,
          2.913602352142334,
          4.554823398590088,
          0.03494027256965637,
          3.190636396408081,
          5.267710208892822,
          1.1611261367797852,
          5.364370822906494,
          0.792938232421875,
          1.5162367820739746,
          8.84538745880127,
          5.849574089050293,
          4.27077579498291,
          7.9585065841674805,
          -0.0011993992375209928,
          3.9758846759796143,
          5.02144193649292,
          1.21454918384552,
          8.792487144470215,
          3.1581907272338867,
          9.032423973083496,
          5.518867492675781,
          2.013056516647339,
          2.4620559215545654,
          6.216114521026611,
          7.033576011657715,
          6.985133647918701,
          5.313690662384033,
          0.8826098442077637,
          2.6871931552886963,
          1.2416667938232422,
          0.22638723254203796,
          4.243115425109863,
          6.431089401245117,
          1.1520912647247314,
          2.374419927597046,
          2.960421562194824,
          8.280877113342285,
          4.197702884674072,
          3.0821268558502197,
          8.449610710144043,
          9.043898582458496,
          8.856847763061523,
          2.900486707687378,
          2.4129316806793213,
          3.4405362606048584,
          5.382113456726074,
          1.6966302394866943,
          0.9743375182151794,
          7.016231536865234,
          5.611146926879883,
          4.958751678466797,
          7.847696304321289,
          4.6231513023376465,
          6.580679416656494,
          8.625816345214844,
          2.8103408813476562,
          2.7144126892089844,
          5.638930797576904,
          4.868574619293213,
          0.9180891513824463,
          4.935886383056641,
          1.3928663730621338,
          6.753049373626709,
          4.920146465301514,
          3.7940826416015625,
          5.338366985321045,
          4.0061469078063965,
          7.164495468139648,
          4.372255325317383,
          7.978328704833984,
          1.3224513530731201,
          5.088847637176514,
          5.41925573348999,
          5.4712982177734375,
          4.809928894042969,
          4.4679083824157715,
          5.127917766571045,
          6.663858413696289,
          2.632230281829834,
          8.095682144165039,
          1.4909862279891968,
          0.3814772367477417,
          1.3800232410430908,
          5.430405616760254,
          1.126430869102478,
          6.7862372398376465,
          9.073002815246582,
          3.0970840454101562,
          2.455946683883667,
          2.6753756999969482,
          2.743212938308716,
          7.137704849243164,
          3.0608465671539307,
          4.569674015045166,
          4.159738540649414,
          4.834917068481445,
          0.7218209505081177,
          6.5603413581848145,
          1.2013227939605713,
          6.191327095031738,
          8.608650207519531,
          6.692780494689941,
          2.7175590991973877,
          6.8804707527160645,
          3.0165555477142334,
          2.530604839324951,
          4.868016719818115,
          3.8340821266174316,
          6.67586088180542,
          5.593672275543213,
          0.26353010535240173,
          7.488162994384766,
          8.87258529663086,
          4.177733421325684,
          1.0048749446868896,
          7.5227460861206055,
          4.450489521026611,
          6.425902843475342,
          5.61944580078125,
          3.2358572483062744,
          4.328525066375732,
          5.133155345916748,
          1.2376186847686768,
          4.06913423538208,
          3.7158896923065186,
          4.2712202072143555,
          5.790075302124023,
          2.918538808822632,
          3.3922996520996094,
          5.27591609954834,
          8.597763061523438,
          5.259169578552246,
          4.408725261688232,
          0.05012819916009903,
          4.041508674621582,
          3.4048349857330322,
          4.707518100738525,
          2.5283002853393555,
          6.362570762634277,
          6.961226463317871,
          5.40403413772583,
          6.390354156494141,
          5.889279365539551,
          5.295716762542725,
          0.05539057031273842,
          4.352816104888916,
          5.562385082244873,
          8.394429206848145,
          1.474724531173706,
          4.210072040557861,
          8.883522987365723,
          7.512001037597656,
          3.7216005325317383,
          7.050452709197998,
          1.2246626615524292,
          4.406136512756348,
          0.7127393484115601,
          3.2958903312683105
         ],
         "xaxis": "x",
         "y": [
          3.98250675201416,
          4.275808334350586,
          6.704298496246338,
          7.0889892578125,
          2.183544635772705,
          5.997064590454102,
          4.312767028808594,
          3.981008529663086,
          4.587789058685303,
          2.071776866912842,
          3.4789390563964844,
          2.3796122074127197,
          4.09692907333374,
          3.13802433013916,
          6.4905853271484375,
          5.726902008056641,
          4.952203750610352,
          2.802835702896118,
          6.291025638580322,
          2.7613208293914795,
          3.578030824661255,
          5.164550304412842,
          2.9500789642333984,
          5.044594764709473,
          5.474778175354004,
          7.229801654815674,
          5.003885746002197,
          4.40726375579834,
          3.1499087810516357,
          2.3250391483306885,
          4.799112319946289,
          6.128537654876709,
          3.3929460048675537,
          5.2081828117370605,
          4.514667987823486,
          3.2253293991088867,
          3.654613971710205,
          7.238079071044922,
          6.931417942047119,
          3.694911003112793,
          4.552178859710693,
          5.642655849456787,
          6.2932448387146,
          5.268904685974121,
          1.9244694709777832,
          3.813833236694336,
          2.9750328063964844,
          4.401832103729248,
          2.0834829807281494,
          4.244724750518799,
          5.05661153793335,
          6.254620552062988,
          3.5056960582733154,
          1.2113800048828125,
          2.9520816802978516,
          2.3203043937683105,
          4.592682838439941,
          4.009798049926758,
          2.9309678077697754,
          4.491481304168701,
          2.9952690601348877,
          7.196637153625488,
          4.487981796264648,
          5.017330646514893,
          4.679555416107178,
          3.411186695098877,
          5.731644630432129,
          5.490257263183594,
          2.8349170684814453,
          5.2696309089660645,
          7.2989091873168945,
          2.998781442642212,
          4.0675811767578125,
          2.289562702178955,
          6.730067253112793,
          3.6151349544525146,
          3.1362223625183105,
          4.700037002563477,
          3.9487392902374268,
          1.810503363609314,
          4.385409355163574,
          6.770818710327148,
          4.490097522735596,
          4.275844573974609,
          4.675232887268066,
          3.34460711479187,
          2.492753505706787,
          4.568828582763672,
          5.926335334777832,
          1.7104558944702148,
          3.716970443725586,
          4.37169885635376,
          2.9985175132751465,
          7.440413951873779,
          4.0832133293151855,
          4.345905780792236,
          6.740578651428223,
          4.243180751800537,
          3.1282291412353516,
          3.7472662925720215,
          5.635927677154541,
          3.077235221862793,
          2.862595796585083,
          2.5192363262176514,
          5.641592979431152,
          3.3129794597625732,
          3.9418394565582275,
          4.194394111633301,
          3.711871862411499,
          4.516441822052002,
          3.810486078262329,
          3.0917062759399414,
          5.529714107513428,
          6.009445667266846,
          3.9303739070892334,
          1.4306309223175049,
          6.705508708953857,
          4.152651786804199,
          3.9097344875335693,
          4.286552429199219,
          2.618364095687866,
          2.8888585567474365,
          2.348273992538452,
          5.772207736968994,
          2.7561748027801514,
          4.630147457122803,
          2.505204439163208,
          6.75531005859375,
          7.3080549240112305,
          3.6308627128601074,
          1.9913678169250488,
          3.798862934112549,
          4.436720371246338,
          3.5884368419647217,
          4.1680755615234375,
          6.793811798095703,
          4.88010835647583,
          3.1570444107055664,
          7.3172831535339355,
          3.184067487716675,
          1.215320348739624,
          7.07344913482666,
          4.33644437789917,
          5.639804363250732,
          5.796213626861572,
          2.906120777130127,
          2.0757741928100586,
          4.085993766784668,
          2.589371681213379,
          3.3422725200653076,
          1.9887770414352417,
          5.312841892242432,
          7.273636341094971,
          1.7191822528839111,
          3.2954635620117188,
          1.3150081634521484,
          4.10695743560791,
          3.7408721446990967,
          2.4734926223754883,
          3.6121692657470703,
          2.490661382675171,
          6.848235607147217,
          4.439682960510254,
          1.2280676364898682,
          4.017741680145264,
          2.9600391387939453,
          2.816352367401123,
          3.913377285003662,
          2.546297788619995,
          2.769179582595825,
          6.150835037231445,
          3.892608165740967,
          2.2297303676605225,
          3.1314077377319336,
          3.347759485244751,
          3.2408924102783203,
          3.381716728210449,
          3.033588409423828,
          4.36781120300293,
          1.301269769668579,
          3.2576239109039307,
          2.779027223587036,
          4.025177478790283,
          4.183089256286621,
          7.494975566864014,
          5.794557571411133,
          3.681835651397705,
          2.0822501182556152,
          3.7368035316467285,
          2.8035435676574707,
          3.883497714996338,
          1.582991361618042,
          3.085280656814575,
          2.84759783744812,
          2.84259033203125,
          1.524174690246582,
          6.787888526916504,
          2.319427728652954,
          2.909555196762085,
          3.5839273929595947,
          4.924947261810303,
          1.8236693143844604,
          5.13181734085083,
          2.261317491531372,
          5.797573566436768,
          5.8366899490356445,
          5.360519886016846,
          3.838578462600708,
          4.126314163208008,
          6.95207405090332,
          4.82134485244751,
          4.429903507232666,
          2.310638189315796,
          5.644955635070801,
          2.4108362197875977,
          3.8765695095062256,
          3.491786003112793,
          2.443768262863159,
          3.241429567337036,
          4.298439025878906,
          3.8754539489746094,
          4.898100852966309,
          4.343236923217773,
          3.477118492126465,
          2.065120220184326,
          4.675958156585693,
          2.40181565284729,
          2.997853994369507,
          4.298623085021973,
          3.545985460281372,
          2.4292166233062744,
          3.4699718952178955,
          4.060847282409668,
          4.03307580947876,
          4.177204608917236,
          6.637223720550537
         ],
         "yaxis": "y",
         "type": "scatter"
        }
       ],
       "layout": {
        "template": {
         "data": {
          "bar": [
           {
            "error_x": {
             "color": "#2a3f5f"
            },
            "error_y": {
             "color": "#2a3f5f"
            },
            "marker": {
             "line": {
              "color": "#E5ECF6",
              "width": 0.5
             },
             "pattern": {
              "fillmode": "overlay",
              "size": 10,
              "solidity": 0.2
             }
            },
            "type": "bar"
           }
          ],
          "barpolar": [
           {
            "marker": {
             "line": {
              "color": "#E5ECF6",
              "width": 0.5
             },
             "pattern": {
              "fillmode": "overlay",
              "size": 10,
              "solidity": 0.2
             }
            },
            "type": "barpolar"
           }
          ],
          "carpet": [
           {
            "aaxis": {
             "endlinecolor": "#2a3f5f",
             "gridcolor": "white",
             "linecolor": "white",
             "minorgridcolor": "white",
             "startlinecolor": "#2a3f5f"
            },
            "baxis": {
             "endlinecolor": "#2a3f5f",
             "gridcolor": "white",
             "linecolor": "white",
             "minorgridcolor": "white",
             "startlinecolor": "#2a3f5f"
            },
            "type": "carpet"
           }
          ],
          "choropleth": [
           {
            "colorbar": {
             "outlinewidth": 0,
             "ticks": ""
            },
            "type": "choropleth"
           }
          ],
          "contour": [
           {
            "colorbar": {
             "outlinewidth": 0,
             "ticks": ""
            },
            "colorscale": [
             [
              0.0,
              "#0d0887"
             ],
             [
              0.1111111111111111,
              "#46039f"
             ],
             [
              0.2222222222222222,
              "#7201a8"
             ],
             [
              0.3333333333333333,
              "#9c179e"
             ],
             [
              0.4444444444444444,
              "#bd3786"
             ],
             [
              0.5555555555555556,
              "#d8576b"
             ],
             [
              0.6666666666666666,
              "#ed7953"
             ],
             [
              0.7777777777777778,
              "#fb9f3a"
             ],
             [
              0.8888888888888888,
              "#fdca26"
             ],
             [
              1.0,
              "#f0f921"
             ]
            ],
            "type": "contour"
           }
          ],
          "contourcarpet": [
           {
            "colorbar": {
             "outlinewidth": 0,
             "ticks": ""
            },
            "type": "contourcarpet"
           }
          ],
          "heatmap": [
           {
            "colorbar": {
             "outlinewidth": 0,
             "ticks": ""
            },
            "colorscale": [
             [
              0.0,
              "#0d0887"
             ],
             [
              0.1111111111111111,
              "#46039f"
             ],
             [
              0.2222222222222222,
              "#7201a8"
             ],
             [
              0.3333333333333333,
              "#9c179e"
             ],
             [
              0.4444444444444444,
              "#bd3786"
             ],
             [
              0.5555555555555556,
              "#d8576b"
             ],
             [
              0.6666666666666666,
              "#ed7953"
             ],
             [
              0.7777777777777778,
              "#fb9f3a"
             ],
             [
              0.8888888888888888,
              "#fdca26"
             ],
             [
              1.0,
              "#f0f921"
             ]
            ],
            "type": "heatmap"
           }
          ],
          "heatmapgl": [
           {
            "colorbar": {
             "outlinewidth": 0,
             "ticks": ""
            },
            "colorscale": [
             [
              0.0,
              "#0d0887"
             ],
             [
              0.1111111111111111,
              "#46039f"
             ],
             [
              0.2222222222222222,
              "#7201a8"
             ],
             [
              0.3333333333333333,
              "#9c179e"
             ],
             [
              0.4444444444444444,
              "#bd3786"
             ],
             [
              0.5555555555555556,
              "#d8576b"
             ],
             [
              0.6666666666666666,
              "#ed7953"
             ],
             [
              0.7777777777777778,
              "#fb9f3a"
             ],
             [
              0.8888888888888888,
              "#fdca26"
             ],
             [
              1.0,
              "#f0f921"
             ]
            ],
            "type": "heatmapgl"
           }
          ],
          "histogram": [
           {
            "marker": {
             "pattern": {
              "fillmode": "overlay",
              "size": 10,
              "solidity": 0.2
             }
            },
            "type": "histogram"
           }
          ],
          "histogram2d": [
           {
            "colorbar": {
             "outlinewidth": 0,
             "ticks": ""
            },
            "colorscale": [
             [
              0.0,
              "#0d0887"
             ],
             [
              0.1111111111111111,
              "#46039f"
             ],
             [
              0.2222222222222222,
              "#7201a8"
             ],
             [
              0.3333333333333333,
              "#9c179e"
             ],
             [
              0.4444444444444444,
              "#bd3786"
             ],
             [
              0.5555555555555556,
              "#d8576b"
             ],
             [
              0.6666666666666666,
              "#ed7953"
             ],
             [
              0.7777777777777778,
              "#fb9f3a"
             ],
             [
              0.8888888888888888,
              "#fdca26"
             ],
             [
              1.0,
              "#f0f921"
             ]
            ],
            "type": "histogram2d"
           }
          ],
          "histogram2dcontour": [
           {
            "colorbar": {
             "outlinewidth": 0,
             "ticks": ""
            },
            "colorscale": [
             [
              0.0,
              "#0d0887"
             ],
             [
              0.1111111111111111,
              "#46039f"
             ],
             [
              0.2222222222222222,
              "#7201a8"
             ],
             [
              0.3333333333333333,
              "#9c179e"
             ],
             [
              0.4444444444444444,
              "#bd3786"
             ],
             [
              0.5555555555555556,
              "#d8576b"
             ],
             [
              0.6666666666666666,
              "#ed7953"
             ],
             [
              0.7777777777777778,
              "#fb9f3a"
             ],
             [
              0.8888888888888888,
              "#fdca26"
             ],
             [
              1.0,
              "#f0f921"
             ]
            ],
            "type": "histogram2dcontour"
           }
          ],
          "mesh3d": [
           {
            "colorbar": {
             "outlinewidth": 0,
             "ticks": ""
            },
            "type": "mesh3d"
           }
          ],
          "parcoords": [
           {
            "line": {
             "colorbar": {
              "outlinewidth": 0,
              "ticks": ""
             }
            },
            "type": "parcoords"
           }
          ],
          "pie": [
           {
            "automargin": true,
            "type": "pie"
           }
          ],
          "scatter": [
           {
            "marker": {
             "colorbar": {
              "outlinewidth": 0,
              "ticks": ""
             }
            },
            "type": "scatter"
           }
          ],
          "scatter3d": [
           {
            "line": {
             "colorbar": {
              "outlinewidth": 0,
              "ticks": ""
             }
            },
            "marker": {
             "colorbar": {
              "outlinewidth": 0,
              "ticks": ""
             }
            },
            "type": "scatter3d"
           }
          ],
          "scattercarpet": [
           {
            "marker": {
             "colorbar": {
              "outlinewidth": 0,
              "ticks": ""
             }
            },
            "type": "scattercarpet"
           }
          ],
          "scattergeo": [
           {
            "marker": {
             "colorbar": {
              "outlinewidth": 0,
              "ticks": ""
             }
            },
            "type": "scattergeo"
           }
          ],
          "scattergl": [
           {
            "marker": {
             "colorbar": {
              "outlinewidth": 0,
              "ticks": ""
             }
            },
            "type": "scattergl"
           }
          ],
          "scattermapbox": [
           {
            "marker": {
             "colorbar": {
              "outlinewidth": 0,
              "ticks": ""
             }
            },
            "type": "scattermapbox"
           }
          ],
          "scatterpolar": [
           {
            "marker": {
             "colorbar": {
              "outlinewidth": 0,
              "ticks": ""
             }
            },
            "type": "scatterpolar"
           }
          ],
          "scatterpolargl": [
           {
            "marker": {
             "colorbar": {
              "outlinewidth": 0,
              "ticks": ""
             }
            },
            "type": "scatterpolargl"
           }
          ],
          "scatterternary": [
           {
            "marker": {
             "colorbar": {
              "outlinewidth": 0,
              "ticks": ""
             }
            },
            "type": "scatterternary"
           }
          ],
          "surface": [
           {
            "colorbar": {
             "outlinewidth": 0,
             "ticks": ""
            },
            "colorscale": [
             [
              0.0,
              "#0d0887"
             ],
             [
              0.1111111111111111,
              "#46039f"
             ],
             [
              0.2222222222222222,
              "#7201a8"
             ],
             [
              0.3333333333333333,
              "#9c179e"
             ],
             [
              0.4444444444444444,
              "#bd3786"
             ],
             [
              0.5555555555555556,
              "#d8576b"
             ],
             [
              0.6666666666666666,
              "#ed7953"
             ],
             [
              0.7777777777777778,
              "#fb9f3a"
             ],
             [
              0.8888888888888888,
              "#fdca26"
             ],
             [
              1.0,
              "#f0f921"
             ]
            ],
            "type": "surface"
           }
          ],
          "table": [
           {
            "cells": {
             "fill": {
              "color": "#EBF0F8"
             },
             "line": {
              "color": "white"
             }
            },
            "header": {
             "fill": {
              "color": "#C8D4E3"
             },
             "line": {
              "color": "white"
             }
            },
            "type": "table"
           }
          ]
         },
         "layout": {
          "annotationdefaults": {
           "arrowcolor": "#2a3f5f",
           "arrowhead": 0,
           "arrowwidth": 1
          },
          "autotypenumbers": "strict",
          "coloraxis": {
           "colorbar": {
            "outlinewidth": 0,
            "ticks": ""
           }
          },
          "colorscale": {
           "diverging": [
            [
             0,
             "#8e0152"
            ],
            [
             0.1,
             "#c51b7d"
            ],
            [
             0.2,
             "#de77ae"
            ],
            [
             0.3,
             "#f1b6da"
            ],
            [
             0.4,
             "#fde0ef"
            ],
            [
             0.5,
             "#f7f7f7"
            ],
            [
             0.6,
             "#e6f5d0"
            ],
            [
             0.7,
             "#b8e186"
            ],
            [
             0.8,
             "#7fbc41"
            ],
            [
             0.9,
             "#4d9221"
            ],
            [
             1,
             "#276419"
            ]
           ],
           "sequential": [
            [
             0.0,
             "#0d0887"
            ],
            [
             0.1111111111111111,
             "#46039f"
            ],
            [
             0.2222222222222222,
             "#7201a8"
            ],
            [
             0.3333333333333333,
             "#9c179e"
            ],
            [
             0.4444444444444444,
             "#bd3786"
            ],
            [
             0.5555555555555556,
             "#d8576b"
            ],
            [
             0.6666666666666666,
             "#ed7953"
            ],
            [
             0.7777777777777778,
             "#fb9f3a"
            ],
            [
             0.8888888888888888,
             "#fdca26"
            ],
            [
             1.0,
             "#f0f921"
            ]
           ],
           "sequentialminus": [
            [
             0.0,
             "#0d0887"
            ],
            [
             0.1111111111111111,
             "#46039f"
            ],
            [
             0.2222222222222222,
             "#7201a8"
            ],
            [
             0.3333333333333333,
             "#9c179e"
            ],
            [
             0.4444444444444444,
             "#bd3786"
            ],
            [
             0.5555555555555556,
             "#d8576b"
            ],
            [
             0.6666666666666666,
             "#ed7953"
            ],
            [
             0.7777777777777778,
             "#fb9f3a"
            ],
            [
             0.8888888888888888,
             "#fdca26"
            ],
            [
             1.0,
             "#f0f921"
            ]
           ]
          },
          "colorway": [
           "#636efa",
           "#EF553B",
           "#00cc96",
           "#ab63fa",
           "#FFA15A",
           "#19d3f3",
           "#FF6692",
           "#B6E880",
           "#FF97FF",
           "#FECB52"
          ],
          "font": {
           "color": "#2a3f5f"
          },
          "geo": {
           "bgcolor": "white",
           "lakecolor": "white",
           "landcolor": "#E5ECF6",
           "showlakes": true,
           "showland": true,
           "subunitcolor": "white"
          },
          "hoverlabel": {
           "align": "left"
          },
          "hovermode": "closest",
          "mapbox": {
           "style": "light"
          },
          "paper_bgcolor": "white",
          "plot_bgcolor": "#E5ECF6",
          "polar": {
           "angularaxis": {
            "gridcolor": "white",
            "linecolor": "white",
            "ticks": ""
           },
           "bgcolor": "#E5ECF6",
           "radialaxis": {
            "gridcolor": "white",
            "linecolor": "white",
            "ticks": ""
           }
          },
          "scene": {
           "xaxis": {
            "backgroundcolor": "#E5ECF6",
            "gridcolor": "white",
            "gridwidth": 2,
            "linecolor": "white",
            "showbackground": true,
            "ticks": "",
            "zerolinecolor": "white"
           },
           "yaxis": {
            "backgroundcolor": "#E5ECF6",
            "gridcolor": "white",
            "gridwidth": 2,
            "linecolor": "white",
            "showbackground": true,
            "ticks": "",
            "zerolinecolor": "white"
           },
           "zaxis": {
            "backgroundcolor": "#E5ECF6",
            "gridcolor": "white",
            "gridwidth": 2,
            "linecolor": "white",
            "showbackground": true,
            "ticks": "",
            "zerolinecolor": "white"
           }
          },
          "shapedefaults": {
           "line": {
            "color": "#2a3f5f"
           }
          },
          "ternary": {
           "aaxis": {
            "gridcolor": "white",
            "linecolor": "white",
            "ticks": ""
           },
           "baxis": {
            "gridcolor": "white",
            "linecolor": "white",
            "ticks": ""
           },
           "bgcolor": "#E5ECF6",
           "caxis": {
            "gridcolor": "white",
            "linecolor": "white",
            "ticks": ""
           }
          },
          "title": {
           "x": 0.05
          },
          "xaxis": {
           "automargin": true,
           "gridcolor": "white",
           "linecolor": "white",
           "ticks": "",
           "title": {
            "standoff": 15
           },
           "zerolinecolor": "white",
           "zerolinewidth": 2
          },
          "yaxis": {
           "automargin": true,
           "gridcolor": "white",
           "linecolor": "white",
           "ticks": "",
           "title": {
            "standoff": 15
           },
           "zerolinecolor": "white",
           "zerolinewidth": 2
          }
         }
        },
        "xaxis": {
         "anchor": "y",
         "domain": [
          0.0,
          1.0
         ],
         "title": {
          "text": "0"
         }
        },
        "yaxis": {
         "anchor": "x",
         "domain": [
          0.0,
          1.0
         ],
         "title": {
          "text": "1"
         }
        },
        "legend": {
         "tracegroupgap": 0
        },
        "margin": {
         "t": 60
        }
       },
       "config": {
        "plotlyServerURL": "https://plot.ly"
       }
      },
      "text/html": "<div>                            <div id=\"50bb50ec-de86-4dd0-9e08-dbba287865b8\" class=\"plotly-graph-div\" style=\"height:525px; width:100%;\"></div>            <script type=\"text/javascript\">                require([\"plotly\"], function(Plotly) {                    window.PLOTLYENV=window.PLOTLYENV || {};                                    if (document.getElementById(\"50bb50ec-de86-4dd0-9e08-dbba287865b8\")) {                    Plotly.newPlot(                        \"50bb50ec-de86-4dd0-9e08-dbba287865b8\",                        [{\"hovertemplate\":\"<b>%{hovertext}</b><br><br>0=%{x}<br>1=%{y}<extra></extra>\",\"hovertext\":[\"Interactive Exploded Views for Molecular Structures\",\"Layer-Aware iOCT Volume Rendering for Retinal Surgery\",\"Introducing CNN-Based Mouse Grim Scale Analysis for Fully Automated Image-Based Assessment of Distress in Laboratory Mice\",\"Pelvis Runner: Visualizing Pelvic Organ Variability in a Cohort of Radiotherapy Patients\",\"Information-based Transfer Functions for Multimodal Visualization\",\"VR Acrophobia Treatment - Development of Customizable Acrophobia Inducing Scenarios\",\"Visual Exploratory Analysis for Multiple T-Maze Studies\",\"CoWRadar: Visual Quantification of the Circle of Willis in Stroke Patients\",\"Atomistic Visualization of Mesoscopic Whole-Cell Simulations\",\"Automatic Segmentation of the Pelvic Bones from CT Data Based on a Statistical Shape Model\",\"Multiparametric Magnetic Resonance Image Synthesis using Generative Adversarial Networks\",\"Misalignment Correction in Open Cone-Beam CT\",\"Watergate: Visual Exploration of Water Trajectories in Protein Dynamics\",\"Distance Field Visualization and 2D Abstraction of Vessel Tree Structures with on-the-fly Parameterization\",\"Semantic Segmentation of Brain Tumors in MRI Data Without any Labels\",\"Estimation of the Midsagittal Plane for Sideness Determination of Malignant Structures of Head and Neck\",\"Application of Image Processing Functions for Brain Tumor Enhancement in Intraoperative Ultrasound Image Data\",\"A Multilinear Model for Bidirectional Craniofacial Reconstruction\",\"Student and Teacher Meet in a Shared Virtual Reality: A one-on-one Tutoring System for Anatomy Education\",\"Synaptic Connectivity in Anatomically Realistic Neural Networks: Modeling and Visual Analysis\",\"Geometrical-Acoustics-based Ultrasound Image Simulation\",\"Feasibility Study For Automatic Bird Tracking and Visualization from Time-Dependent Marine Radar Imagery\",\"Deriving Anatomical Context from 4D Ultrasound\",\"CT-Based Navigation Guidance for Liver Tumor Ablation\",\"Design Considerations for Immersive Analytics of Bird Movements Obtained by Miniaturised GPS Sensors\",\"A Critical Analysis of the Evaluation Practice in Medical Visualization\",\"Sline: Seamless Line Illustration for Interactive Biomedical Visualization\",\"Reconstruction of Blood Vessels from Neck CT Datasets using Stable 3D Mass-Spring Models\",\"Visual Analysis of Regional Anomalies in Myocardial Motion\",\"Sketch-based Image-independent Editing of 3D Tumor Segmentations using Variational Interpolation\",\"HIFUpm: a Visual Environment to Plan and Monitor High Intensity Focused Ultrasound Treatments\",\"Uncertainty-aware Brain Lesion Visualization\",\"Monte-Carlo Ray-Tracing for Realistic Interactive Ultrasound Simulation\",\"Bone Fracture and Lesion Assessment using Shape-Adaptive Unfolding\",\"cellVIEW: a Tool for Illustrative and Multi-Scale Rendering of Large Biomolecular Datasets\",\"Interactive Classification of Multi-Shell Diffusion MRI With Features From a Dual-Branch CNN Autoencoder\",\"Using Position-Based Dynamics for Simulating the Mitral Valve in a Decision Support System\",\"Real-Time Guidance and Anatomical Information by Image Projection onto Patients\",\"PerSleep: A Visual Analytics Approach for Performance Assessment of Sleep Staging Models\",\"Estimation of Muscle Activity in One-Leg Stance from 3D Surface Deformation\",\"A New Vessel Enhancement Transform on Retinal Blood Vessels Segmentation\",\"Illustrative Multi-volume Rendering for PET/CT Scans\",\"Exploration of 3D Medical Image Data for Interventional Radiology using Myoelectric Gesture Control\",\"Projection Mapping for In-Situ Surgery Planning by the Example of DIEP Flap Breast Reconstruction\",\"Visibility-Driven Processing of Streaming Volume Data\",\"Automatic Animations to Analyze Blood Flow Data\",\"Polar Space Based Shape Averaging for Star-shaped Biological Objects\",\"HIFUtk: Visual Analytics for High Intensity Focused Ultrasound Simulation\",\"Anatomical Volume Visualization with Weighted Distance Fields\",\"VisualFlatter - Visual Analysis of Distortions in the Projection of Biomedical Structures\",\"Visual Navigation Support for Liver Applicator Placement using Interactive Map Displays\",\"Haptics-based Modelling of Pigmented Skin Lesions\",\"2.5D Geometric Mapping of Aortic Blood Flow Data for Cohort Visualization\",\"The BundleExplorer: A Focus and Context Rendering Framework for Complex Fiber Distributions\",\"Strategies for Generating Multi-Time Frame Localization of Cardiac MRI\",\"Visually Guided Mesh Smoothing for Medical Applications\",\"Guided Visualization of Ultrasound Image Sequences\",\"Visual Analysis and Comparison of Multiple Sequence Alignments\",\"Progressive and Efficient Multi-Resolution Representations for Brain Tractograms\",\"Histology-Based Evaluation of Optical Coherence Tomographic Characteristics of the Cerebral Artery Wall via Virtual Inflating\",\"Robust Classification and Analysis of Anatomical Surfaces Using 3D Skeletons\",\"PATHONE: From one Thousand Patients to one Cell\",\"Automatic Real-time Annotation of Important Landmarks in Ultrasound-Guided Femoral Nerve Blocks\",\"An Integrated Platform for Dynamic Cardiac Simulation and Image Processing: Application to Personalised Tetralogy of Fallot Simulation\",\"Visual Assessment of Vascular Torsion using Ellipse Fitting\",\"Generation of a Mean Motion Model of the Lung Using 4D-CT Image Data\",\"An Exploration of Practice and Preferences for the Visual Communication of Biomedical Processes\",\"On the Value of Multi-Volume Visualization for Preoperative Planning of Cerebral AVM Surgery\",\"A Framework for Visual Comparison of 4D PC-MRI Aortic Blood Flow Data\",\"Medical Animations: A Survey and a Research Agenda\",\"Visual Analytics in Histopathology Diagnostics: a Protocol-Based Approach\",\"Combining B-Mode and Color Flow Vessel Segmentation for Registration of Hepatic CT and Ultrasound Volumes\",\"Interactive Formation of Statistical Hypotheses in Diffusion Tensor Imaging\",\"Fast and Smooth Interactive Segmentation of Medical Images Using Variational Interpolation\",\"Discovering Medical Knowledge Using Visual Analytics\",\"Combining Pseudo Chroma Depth Enhancement and Parameter Mapping for Vascular Surface Models\",\"Model-based Solid Texture Synthesis for Anatomic Volume Illustration\",\"The Vitruvian Baby: Interactive Reformation of Fetal Ultrasound Data to a T-Position\",\"A Prototype Holographic Augmented Reality Interface for Image-Guided Prostate Cancer Interventions\",\"Automatic Hepatocyte Quantification from Histological Images: Comparing Pre-smoothing filters\",\"VirtualDSA++: Automated Segmentation, Vessel Labeling, Occlusion Detection and Graph Search on CT-Angiography Data\",\"A Guided Spatial Transformer Network for Histology Cell Differentiation\",\"Constrained Labeling of 2D Slice Data for Reading Images in Radiology\",\"Adapted Surface Visualization of Cerebral Aneurysms with Embedded Blood Flow Information\",\"Survey of Labeling Techniques in Medical Visualizations\",\"A Web-Based Tool for Cardiac Dyssynchrony Assessment on Ultrasound Data\",\"Interactive Visual Similarity Analysis of Measured and Simulated Multi-field Tubular Flow Ensembles\",\"Membrane Mapping: Combining Mesoscopic and Molecular Cell Visualization\",\"An Endoscope Interface for Immersive Virtual Reality\",\"A Statistical Method for Surface Detection\",\"Analyzing Protein Similarity by Clustering Molecular Surface Maps\",\"Automatic Thrombus Detection in Non-enhanced Computed Tomography Images in Patients With Acute Ischemic Stroke\",\"A General Approach to Model Biomedical Data from 3D Unorganised Point Clouds with Medial Scaffolds\",\"preha: Establishing Precision Rehabilitation with Visual Analytics\",\"Aneulysis - A System for Aneurysm Data Analysis\",\"A Haptic Rendering Algorithm for Molecular Interaction\",\"Maximizing AUC with Deep Learning for Classification of Imbalanced Mammogram Datasets\",\"Real-Time Visualization of 3D Amyloid-Beta Fibrils from 2D Cryo-EM Density Maps\",\"Visual Analysis of Medical Image Segmentation Feature Space for Interactive Supervised Classification\",\"Interactive Residual Stress Modeling for Soft Tissue Simulation\",\"Colonic Content Assessment from MRI Imaging Using a Semi-automatic Approach\",\"Tractography in Context: Multimodal Visualization of Probabilistic Tractograms in Anatomical Context\",\"Ontology-Based Visualization of Hierarchical Neuroanatomical Structures\",\"Visualizing and Exploring Dynamic Multichannel EEG Coherence Networks\",\"Automatic Generation of Web-Based User Studies to Evaluate Depth Perception in Vascular Surface Visualizations\",\"A Survey of Cardiac 4D PC-MRI Data Processing\",\"Simulation-based Ultrasound Training Supported by Annotations, Haptics and Linked Multimodal Views\",\"Aortic Dissection Maps: Comprehensive Visualization of Aortic Dissections for Risk Assessment\",\"Recent Advances in MRI and Ultrasound Perfusion Imaging\",\"Semi-Immersive 3D Sketching of Vascular Structures for Medical Education\",\"Comparative Visualization for Diffusion Tensor Imaging Group Study at Multiple Levels of Detail\",\"Motion-moderated Transfer Function for Volume Rendering 4D CMR Data\",\"A Web-based Application for the Visual Exploration of Colon Morphology Data\",\"Interactive Multimodal Imaging Visualization for Multiple Sclerosis Lesion Analysis\",\"Unfolding and Interactive Exploration of Protein Tunnels and their Dynamics\",\"Graph Averaging as a Means to Compare Multichannel EEG Coherence Networks\",\"Evaluation of Hippocampal Segmentation Methods for Healthy and Pathological Subjects\",\"DockVis: Visual Analysis of Molecular Docking Data\",\"Protein Tunnel Reprojection for Physico-Chemical Property Analysis\",\"Interactive CPU-based Ray Tracing of Solvent Excluded Surfaces\",\"Lowest-Variance Streamlines for Filtering of 3D Ultrasound\",\"Image Registration Methods for Patient-Specific Virtual Physiological Human Models\",\"Visualisation of PET data in the Fly Algorithm\",\"Vologram: An Educational Holographic Sculpture for Volumetric Medical Data Physicalization\",\"InkVis: A High-Particle-Count Approach for Visualization of Phase-Contrast Magnetic Resonance Imaging Data\",\"Automatic Cutting and Flattening of Carotid Artery Geometries\",\"BrainCove: A Tool for Voxel-wise fMRI Brain Connectivity Visualization\",\"Visual Analytics in Digital Pathology: Challenges and Opportunities\",\"Visual Analytics of Missing Data in Epidemiological Cohort Studies\",\"Visualization and Exploration of 3D Toponome Data\",\"Fully Automatic Skull-Stripping in 3D Time-of-Flight MRA Image Sequences\",\"The iCoCooN: Integration of Cobweb Charts with Parallel Coordinates for Visual Analysis of DCE-MRI Modeling Variations\",\"Computation of More Channels in Protein Molecules\",\"RegistrationShop: An Interactive 3D Medical Volume Registration System\",\"A Comparative User Study of a 2D and an Autostereoscopic 3D Display for a Tympanoplastic Surgery\",\"SWiFT Seeing the Wood From the Trees: helping people make sense of their health data\",\"How to Evaluate Medical Visualizations on the Example of 3D Aneurysm Surfaces\",\"Spatio-temporal Visualization of Regional Myocardial Velocities\",\"Visual Analysis of Multivariate Intensive Care Surveillance Data\",\"A Framework for Fast Initial Exploration of PC-MRI Cardiac Flow\",\"Multi-fiber Estimation and Tractography for Diffusion MRI using mixture of Non-central Wishart Distributions\",\"Towards Clinical Deployment of Automated Anatomical Regions-Of-Interest\",\"ICG based Augmented-Reality-System for Sentinel Lymph Node Biopsy\",\"The Role of Depth Perception in XR from a Neuroscience Perspective: A Primer and Survey\",\"SpectraMosaic: An Exploratory Tool for the Interactive Visual Analysis of Magnetic Resonance Spectroscopy Data\",\"Visual Analysis of Bipartite Biological Networks\",\"Extracting and Visualizing Uncertainties in Segmentations from 3D Medical Data\",\"Illustrative Transitions in Molecular Visualization via Forward and Inverse Abstraction Transform\",\"Semi-Automatic Vessel Boundary Detection in Cardiac 4D PC-MRI Data Using FTLE fields\",\"From Imprecise User Input to Precise Vessel Segmentations\",\"GPU Accelerated Normalized Mutual Information and B-Spline Transformation\",\"QuantiScale: A Study in Redesigning Interactions for Multi-Touch\",\"Visualization-Guided Evaluation of Simulated Minimally Invasive Cancer Treatment\",\"Inlier Detection in Thermal Sensitive Images\",\"Uncertainty-aware Ensemble of Classifiers for Segmenting Brain MRI Data\",\"Reducing Model Uncertainty in Crossing Fiber Tractography\",\"VRIDAA: Virtual Reality Platform for Training and Planning Implantations of Occluder Devices in Left Atrial Appendages\",\"Hybrid Visualization of Protein-Lipid and Protein-Protein Interaction\",\"Temporal Interpolation of 4D PC-MRI Blood-flow Measurements Using Bidirectional Physics-based Fluid Simulation\",\"Glyph-Based Visualization of Myocardial Perfusion Data and Enhancement with Contractility and Viability Information\",\"Robustness Evaluation of CFD Simulations to Mesh Deformation\",\"GLANCE: Visual Analytics for Monitoring Glaucoma Progression\",\"Shading Style Assessment for Vessel Wall and Lumen Visualization\",\"Visualizing White Matter Fiber Tracts with Optimally Fitted Curved Dissection Surfaces\",\"Molecular Sombreros: Abstract Visualization of Binding Sites within Proteins\",\"Impact of Physical Noise Modeling on Image Segmentation in Echocardiography\",\"Personalized X-ray Reconstruction of the Proximal Femur via a New Control Point-based 2D-3D Registration and Residual Complexity Minimization\",\"Learning Hand Anatomy with Sense of Embodiment\",\"Ultrasound Decompression for Large Field-of-View Reconstructions\",\"Iterative Exploration of Big Brain Network Data\",\"Visual Assessment of Growth Prediction in Brain Structures after Pediatric Radiotherapy\",\"Chameleon - Dynamic Color Mapping for Multi-Scale Structural Biology Models\",\"Computational Steering for Patient-Specific Implant Planning in Orthopedics\",\"Uncertainty Estimation and Visualization for Multi-modal Image Segmentation\",\"Computation and Visualization of Asynchronous Behavior of the Heart\",\"Graxels: Information Rich Primitives for the Visualization of Time-Dependent Spatial Data\",\"Robust Cardiac Function Assessment in 4D PC-MRI Data\",\"Focus + Context Rendering of Structured Biomedical Data\",\"Instant Visualization of Secondary Structures of Molecular Models\",\"Fiber Stipples for Crossing Tracts in Probabilistic Tractography\",\"Illustrated Ultrasound for Multimodal Data Interpretation of Liver Examinations\",\"Visual Analysis of Evolution of EEG Coherence Networks employing Temporal Multidimensional Scaling\",\"A Haptics-enabled Simulator for Transperineal Ultrasound-Guided Biopsy\",\"Interactive Real Time Simulation of Cardiac Radio-Frequency Ablation\",\"A Visual Analytics Approach for Patient Stratification and Biomarker Discovery\",\"A Survey on Visualizing Magnetic Resonance Spectroscopy Data\",\"Deriving and Visualizing Uncertainty in Kinetic PET Modeling\",\"Efficient Globally Optimal Matching of Anatomical Trees of the Liver\",\"CT Late Enhancement Segmentation for the Combined Analysis of Coronary Arteries and Myocardial Viability\",\"Visual and Quantitative Analysis of Higher Order Arborization Overlaps for Neural Circuit Research\",\"Visualizing Movements of Protein Tunnels in Molecular Dynamics Simulations\",\"MRI Hip Joint Segmentation: A Locally Bhattacharyya Weighted Hybrid 3D Level Set Approach\",\"Exploration of Interventricular Septum Motion in Multi-Cycle Cardiac MRI\",\"Annotated Dendrograms for Neurons From the Larval Fruit Fly Brain\",\"Global and Local Mesh Morphing for Complex Biological Objects from \\u00b5CT Data\",\"Accelerated Diffusion Operators for Enhancing DW-MRI\",\"Multiple Scale Visualization of Electronic Health Records to Support Finding Medical Narratives\",\"Simulated Motion Artefact in Computed Tomography\",\"Parameterization and Feature Extraction for the Visualization of Tree-like Structures\",\"Concentric Circle Glyphs for Enhanced Depth-Judgment in Vascular Models\",\"Imaging the Vascular Network of the Human Spleen from Immunostained Serial Sections\",\"Surface Curvature Line Clustering for Polyp Detection in CT Colonography\",\"Schematic Electrode Map for Navigation in Neuro Data Sets\",\"Staircase-Aware Smoothing of Medical Surface Meshes\",\"Challenges and Technologies for Low Cost Wheelchair Simulation\",\"High-Quality Multimodal Volume Visualization of Intracerebral Pathological Tissue\",\"AR-Assisted Craniotomy Planning for Tumour Resection\",\"Visual Analytics for the Exploration and Assessment of Segmentation Errors\",\"FoldSynth: Interactive 2D/3D Visualisation Platform for Molecular Strands\",\"MedUse: A Visual Analysis Tool for Medication Use Data in the ABCD Study\",\"The Virtual Reality Flow Lens for Blood Flow Exploration\",\"A Two-Level Cascade Classification Algorithm for Real-Time Bifurcation Detection in CTA Images of Blood Vessels\",\"Parametric-based Reconstruction Of 3D Mesh Models; Towards the Generation of a Parametric Human Foot Biomodel\",\"Illustrative PET/CT Visualisation of SIRT-Treated Lung Metastases\",\"Uncertainty-Guided Semi-Automated Editing of CNN-based Retinal Layer Segmentations in Optical Coherence Tomography\",\"Interactive Visualization of Muscle Activity During Limb Movements: Towards Enhanced Anatomy Learning\",\"Feature Exploration using Local Frequency Distributions in Computed Tomography Data\",\"Visual Analysis of Integrated Resting State Functional Brain Connectivity and Anatomy\",\"UI-Net: Interactive Artificial Neural Networks for Iterative Image Segmentation Based on a User Model\",\"A Visual Environment for Hypothesis Formation and Reasoning in Studies with fMRI and Multivariate Clinical Data\",\"A Feasibility Study on Automated Protein Aggregate Characterization Utilizing a Hybrid Classification Model\",\"Importance-Driven Structure Categorization for 3D Surgery Planning\",\"Automated Slice-Based Artery Identification in Various Field-of-View CTA Scans\",\"Dynamic Visualisation of Orbital Fat Deformation using Anatomy-Guided Interaction\",\"Interactive Position-dependent Customization of Transfer Function Classification Parameters in Volume Rendering\",\"FluoroSim: A Visual Problem-Solving Environment for Fluorescence Microscopy\",\"Coherence Maps for Blood Flow Exploration\",\"InShaDe: Invariant Shape Descriptors for Visual Analysis of Histology 2D Cellular and Nuclear Shapes\",\"Improving Perception of Molecular Surface Visualizations by Incorporating Translucency Effects\",\"Interactive Labeling of Toponome Data\",\"Volume Visualization Using Principal Component Analysis\",\"Real-Time Dense Nucleus Selection from Confocal Data\",\"Evolutionary Pathlines for Blood Flow Exploration in Cerebral Aneurysms\",\"Semantic Screen-Space Occlusion for Multiscale Molecular Visualization\",\"Evaluation of Transfer Function Methods in Direct Volume Rendering of the Blood Vessel Lumen\",\"Mammogram Classification and Abnormality Detection from Nonlocal Labels using Deep Multiple Instance Neural Network\"],\"legendgroup\":\"\",\"marker\":{\"color\":\"#636efa\",\"opacity\":1,\"symbol\":\"circle\"},\"mode\":\"markers\",\"name\":\"\",\"orientation\":\"v\",\"showlegend\":false,\"x\":[8.195077896118164,3.8977482318878174,3.6691184043884277,4.513609409332275,5.639538288116455,5.700282096862793,6.414506912231445,0.6587456464767456,8.556120872497559,3.913581371307373,5.4987640380859375,3.1466689109802246,8.384326934814453,4.045699119567871,3.0664050579071045,3.296949625015259,2.951202869415283,3.797516107559204,5.635402202606201,7.450741767883301,3.178227424621582,5.877899646759033,2.395298480987549,3.2115116119384766,5.740634441375732,5.085324287414551,5.037215709686279,0.19824013113975525,0.9362666606903076,4.513566493988037,3.045201063156128,2.963426351547241,3.5471858978271484,1.6092935800552368,8.473108291625977,5.5660200119018555,1.517059087753296,5.400040149688721,5.382359027862549,2.15214204788208,0.7494155168533325,3.606795072555542,5.551913261413574,3.4946846961975098,5.388031005859375,1.1921225786209106,4.469828128814697,2.9850993156433105,4.320629596710205,7.861673831939697,3.5991129875183105,2.9624860286712646,1.1636409759521484,6.855162620544434,1.6833800077438354,4.052959442138672,4.712469100952148,5.516195774078369,5.828056335449219,0.5567891001701355,4.088846683502197,5.455539703369141,0.04361695051193237,4.959379196166992,1.0338817834854126,0.6924437284469604,5.4096150398254395,3.160919427871704,1.3528445959091187,5.409175872802734,5.174741268157959,2.271827220916748,6.424174785614014,4.042259216308594,5.695483207702637,4.552794456481934,4.176207542419434,4.767779350280762,2.913602352142334,4.554823398590088,0.03494027256965637,3.190636396408081,5.267710208892822,1.1611261367797852,5.364370822906494,0.792938232421875,1.5162367820739746,8.84538745880127,5.849574089050293,4.27077579498291,7.9585065841674805,-0.0011993992375209928,3.9758846759796143,5.02144193649292,1.21454918384552,8.792487144470215,3.1581907272338867,9.032423973083496,5.518867492675781,2.013056516647339,2.4620559215545654,6.216114521026611,7.033576011657715,6.985133647918701,5.313690662384033,0.8826098442077637,2.6871931552886963,1.2416667938232422,0.22638723254203796,4.243115425109863,6.431089401245117,1.1520912647247314,2.374419927597046,2.960421562194824,8.280877113342285,4.197702884674072,3.0821268558502197,8.449610710144043,9.043898582458496,8.856847763061523,2.900486707687378,2.4129316806793213,3.4405362606048584,5.382113456726074,1.6966302394866943,0.9743375182151794,7.016231536865234,5.611146926879883,4.958751678466797,7.847696304321289,4.6231513023376465,6.580679416656494,8.625816345214844,2.8103408813476562,2.7144126892089844,5.638930797576904,4.868574619293213,0.9180891513824463,4.935886383056641,1.3928663730621338,6.753049373626709,4.920146465301514,3.7940826416015625,5.338366985321045,4.0061469078063965,7.164495468139648,4.372255325317383,7.978328704833984,1.3224513530731201,5.088847637176514,5.41925573348999,5.4712982177734375,4.809928894042969,4.4679083824157715,5.127917766571045,6.663858413696289,2.632230281829834,8.095682144165039,1.4909862279891968,0.3814772367477417,1.3800232410430908,5.430405616760254,1.126430869102478,6.7862372398376465,9.073002815246582,3.0970840454101562,2.455946683883667,2.6753756999969482,2.743212938308716,7.137704849243164,3.0608465671539307,4.569674015045166,4.159738540649414,4.834917068481445,0.7218209505081177,6.5603413581848145,1.2013227939605713,6.191327095031738,8.608650207519531,6.692780494689941,2.7175590991973877,6.8804707527160645,3.0165555477142334,2.530604839324951,4.868016719818115,3.8340821266174316,6.67586088180542,5.593672275543213,0.26353010535240173,7.488162994384766,8.87258529663086,4.177733421325684,1.0048749446868896,7.5227460861206055,4.450489521026611,6.425902843475342,5.61944580078125,3.2358572483062744,4.328525066375732,5.133155345916748,1.2376186847686768,4.06913423538208,3.7158896923065186,4.2712202072143555,5.790075302124023,2.918538808822632,3.3922996520996094,5.27591609954834,8.597763061523438,5.259169578552246,4.408725261688232,0.05012819916009903,4.041508674621582,3.4048349857330322,4.707518100738525,2.5283002853393555,6.362570762634277,6.961226463317871,5.40403413772583,6.390354156494141,5.889279365539551,5.295716762542725,0.05539057031273842,4.352816104888916,5.562385082244873,8.394429206848145,1.474724531173706,4.210072040557861,8.883522987365723,7.512001037597656,3.7216005325317383,7.050452709197998,1.2246626615524292,4.406136512756348,0.7127393484115601,3.2958903312683105],\"xaxis\":\"x\",\"y\":[3.98250675201416,4.275808334350586,6.704298496246338,7.0889892578125,2.183544635772705,5.997064590454102,4.312767028808594,3.981008529663086,4.587789058685303,2.071776866912842,3.4789390563964844,2.3796122074127197,4.09692907333374,3.13802433013916,6.4905853271484375,5.726902008056641,4.952203750610352,2.802835702896118,6.291025638580322,2.7613208293914795,3.578030824661255,5.164550304412842,2.9500789642333984,5.044594764709473,5.474778175354004,7.229801654815674,5.003885746002197,4.40726375579834,3.1499087810516357,2.3250391483306885,4.799112319946289,6.128537654876709,3.3929460048675537,5.2081828117370605,4.514667987823486,3.2253293991088867,3.654613971710205,7.238079071044922,6.931417942047119,3.694911003112793,4.552178859710693,5.642655849456787,6.2932448387146,5.268904685974121,1.9244694709777832,3.813833236694336,2.9750328063964844,4.401832103729248,2.0834829807281494,4.244724750518799,5.05661153793335,6.254620552062988,3.5056960582733154,1.2113800048828125,2.9520816802978516,2.3203043937683105,4.592682838439941,4.009798049926758,2.9309678077697754,4.491481304168701,2.9952690601348877,7.196637153625488,4.487981796264648,5.017330646514893,4.679555416107178,3.411186695098877,5.731644630432129,5.490257263183594,2.8349170684814453,5.2696309089660645,7.2989091873168945,2.998781442642212,4.0675811767578125,2.289562702178955,6.730067253112793,3.6151349544525146,3.1362223625183105,4.700037002563477,3.9487392902374268,1.810503363609314,4.385409355163574,6.770818710327148,4.490097522735596,4.275844573974609,4.675232887268066,3.34460711479187,2.492753505706787,4.568828582763672,5.926335334777832,1.7104558944702148,3.716970443725586,4.37169885635376,2.9985175132751465,7.440413951873779,4.0832133293151855,4.345905780792236,6.740578651428223,4.243180751800537,3.1282291412353516,3.7472662925720215,5.635927677154541,3.077235221862793,2.862595796585083,2.5192363262176514,5.641592979431152,3.3129794597625732,3.9418394565582275,4.194394111633301,3.711871862411499,4.516441822052002,3.810486078262329,3.0917062759399414,5.529714107513428,6.009445667266846,3.9303739070892334,1.4306309223175049,6.705508708953857,4.152651786804199,3.9097344875335693,4.286552429199219,2.618364095687866,2.8888585567474365,2.348273992538452,5.772207736968994,2.7561748027801514,4.630147457122803,2.505204439163208,6.75531005859375,7.3080549240112305,3.6308627128601074,1.9913678169250488,3.798862934112549,4.436720371246338,3.5884368419647217,4.1680755615234375,6.793811798095703,4.88010835647583,3.1570444107055664,7.3172831535339355,3.184067487716675,1.215320348739624,7.07344913482666,4.33644437789917,5.639804363250732,5.796213626861572,2.906120777130127,2.0757741928100586,4.085993766784668,2.589371681213379,3.3422725200653076,1.9887770414352417,5.312841892242432,7.273636341094971,1.7191822528839111,3.2954635620117188,1.3150081634521484,4.10695743560791,3.7408721446990967,2.4734926223754883,3.6121692657470703,2.490661382675171,6.848235607147217,4.439682960510254,1.2280676364898682,4.017741680145264,2.9600391387939453,2.816352367401123,3.913377285003662,2.546297788619995,2.769179582595825,6.150835037231445,3.892608165740967,2.2297303676605225,3.1314077377319336,3.347759485244751,3.2408924102783203,3.381716728210449,3.033588409423828,4.36781120300293,1.301269769668579,3.2576239109039307,2.779027223587036,4.025177478790283,4.183089256286621,7.494975566864014,5.794557571411133,3.681835651397705,2.0822501182556152,3.7368035316467285,2.8035435676574707,3.883497714996338,1.582991361618042,3.085280656814575,2.84759783744812,2.84259033203125,1.524174690246582,6.787888526916504,2.319427728652954,2.909555196762085,3.5839273929595947,4.924947261810303,1.8236693143844604,5.13181734085083,2.261317491531372,5.797573566436768,5.8366899490356445,5.360519886016846,3.838578462600708,4.126314163208008,6.95207405090332,4.82134485244751,4.429903507232666,2.310638189315796,5.644955635070801,2.4108362197875977,3.8765695095062256,3.491786003112793,2.443768262863159,3.241429567337036,4.298439025878906,3.8754539489746094,4.898100852966309,4.343236923217773,3.477118492126465,2.065120220184326,4.675958156585693,2.40181565284729,2.997853994369507,4.298623085021973,3.545985460281372,2.4292166233062744,3.4699718952178955,4.060847282409668,4.03307580947876,4.177204608917236,6.637223720550537],\"yaxis\":\"y\",\"type\":\"scatter\"}],                        {\"template\":{\"data\":{\"bar\":[{\"error_x\":{\"color\":\"#2a3f5f\"},\"error_y\":{\"color\":\"#2a3f5f\"},\"marker\":{\"line\":{\"color\":\"#E5ECF6\",\"width\":0.5},\"pattern\":{\"fillmode\":\"overlay\",\"size\":10,\"solidity\":0.2}},\"type\":\"bar\"}],\"barpolar\":[{\"marker\":{\"line\":{\"color\":\"#E5ECF6\",\"width\":0.5},\"pattern\":{\"fillmode\":\"overlay\",\"size\":10,\"solidity\":0.2}},\"type\":\"barpolar\"}],\"carpet\":[{\"aaxis\":{\"endlinecolor\":\"#2a3f5f\",\"gridcolor\":\"white\",\"linecolor\":\"white\",\"minorgridcolor\":\"white\",\"startlinecolor\":\"#2a3f5f\"},\"baxis\":{\"endlinecolor\":\"#2a3f5f\",\"gridcolor\":\"white\",\"linecolor\":\"white\",\"minorgridcolor\":\"white\",\"startlinecolor\":\"#2a3f5f\"},\"type\":\"carpet\"}],\"choropleth\":[{\"colorbar\":{\"outlinewidth\":0,\"ticks\":\"\"},\"type\":\"choropleth\"}],\"contour\":[{\"colorbar\":{\"outlinewidth\":0,\"ticks\":\"\"},\"colorscale\":[[0.0,\"#0d0887\"],[0.1111111111111111,\"#46039f\"],[0.2222222222222222,\"#7201a8\"],[0.3333333333333333,\"#9c179e\"],[0.4444444444444444,\"#bd3786\"],[0.5555555555555556,\"#d8576b\"],[0.6666666666666666,\"#ed7953\"],[0.7777777777777778,\"#fb9f3a\"],[0.8888888888888888,\"#fdca26\"],[1.0,\"#f0f921\"]],\"type\":\"contour\"}],\"contourcarpet\":[{\"colorbar\":{\"outlinewidth\":0,\"ticks\":\"\"},\"type\":\"contourcarpet\"}],\"heatmap\":[{\"colorbar\":{\"outlinewidth\":0,\"ticks\":\"\"},\"colorscale\":[[0.0,\"#0d0887\"],[0.1111111111111111,\"#46039f\"],[0.2222222222222222,\"#7201a8\"],[0.3333333333333333,\"#9c179e\"],[0.4444444444444444,\"#bd3786\"],[0.5555555555555556,\"#d8576b\"],[0.6666666666666666,\"#ed7953\"],[0.7777777777777778,\"#fb9f3a\"],[0.8888888888888888,\"#fdca26\"],[1.0,\"#f0f921\"]],\"type\":\"heatmap\"}],\"heatmapgl\":[{\"colorbar\":{\"outlinewidth\":0,\"ticks\":\"\"},\"colorscale\":[[0.0,\"#0d0887\"],[0.1111111111111111,\"#46039f\"],[0.2222222222222222,\"#7201a8\"],[0.3333333333333333,\"#9c179e\"],[0.4444444444444444,\"#bd3786\"],[0.5555555555555556,\"#d8576b\"],[0.6666666666666666,\"#ed7953\"],[0.7777777777777778,\"#fb9f3a\"],[0.8888888888888888,\"#fdca26\"],[1.0,\"#f0f921\"]],\"type\":\"heatmapgl\"}],\"histogram\":[{\"marker\":{\"pattern\":{\"fillmode\":\"overlay\",\"size\":10,\"solidity\":0.2}},\"type\":\"histogram\"}],\"histogram2d\":[{\"colorbar\":{\"outlinewidth\":0,\"ticks\":\"\"},\"colorscale\":[[0.0,\"#0d0887\"],[0.1111111111111111,\"#46039f\"],[0.2222222222222222,\"#7201a8\"],[0.3333333333333333,\"#9c179e\"],[0.4444444444444444,\"#bd3786\"],[0.5555555555555556,\"#d8576b\"],[0.6666666666666666,\"#ed7953\"],[0.7777777777777778,\"#fb9f3a\"],[0.8888888888888888,\"#fdca26\"],[1.0,\"#f0f921\"]],\"type\":\"histogram2d\"}],\"histogram2dcontour\":[{\"colorbar\":{\"outlinewidth\":0,\"ticks\":\"\"},\"colorscale\":[[0.0,\"#0d0887\"],[0.1111111111111111,\"#46039f\"],[0.2222222222222222,\"#7201a8\"],[0.3333333333333333,\"#9c179e\"],[0.4444444444444444,\"#bd3786\"],[0.5555555555555556,\"#d8576b\"],[0.6666666666666666,\"#ed7953\"],[0.7777777777777778,\"#fb9f3a\"],[0.8888888888888888,\"#fdca26\"],[1.0,\"#f0f921\"]],\"type\":\"histogram2dcontour\"}],\"mesh3d\":[{\"colorbar\":{\"outlinewidth\":0,\"ticks\":\"\"},\"type\":\"mesh3d\"}],\"parcoords\":[{\"line\":{\"colorbar\":{\"outlinewidth\":0,\"ticks\":\"\"}},\"type\":\"parcoords\"}],\"pie\":[{\"automargin\":true,\"type\":\"pie\"}],\"scatter\":[{\"marker\":{\"colorbar\":{\"outlinewidth\":0,\"ticks\":\"\"}},\"type\":\"scatter\"}],\"scatter3d\":[{\"line\":{\"colorbar\":{\"outlinewidth\":0,\"ticks\":\"\"}},\"marker\":{\"colorbar\":{\"outlinewidth\":0,\"ticks\":\"\"}},\"type\":\"scatter3d\"}],\"scattercarpet\":[{\"marker\":{\"colorbar\":{\"outlinewidth\":0,\"ticks\":\"\"}},\"type\":\"scattercarpet\"}],\"scattergeo\":[{\"marker\":{\"colorbar\":{\"outlinewidth\":0,\"ticks\":\"\"}},\"type\":\"scattergeo\"}],\"scattergl\":[{\"marker\":{\"colorbar\":{\"outlinewidth\":0,\"ticks\":\"\"}},\"type\":\"scattergl\"}],\"scattermapbox\":[{\"marker\":{\"colorbar\":{\"outlinewidth\":0,\"ticks\":\"\"}},\"type\":\"scattermapbox\"}],\"scatterpolar\":[{\"marker\":{\"colorbar\":{\"outlinewidth\":0,\"ticks\":\"\"}},\"type\":\"scatterpolar\"}],\"scatterpolargl\":[{\"marker\":{\"colorbar\":{\"outlinewidth\":0,\"ticks\":\"\"}},\"type\":\"scatterpolargl\"}],\"scatterternary\":[{\"marker\":{\"colorbar\":{\"outlinewidth\":0,\"ticks\":\"\"}},\"type\":\"scatterternary\"}],\"surface\":[{\"colorbar\":{\"outlinewidth\":0,\"ticks\":\"\"},\"colorscale\":[[0.0,\"#0d0887\"],[0.1111111111111111,\"#46039f\"],[0.2222222222222222,\"#7201a8\"],[0.3333333333333333,\"#9c179e\"],[0.4444444444444444,\"#bd3786\"],[0.5555555555555556,\"#d8576b\"],[0.6666666666666666,\"#ed7953\"],[0.7777777777777778,\"#fb9f3a\"],[0.8888888888888888,\"#fdca26\"],[1.0,\"#f0f921\"]],\"type\":\"surface\"}],\"table\":[{\"cells\":{\"fill\":{\"color\":\"#EBF0F8\"},\"line\":{\"color\":\"white\"}},\"header\":{\"fill\":{\"color\":\"#C8D4E3\"},\"line\":{\"color\":\"white\"}},\"type\":\"table\"}]},\"layout\":{\"annotationdefaults\":{\"arrowcolor\":\"#2a3f5f\",\"arrowhead\":0,\"arrowwidth\":1},\"autotypenumbers\":\"strict\",\"coloraxis\":{\"colorbar\":{\"outlinewidth\":0,\"ticks\":\"\"}},\"colorscale\":{\"diverging\":[[0,\"#8e0152\"],[0.1,\"#c51b7d\"],[0.2,\"#de77ae\"],[0.3,\"#f1b6da\"],[0.4,\"#fde0ef\"],[0.5,\"#f7f7f7\"],[0.6,\"#e6f5d0\"],[0.7,\"#b8e186\"],[0.8,\"#7fbc41\"],[0.9,\"#4d9221\"],[1,\"#276419\"]],\"sequential\":[[0.0,\"#0d0887\"],[0.1111111111111111,\"#46039f\"],[0.2222222222222222,\"#7201a8\"],[0.3333333333333333,\"#9c179e\"],[0.4444444444444444,\"#bd3786\"],[0.5555555555555556,\"#d8576b\"],[0.6666666666666666,\"#ed7953\"],[0.7777777777777778,\"#fb9f3a\"],[0.8888888888888888,\"#fdca26\"],[1.0,\"#f0f921\"]],\"sequentialminus\":[[0.0,\"#0d0887\"],[0.1111111111111111,\"#46039f\"],[0.2222222222222222,\"#7201a8\"],[0.3333333333333333,\"#9c179e\"],[0.4444444444444444,\"#bd3786\"],[0.5555555555555556,\"#d8576b\"],[0.6666666666666666,\"#ed7953\"],[0.7777777777777778,\"#fb9f3a\"],[0.8888888888888888,\"#fdca26\"],[1.0,\"#f0f921\"]]},\"colorway\":[\"#636efa\",\"#EF553B\",\"#00cc96\",\"#ab63fa\",\"#FFA15A\",\"#19d3f3\",\"#FF6692\",\"#B6E880\",\"#FF97FF\",\"#FECB52\"],\"font\":{\"color\":\"#2a3f5f\"},\"geo\":{\"bgcolor\":\"white\",\"lakecolor\":\"white\",\"landcolor\":\"#E5ECF6\",\"showlakes\":true,\"showland\":true,\"subunitcolor\":\"white\"},\"hoverlabel\":{\"align\":\"left\"},\"hovermode\":\"closest\",\"mapbox\":{\"style\":\"light\"},\"paper_bgcolor\":\"white\",\"plot_bgcolor\":\"#E5ECF6\",\"polar\":{\"angularaxis\":{\"gridcolor\":\"white\",\"linecolor\":\"white\",\"ticks\":\"\"},\"bgcolor\":\"#E5ECF6\",\"radialaxis\":{\"gridcolor\":\"white\",\"linecolor\":\"white\",\"ticks\":\"\"}},\"scene\":{\"xaxis\":{\"backgroundcolor\":\"#E5ECF6\",\"gridcolor\":\"white\",\"gridwidth\":2,\"linecolor\":\"white\",\"showbackground\":true,\"ticks\":\"\",\"zerolinecolor\":\"white\"},\"yaxis\":{\"backgroundcolor\":\"#E5ECF6\",\"gridcolor\":\"white\",\"gridwidth\":2,\"linecolor\":\"white\",\"showbackground\":true,\"ticks\":\"\",\"zerolinecolor\":\"white\"},\"zaxis\":{\"backgroundcolor\":\"#E5ECF6\",\"gridcolor\":\"white\",\"gridwidth\":2,\"linecolor\":\"white\",\"showbackground\":true,\"ticks\":\"\",\"zerolinecolor\":\"white\"}},\"shapedefaults\":{\"line\":{\"color\":\"#2a3f5f\"}},\"ternary\":{\"aaxis\":{\"gridcolor\":\"white\",\"linecolor\":\"white\",\"ticks\":\"\"},\"baxis\":{\"gridcolor\":\"white\",\"linecolor\":\"white\",\"ticks\":\"\"},\"bgcolor\":\"#E5ECF6\",\"caxis\":{\"gridcolor\":\"white\",\"linecolor\":\"white\",\"ticks\":\"\"}},\"title\":{\"x\":0.05},\"xaxis\":{\"automargin\":true,\"gridcolor\":\"white\",\"linecolor\":\"white\",\"ticks\":\"\",\"title\":{\"standoff\":15},\"zerolinecolor\":\"white\",\"zerolinewidth\":2},\"yaxis\":{\"automargin\":true,\"gridcolor\":\"white\",\"linecolor\":\"white\",\"ticks\":\"\",\"title\":{\"standoff\":15},\"zerolinecolor\":\"white\",\"zerolinewidth\":2}}},\"xaxis\":{\"anchor\":\"y\",\"domain\":[0.0,1.0],\"title\":{\"text\":\"0\"}},\"yaxis\":{\"anchor\":\"x\",\"domain\":[0.0,1.0],\"title\":{\"text\":\"1\"}},\"legend\":{\"tracegroupgap\":0},\"margin\":{\"t\":60}},                        {\"responsive\": true}                    ).then(function(){\n                            \nvar gd = document.getElementById('50bb50ec-de86-4dd0-9e08-dbba287865b8');\nvar x = new MutationObserver(function (mutations, observer) {{\n        var display = window.getComputedStyle(gd).display;\n        if (!display || display === 'none') {{\n            console.log([gd, 'removed!']);\n            Plotly.purge(gd);\n            observer.disconnect();\n        }}\n}});\n\n// Listen for the removal of the full notebook cells\nvar notebookContainer = gd.closest('#notebook-container');\nif (notebookContainer) {{\n    x.observe(notebookContainer, {childList: true});\n}}\n\n// Listen for the clearing of the current output cell\nvar outputEl = gd.closest('.output');\nif (outputEl) {{\n    x.observe(outputEl, {childList: true});\n}}\n\n                        })                };                });            </script>        </div>"
     },
     "metadata": {},
     "output_type": "display_data"
    }
   ],
   "source": [
    "fig.show()"
   ],
   "metadata": {
    "collapsed": false
   }
  }
 ],
 "metadata": {
  "kernelspec": {
   "display_name": "Python 3",
   "language": "python",
   "name": "python3"
  },
  "language_info": {
   "codemirror_mode": {
    "name": "ipython",
    "version": 2
   },
   "file_extension": ".py",
   "mimetype": "text/x-python",
   "name": "python",
   "nbconvert_exporter": "python",
   "pygments_lexer": "ipython2",
   "version": "2.7.6"
  }
 },
 "nbformat": 4,
 "nbformat_minor": 0
}
