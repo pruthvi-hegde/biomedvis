{
 "cells": [
  {
   "cell_type": "code",
   "execution_count": 467,
   "metadata": {
    "collapsed": true
   },
   "outputs": [],
   "source": [
    "from bertopic import BERTopic\n",
    "from sklearn.datasets import fetch_20newsgroups\n",
    "from sentence_transformers import SentenceTransformer\n",
    "import umap\n",
    "import hdbscan\n",
    "import matplotlib.pyplot as plt\n",
    "import pandas as pd\n",
    "import json\n",
    "import numpy as np\n",
    "from sklearn.feature_extraction.text import CountVectorizer"
   ]
  },
  {
   "cell_type": "code",
   "execution_count": 479,
   "outputs": [],
   "source": [
    "metadata = open('../articles_data/all_articles_with_thumbnail_metadata.json')\n",
    "papers = json.load(metadata)\n",
    "#\n",
    "# docs = [paper['article_title'] + ' ' + paper['abstract'] for paper in papers]\n",
    "# doc_titles = [paper['article_title'] for paper in papers]\n",
    "# doc_years = [paper['published_year'] for paper in papers]\n",
    "#\n",
    "#\n",
    "# embeddings = model.encode(docs, show_progress_bar=True)\n"
   ],
   "metadata": {
    "collapsed": false,
    "pycharm": {
     "name": "#%%\n"
    }
   }
  },
  {
   "cell_type": "code",
   "execution_count": 469,
   "outputs": [],
   "source": [
    "f = open(f'../embeddings/high_dimension/allenai_specter_high_dim.json')\n",
    "data = json.load(f)\n",
    "doc_titles = list(data.keys())\n",
    "embeddings = list(data.values())\n",
    "docs =[paper['article_title'] + '. ' + paper['abstract'] for paper in papers]\n",
    "doc_years = [paper['published_year'] for paper in papers]\n",
    "\n"
   ],
   "metadata": {
    "collapsed": false,
    "pycharm": {
     "name": "#%%\n"
    }
   }
  },
  {
   "cell_type": "code",
   "execution_count": 470,
   "outputs": [],
   "source": [
    "from sklearn.cluster import DBSCAN\n",
    "import json\n",
    "\n",
    "\n",
    "def cluster_docs():\n",
    "    umap_embeddings = umap.UMAP(n_neighbors=5,\n",
    "                                n_components=2,\n",
    "                                metric='cosine', random_state=42).fit_transform(embeddings)\n",
    "\n",
    "    cluster = DBSCAN(eps=0.3, min_samples=2, metric='euclidean', metric_params=None, algorithm='brute').fit(umap_embeddings)\n",
    "\n",
    "    # cluster = hdbscan.HDBSCAN(min_cluster_size=2,\n",
    "    #                           metric='euclidean',\n",
    "    #                           cluster_selection_method='eom').fit(umap_embeddings)\n",
    "    # corpus_embeddings = embeddings /  np.linalg.norm(embeddings, axis=1, keepdims=True)\n",
    "    # cluster = AgglomerativeClustering(affinity='cosine', linkage='average', distance_threshold=None, n_clusters=22).fit(corpus_embeddings) #, affinity='cosine', linkage='average', distance_threshold=0.4)\n",
    "\n",
    "\n",
    "\n",
    "    # Prepare data\n",
    "    # umap_data = umap.UMAP(n_neighbors=5, n_components=2, metric='euclidean', random_state=42).fit_transform(embeddings1)\n",
    "    umap_data = umap_embeddings\n",
    "    result = pd.DataFrame(umap_data, columns=['x', 'y'])\n",
    "    result['labels'] = cluster.labels_\n",
    "    result['titles'] = doc_titles\n",
    "    result['years'] = doc_years\n",
    "\n",
    "\n",
    "    docs_df = pd.DataFrame(docs, columns=[\"Doc\"])\n",
    "    docs_df['Topic'] = cluster.labels_\n",
    "    docs_df['Titles'] = doc_titles\n",
    "    docs_df['Years'] = doc_years\n",
    "    docs_df['Doc_ID'] = range(len(docs_df))\n",
    "    docs_per_topic = docs_df.groupby(['Topic'], as_index=False).agg({'Doc': ' '.join,'Years':set, 'Titles':len})\n",
    "    index = list(docs_per_topic.Years)\n",
    "    years_topic_wise = {i-1:list(index) for i, index in enumerate(index)}\n",
    "    return result,cluster, docs_df, docs_per_topic, years_topic_wise"
   ],
   "metadata": {
    "collapsed": false,
    "pycharm": {
     "name": "#%%\n"
    }
   }
  },
  {
   "cell_type": "code",
   "execution_count": 471,
   "outputs": [],
   "source": [
    "\n",
    "\n",
    "result,cluster, docs_df, docs_per_topic,years_topic_wise = cluster_docs()\n"
   ],
   "metadata": {
    "collapsed": false,
    "pycharm": {
     "name": "#%%\n"
    }
   }
  },
  {
   "cell_type": "code",
   "execution_count": 472,
   "outputs": [],
   "source": [
    "\n"
   ],
   "metadata": {
    "collapsed": false,
    "pycharm": {
     "name": "#%%\n"
    }
   }
  },
  {
   "cell_type": "code",
   "execution_count": 473,
   "outputs": [],
   "source": [
    "def c_tf_idf(documents, m, ngram_range=(1, 2)):\n",
    "    count = CountVectorizer(ngram_range=ngram_range, stop_words=\"english\").fit(documents)\n",
    "    t = count.transform(documents).toarray()\n",
    "    w = t.sum(axis=1)\n",
    "    tf = np.divide(t.T, w)\n",
    "    sum_t = t.sum(axis=0)\n",
    "    idf = np.log(np.divide(m, sum_t)).reshape(-1, 1)\n",
    "    tf_idf = np.multiply(tf, idf)\n",
    "\n",
    "    return tf_idf, count"
   ],
   "metadata": {
    "collapsed": false,
    "pycharm": {
     "name": "#%%\n"
    }
   }
  },
  {
   "cell_type": "code",
   "execution_count": 474,
   "outputs": [],
   "source": [
    "tf_idf, count = c_tf_idf(docs_per_topic.Doc.values, m=len(docs))"
   ],
   "metadata": {
    "collapsed": false,
    "pycharm": {
     "name": "#%%\n"
    }
   }
  },
  {
   "cell_type": "code",
   "execution_count": 475,
   "outputs": [],
   "source": [
    "def extract_top_n_words_per_topic(tf_idf, count, docs_per_topic, n):\n",
    "    words = count.get_feature_names()\n",
    "    labels = list(docs_per_topic.Topic)\n",
    "    tf_idf_transposed = tf_idf.T\n",
    "    indices = tf_idf_transposed.argsort()[:, -n:]\n",
    "    top_n_words = {label: [words[j] for j in indices[i]][::-1] for i, label in enumerate(labels)}\n",
    "    return top_n_words"
   ],
   "metadata": {
    "collapsed": false,
    "pycharm": {
     "name": "#%%\n"
    }
   }
  },
  {
   "cell_type": "code",
   "execution_count": 476,
   "outputs": [],
   "source": [
    "def extract_topic_sizes(df):\n",
    "    topic_sizes = (df.groupby(['Topic'])\n",
    "                     .Doc\n",
    "                     .count()\n",
    "                     .reset_index()\n",
    "                     .rename({\"Topic\": \"Topic\", \"Doc\": \"Size\"}, axis='columns')\n",
    "                     .sort_values(\"Size\", ascending=False))\n",
    "    return topic_sizes"
   ],
   "metadata": {
    "collapsed": false,
    "pycharm": {
     "name": "#%%\n"
    }
   }
  },
  {
   "cell_type": "code",
   "execution_count": 477,
   "outputs": [
    {
     "name": "stdout",
     "output_type": "stream",
     "text": [
      "huggingface/tokenizers: The current process just got forked, after parallelism has already been used. Disabling parallelism to avoid deadlocks...\n",
      "To disable this warning, you can either:\n",
      "\t- Avoid using `tokenizers` before the fork if possible\n",
      "\t- Explicitly set the environment variable TOKENIZERS_PARALLELISM=(true | false)\n"
     ]
    },
    {
     "data": {
      "text/plain": "<Figure size 1440x720 with 1 Axes>",
      "image/png": "[encoded data removed]"
     },
     "metadata": {
      "needs_background": "light"
     },
     "output_type": "display_data"
    }
   ],
   "source": [
    "from random import sample\n",
    "\n",
    "top_n_words = extract_top_n_words_per_topic(tf_idf, count, docs_per_topic, n=10)\n",
    "\n",
    "\n",
    "from collections import Counter\n",
    "import plotly.graph_objects as go\n",
    "import plotly.io as pio\n",
    "\n",
    "\n",
    "# Visualize clusters\n",
    "fig, ax = plt.subplots(figsize=(20, 10))\n",
    "outliers = result.loc[result.labels == -1, :]\n",
    "clustered = result.loc[result.labels != -1, :]\n",
    "\n",
    "# outlier_years = list(years_topic_wise[-1])\n",
    "clustered_years = [value for key, value in years_topic_wise.items() if key!=1]\n",
    "\n",
    "\n",
    "plot_top=Counter()\n",
    "top_terms = top_n_words\n",
    "\n",
    "num = []\n",
    "for key, a in top_terms.items():\n",
    "  k = []\n",
    "  for i in a:\n",
    "    for j in a:\n",
    "        if  i!=j and i in j:\n",
    "            k.append(i)\n",
    "\n",
    "  r = list(filter(lambda i: i not in k, a))\n",
    "  top_terms[key]  = r\n",
    "\n",
    "\n",
    "for  b in clustered_years:\n",
    "        k=b\n",
    "        k=b.sort()\n",
    "\n",
    "\n",
    "topic_years = ['.'.join(str(e) for e in years_topic_wise[item]) for item in clustered.labels]\n",
    "topic_years_outliers = ['.'.join(str(e) for e in years_topic_wise[item]) for item in outliers.labels]\n",
    "\n",
    "\n",
    "\n",
    "top_terms_docs = ['.'.join(str(e) for e in top_terms[item]) for item in clustered.labels]\n",
    "top_terms_docs_outliers = ['.'.join(str(e) for e in top_terms[item]) for item in outliers.labels]\n",
    "\n",
    "\n",
    "df1 = pd.DataFrame({'doc_terms_outliers':top_terms_docs_outliers,'doc_years_outliers':topic_years_outliers})\n",
    "\n",
    "\n",
    "df2 = pd.DataFrame({'doc_terms':top_terms_docs, 'doc_years':topic_years})\n",
    "\n",
    "\n",
    "\n",
    "pio.renderers.default = \"browser\"\n",
    "import plotly.express as px\n",
    "\n",
    "color_discrete_sequence=[\"#CD6155\", '#9a4979', '#62b9cc', '#873600', '#117A65', '#de881f', '#CB4335',\n",
    "                        '#c43f93','#3dccd1','#e07141','#e041a0','#0f00cd','#ffa700','#d62d20','#008844','#72bd68','#ba434f','#48c2ba','#945edb','#e206cb','#cfd63c','#ca3bf9','#bfc403','#ba0e37','#9aa655','#8e471b','#473100',\n",
    "                         '#fda025','#21618C', '#6C3483', '#91ca1e','#EB984E', '#239B56','#1A5276']\n",
    "\n",
    "clustered['Publication Years'] = topic_years\n",
    "clustered['Topic Words'] = top_terms_docs\n",
    "clustered['Cluster Number'] = clustered.labels\n",
    "fig = px.scatter(clustered, x='x', y='y', hover_name='titles',color='Topic Words',\n",
    "                 # labels={\"Topic Words\" : \"Topics\"},\n",
    "                    hover_data=['Publication Years', 'Cluster Number'], color_discrete_sequence=color_discrete_sequence)\n",
    "\n",
    "\n",
    "fig.add_trace(go.Scatter(x=outliers.x, y=outliers.y,customdata=df1, mode='markers', hovertext=outliers.titles,\n",
    "                         name='outliers',\n",
    "                                     marker=dict(\n",
    "                                         color='#BDBDBD',\n",
    "                                     ),\n",
    "                                     hoverlabel=dict(\n",
    "                                         bgcolor=\"#ffffff\",\n",
    "                                         font_size=12,\n",
    "                                         font_color=\"#141414\",\n",
    "                                         font_family=\"Calibri\",\n",
    "                                         bordercolor=\"#BDBDBD\",\n",
    "                                     ),\n",
    "                                    hovertemplate='<b>%{hovertext}<br></b><br><br>Topic= %{customdata[0]}</br>Years = %{customdata[1]}<br>'\n",
    "                                     ))\n",
    "fig.update_layout(\n",
    "            margin=dict(l=5, r=5, b=30),\n",
    "            xaxis_title='',\n",
    "            yaxis_title='',\n",
    "            xaxis=dict(\n",
    "                showline=True,\n",
    "                showgrid=True,\n",
    "                linecolor='#666666',\n",
    "                tickfont=dict(\n",
    "                    family='poppins',\n",
    "                    color='#666666'\n",
    "                )\n",
    "            ),\n",
    "            yaxis=dict(  # attribures for y axis\n",
    "                showline=True,\n",
    "                showgrid=True,\n",
    "                linecolor='#666666',\n",
    "                tickfont=dict(\n",
    "                    family='poppins',\n",
    "                    color='#666666'\n",
    "                )\n",
    "            ),\n",
    "            hoverlabel=dict(\n",
    "                bgcolor=\"#ffffff\",\n",
    "                font_size=12,\n",
    "                font_color=\"#141414\",\n",
    "                font_family=\"Calibri\",\n",
    "                bordercolor=\"#204ab3\",\n",
    "            ),\n",
    "            plot_bgcolor='white',\n",
    "        )\n"
   ],
   "metadata": {
    "collapsed": false,
    "pycharm": {
     "name": "#%%\n"
    }
   }
  },
  {
   "cell_type": "code",
   "execution_count": 478,
   "outputs": [],
   "source": [
    "# dis = top_n_words\n",
    "# for k, v in dis.items():\n",
    "#     i = ', '.join(v)\n",
    "#     dis[k]=i\n",
    "# dis"
   ],
   "metadata": {
    "collapsed": false,
    "pycharm": {
     "name": "#%%\n"
    }
   }
  },
  {
   "cell_type": "code",
   "execution_count": 256,
   "outputs": [
    {
     "name": "stdout",
     "output_type": "stream",
     "text": [
      "['simulation', 'stress', 'blood vessels', 'mitral valve']\n"
     ]
    }
   ],
   "source": [
    "# yr =years_topic_wise\n",
    "# for k, v in yr.items():\n",
    "#     i = ', '.join(v)\n",
    "#     yr[k]=i\n",
    "# yr"
   ],
   "metadata": {
    "collapsed": false,
    "pycharm": {
     "name": "#%%\n"
    }
   }
  },
  {
   "cell_type": "code",
   "execution_count": 258,
   "outputs": [
    {
     "data": {
      "text/plain": "['simulation', 'stress', 'blood vessels', 'mitral valve']"
     },
     "execution_count": 258,
     "metadata": {},
     "output_type": "execute_result"
    }
   ],
   "source": [
    "# result = {}\n",
    "# for k, v in dis.items():\n",
    "#     l = v + ' & ' + yr[k]\n",
    "#     result[k] = l\n",
    "# result"
   ],
   "metadata": {
    "collapsed": false,
    "pycharm": {
     "name": "#%%\n"
    }
   }
  },
  {
   "cell_type": "code",
   "execution_count": null,
   "outputs": [],
   "source": [
    "# c = [len(v) for v in top_terms.values()]\n",
    "# print(min(c))\n",
    "# for k, v in top_terms.items():\n",
    "#     top_terms[k] = sample(v[::len(v) // min(c)], min(c))\n",
    "\n"
   ],
   "metadata": {
    "collapsed": false,
    "pycharm": {
     "name": "#%%\n"
    }
   }
  },
  {
   "cell_type": "code",
   "execution_count": null,
   "outputs": [],
   "source": [],
   "metadata": {
    "collapsed": false,
    "pycharm": {
     "name": "#%%\n"
    }
   }
  },
  {
   "cell_type": "code",
   "execution_count": null,
   "outputs": [],
   "source": [],
   "metadata": {
    "collapsed": false,
    "pycharm": {
     "name": "#%%\n"
    }
   }
  },
  {
   "cell_type": "code",
   "execution_count": null,
   "outputs": [],
   "source": [],
   "metadata": {
    "collapsed": false,
    "pycharm": {
     "name": "#%%\n"
    }
   }
  },
  {
   "cell_type": "code",
   "execution_count": null,
   "outputs": [],
   "source": [],
   "metadata": {
    "collapsed": false,
    "pycharm": {
     "name": "#%%\n"
    }
   }
  },
  {
   "cell_type": "code",
   "execution_count": null,
   "outputs": [],
   "source": [],
   "metadata": {
    "collapsed": false,
    "pycharm": {
     "name": "#%%\n"
    }
   }
  },
  {
   "cell_type": "code",
   "execution_count": null,
   "outputs": [],
   "source": [],
   "metadata": {
    "collapsed": false,
    "pycharm": {
     "name": "#%%\n"
    }
   }
  },
  {
   "cell_type": "code",
   "execution_count": null,
   "outputs": [],
   "source": [
    "\n"
   ],
   "metadata": {
    "collapsed": false,
    "pycharm": {
     "name": "#%%\n"
    }
   }
  },
  {
   "cell_type": "code",
   "execution_count": null,
   "outputs": [],
   "source": [],
   "metadata": {
    "collapsed": false,
    "pycharm": {
     "name": "#%%\n"
    }
   }
  },
  {
   "cell_type": "code",
   "execution_count": null,
   "outputs": [],
   "source": [],
   "metadata": {
    "collapsed": false,
    "pycharm": {
     "name": "#%%\n"
    }
   }
  },
  {
   "cell_type": "code",
   "execution_count": null,
   "outputs": [],
   "source": [],
   "metadata": {
    "collapsed": false,
    "pycharm": {
     "name": "#%%\n"
    }
   }
  },
  {
   "cell_type": "code",
   "execution_count": null,
   "outputs": [],
   "source": [],
   "metadata": {
    "collapsed": false,
    "pycharm": {
     "name": "#%%\n"
    }
   }
  },
  {
   "cell_type": "code",
   "execution_count": null,
   "outputs": [],
   "source": [],
   "metadata": {
    "collapsed": false,
    "pycharm": {
     "name": "#%%\n"
    }
   }
  }
 ],
 "metadata": {
  "kernelspec": {
   "display_name": "Python 3",
   "language": "python",
   "name": "python3"
  },
  "language_info": {
   "codemirror_mode": {
    "name": "ipython",
    "version": 2
   },
   "file_extension": ".py",
   "mimetype": "text/x-python",
   "name": "python",
   "nbconvert_exporter": "python",
   "pygments_lexer": "ipython2",
   "version": "2.7.6"
  }
 },
 "nbformat": 4,
 "nbformat_minor": 0
}