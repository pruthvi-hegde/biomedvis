{
 "cells": [
  {
   "cell_type": "code",
   "execution_count": 2,
   "metadata": {
    "collapsed": true
   },
   "outputs": [],
   "source": [
    "from bertopic import BERTopic\n",
    "from sklearn.datasets import fetch_20newsgroups\n",
    "from sentence_transformers import SentenceTransformer\n",
    "import umap\n",
    "import hdbscan\n",
    "import matplotlib.pyplot as plt\n",
    "import pandas as pd\n",
    "\n",
    "import numpy as np\n",
    "from sklearn.feature_extraction.text import CountVectorizer"
   ]
  },
  {
   "cell_type": "code",
   "execution_count": 3,
   "outputs": [],
   "source": [
    "import json\n",
    "\n",
    "\n",
    "def docvec(model):\n",
    "    # docs = fetch_20newsgroups(subset='all', remove=('headers', 'footers', 'quotes'))['data']\n",
    "    # docs = docs[0:100]\n",
    "    with open('../articles_data/all_articles_with_thumbnail_metadata.json') as f:\n",
    "        papers = json.load(f)\n",
    "\n",
    "    docs = [paper['article_title'] + ' ' + paper['abstract'] for paper in papers]\n",
    "    doc_titles = [paper['article_title'] for paper in papers]\n",
    "\n",
    "\n",
    "    embeddings = model.encode(docs, show_progress_bar=True)\n",
    "\n",
    "    umap_embeddings = umap.UMAP(n_neighbors=5,\n",
    "                                n_components=5,\n",
    "                                metric='cosine').fit_transform(embeddings)\n",
    "\n",
    "    cluster = hdbscan.HDBSCAN(min_cluster_size=3,\n",
    "                              metric='euclidean',\n",
    "                              cluster_selection_method='eom').fit(umap_embeddings)\n",
    "\n",
    "\n",
    "\n",
    "    # Prepare data\n",
    "    umap_data = umap.UMAP(n_neighbors=5, n_components=2, metric='cosine').fit_transform(embeddings)\n",
    "    result = pd.DataFrame(umap_data, columns=['x', 'y'])\n",
    "    result['labels'] = cluster.labels_\n",
    "    result['titles'] = doc_titles\n",
    "    print(cluster.labels_.max())\n",
    "\n",
    "\n",
    "    docs_df = pd.DataFrame(docs, columns=[\"Doc\"])\n",
    "    docs_df['Topic'] = cluster.labels_\n",
    "    docs_df['Titles'] = doc_titles\n",
    "    docs_df['Doc_ID'] = range(len(docs_df))\n",
    "    docs_per_topic = docs_df.groupby(['Topic'], as_index=False).agg({'Doc': ' '.join})\n",
    "    return result,cluster, docs, docs_df, docs_per_topic"
   ],
   "metadata": {
    "collapsed": false,
    "pycharm": {
     "name": "#%%\n"
    }
   }
  },
  {
   "cell_type": "code",
   "execution_count": 24,
   "outputs": [
    {
     "data": {
      "text/plain": "Batches:   0%|          | 0/8 [00:00<?, ?it/s]",
      "application/vnd.jupyter.widget-view+json": {
       "version_major": 2,
       "version_minor": 0,
       "model_id": "82c4d5246ef7492eb38c4ee1f7e0e72c"
      }
     },
     "metadata": {},
     "output_type": "display_data"
    },
    {
     "name": "stdout",
     "output_type": "stream",
     "text": [
      "15\n"
     ]
    }
   ],
   "source": [
    "model = SentenceTransformer('all-mpnet-base-v2')\n",
    "\n",
    "result,cluster, docs, docs_df, docs_per_topic = docvec(model)\n"
   ],
   "metadata": {
    "collapsed": false,
    "pycharm": {
     "name": "#%%\n"
    }
   }
  },
  {
   "cell_type": "code",
   "execution_count": 25,
   "outputs": [],
   "source": [
    "def c_tf_idf(documents, m, ngram_range=(1, 1)):\n",
    "    count = CountVectorizer(ngram_range=ngram_range, stop_words=\"english\").fit(documents)\n",
    "    t = count.transform(documents).toarray()\n",
    "    w = t.sum(axis=1)\n",
    "    tf = np.divide(t.T, w)\n",
    "    sum_t = t.sum(axis=0)\n",
    "    idf = np.log(np.divide(m, sum_t)).reshape(-1, 1)\n",
    "    tf_idf = np.multiply(tf, idf)\n",
    "\n",
    "    return tf_idf, count"
   ],
   "metadata": {
    "collapsed": false,
    "pycharm": {
     "name": "#%%\n"
    }
   }
  },
  {
   "cell_type": "code",
   "execution_count": 26,
   "outputs": [],
   "source": [
    "tf_idf, count = c_tf_idf(docs_per_topic.Doc.values, m=len(docs))"
   ],
   "metadata": {
    "collapsed": false,
    "pycharm": {
     "name": "#%%\n"
    }
   }
  },
  {
   "cell_type": "code",
   "execution_count": 27,
   "outputs": [],
   "source": [
    "def extract_top_n_words_per_topic(tf_idf, count, docs_per_topic, n):\n",
    "    words = count.get_feature_names()\n",
    "    labels = list(docs_per_topic.Topic)\n",
    "    tf_idf_transposed = tf_idf.T\n",
    "    indices = tf_idf_transposed.argsort()[:, -n:]\n",
    "    top_n_words = {label: [words[j] for j in indices[i]][::-1] for i, label in enumerate(labels)}\n",
    "    return top_n_words"
   ],
   "metadata": {
    "collapsed": false,
    "pycharm": {
     "name": "#%%\n"
    }
   }
  },
  {
   "cell_type": "code",
   "execution_count": 28,
   "outputs": [],
   "source": [
    "def extract_topic_sizes(df):\n",
    "    topic_sizes = (df.groupby(['Topic'])\n",
    "                     .Doc\n",
    "                     .count()\n",
    "                     .reset_index()\n",
    "                     .rename({\"Topic\": \"Topic\", \"Doc\": \"Size\"}, axis='columns')\n",
    "                     .sort_values(\"Size\", ascending=False))\n",
    "    return topic_sizes"
   ],
   "metadata": {
    "collapsed": false,
    "pycharm": {
     "name": "#%%\n"
    }
   }
  },
  {
   "cell_type": "code",
   "execution_count": 29,
   "outputs": [
    {
     "name": "stdout",
     "output_type": "stream",
     "text": [
      "{-1: ['rib', 'ct', 'labels', 'segmentation', 'context', 'noise'], 0: ['flow', 'cardiac', 'pc', 'heart', '4d', 'mri'], 1: ['molecular', 'protein', 'proteins', 'functional', 'molecule', 'connectivity'], 2: ['analytics', 'pathologists', 'pathology', 'thermal', 'digital', 'diagnostic'], 3: ['deep', 'learning', 'mitotic', 'mammogram', 'mg', 'classification'], 4: ['cta', 'arteries', 'artery', 'cerebral', 'vessels', 'cow'], 5: ['tensor', 'modeling', 'diffusion', 'maze', 'differences', 'researchers'], 6: ['ultrasound', 'hifu', 'liver', 'tracing', 'ray', 'fetus'], 7: ['virtual', 'reality', 'display', 'simulation', 'valve', 'stress'], 8: ['shape', 'polyp', 'automatic', 'curvature', 'smoothing', 'hough'], 9: ['fiber', 'tractography', 'crossing', 'tracts', 'diffusion', 'white'], 10: ['vascular', 'aneurysm', 'vessel', 'blood', 'bird', 'depth'], 11: ['ius', 'pet', 'tumor', 'roi', 'registration', 'volume'], 12: ['motion', 'registration', 'stage', 'lung', 'muscular', 'activity'], 13: ['skeleton', 'foot', 'multilinear', 'thems', 'ridges', 'template'], 14: ['smoothing', 'mesh', 'variational', 'interpolation', 'confidence', 'correction'], 15: ['uncertainty', 'aware', 'segmentation', 'classifiers', 'hippocampal', 'lesion']}\n",
      "217\n",
      "huggingface/tokenizers: The current process just got forked, after parallelism has already been used. Disabling parallelism to avoid deadlocks...\n",
      "To disable this warning, you can either:\n",
      "\t- Avoid using `tokenizers` before the fork if possible\n",
      "\t- Explicitly set the environment variable TOKENIZERS_PARALLELISM=(true | false)\n"
     ]
    },
    {
     "data": {
      "text/plain": "<Figure size 1440x720 with 1 Axes>",
      "image/png": "[encoded data removed]"
     },
     "metadata": {
      "needs_background": "light"
     },
     "output_type": "display_data"
    }
   ],
   "source": [
    "top_n_words = extract_top_n_words_per_topic(tf_idf, count, docs_per_topic, n=6)\n",
    "print(top_n_words)\n",
    "from collections import Counter\n",
    "import plotly.graph_objects as go\n",
    "\n",
    "\n",
    "\n",
    "# Visualize clusters\n",
    "fig, ax = plt.subplots(figsize=(20, 10))\n",
    "outliers = result.loc[result.labels == -1, :]\n",
    "clustered = result.loc[result.labels != -1, :]\n",
    "\n",
    "plot_top=Counter() # to get only distinct labels, replace with a set and add a check here [1]\n",
    "top_terms = top_n_words\n",
    "\n",
    "\n",
    "top_terms_docs = ['.'.join(str(e) for e in top_terms[item]) for item in clustered.labels]\n",
    "print(len(top_terms_docs))\n",
    "\n",
    "\n",
    "# ax.scatter(outliers.x, outliers.y, color='#BDBDBD')\n",
    "# print(\"clustered labels\", clustered.labels)\n",
    "# ax.scatter(clustered.x, clustered.y, c=clustered.labels, cmap='hsv_r')\n",
    "#\n",
    "#\n",
    "# for i, lab, prob in zip(range(len(cluster.labels_)),cluster.labels_, cluster.probabilities_): # pointwise iteration\n",
    "#         print(\"lab\", lab)\n",
    "#         print(\"i: \",i)\n",
    "#         if lab != -1:\n",
    "#             for el in top_terms[lab][:5]:\n",
    "#                     print(i)\n",
    "#                     # x[i], y[i] are the projected points in 2D space\n",
    "#                     ax.annotate(el, (clustered.x[i],clustered.y[i]))\n",
    "#                     break\n",
    "\n",
    "\n",
    "import plotly.express as px\n",
    "df = px.data.iris()\n",
    "fig = px.scatter(x=clustered.x, y=clustered.y, color=top_terms_docs, hover_name=clustered.titles,\n",
    "                 labels={\"color\" : \"Topics\"})\n",
    "fig.add_trace(go.Scatter(x=outliers.x, y=outliers.y, mode='markers', showlegend=False, hovertext=outliers.titles,\n",
    "                                     name='Selected',\n",
    "                                     marker=dict(\n",
    "                                         color='#BDBDBD',\n",
    "                                     ),\n",
    "                                     hoverlabel=dict(\n",
    "                                         bgcolor=\"#ffffff\",\n",
    "                                         font_size=12,\n",
    "                                         font_color=\"#141414\",\n",
    "                                         font_family=\"Calibri\",\n",
    "                                         bordercolor=\"#BDBDBD\",\n",
    "                                     ),\n",
    "                                    hovertemplate='<b>%{hovertext}<br></b><br>0=%{x}<br>1=%{y}'\n",
    "                                     ))\n"
   ],
   "metadata": {
    "collapsed": false,
    "pycharm": {
     "name": "#%%\n"
    }
   }
  },
  {
   "cell_type": "code",
   "execution_count": 357,
   "outputs": [
    {
     "data": {
      "text/plain": "    Topic  Size\n0      -1    37\n2       1    29\n17     16    25\n1       0    21\n10      9    14\n19     18    13\n7       6    11\n8       7    10\n11     10    10\n13     12    10\n3       2     8\n4       3     7\n12     11     7\n16     15     7\n5       4     5\n6       5     5\n9       8     5\n15     14     5\n18     17     4\n14     13     3",
      "text/html": "<div>\n<style scoped>\n    .dataframe tbody tr th:only-of-type {\n        vertical-align: middle;\n    }\n\n    .dataframe tbody tr th {\n        vertical-align: top;\n    }\n\n    .dataframe thead th {\n        text-align: right;\n    }\n</style>\n<table border=\"1\" class=\"dataframe\">\n  <thead>\n    <tr style=\"text-align: right;\">\n      <th></th>\n      <th>Topic</th>\n      <th>Size</th>\n    </tr>\n  </thead>\n  <tbody>\n    <tr>\n      <th>0</th>\n      <td>-1</td>\n      <td>37</td>\n    </tr>\n    <tr>\n      <th>2</th>\n      <td>1</td>\n      <td>29</td>\n    </tr>\n    <tr>\n      <th>17</th>\n      <td>16</td>\n      <td>25</td>\n    </tr>\n    <tr>\n      <th>1</th>\n      <td>0</td>\n      <td>21</td>\n    </tr>\n    <tr>\n      <th>10</th>\n      <td>9</td>\n      <td>14</td>\n    </tr>\n    <tr>\n      <th>19</th>\n      <td>18</td>\n      <td>13</td>\n    </tr>\n    <tr>\n      <th>7</th>\n      <td>6</td>\n      <td>11</td>\n    </tr>\n    <tr>\n      <th>8</th>\n      <td>7</td>\n      <td>10</td>\n    </tr>\n    <tr>\n      <th>11</th>\n      <td>10</td>\n      <td>10</td>\n    </tr>\n    <tr>\n      <th>13</th>\n      <td>12</td>\n      <td>10</td>\n    </tr>\n    <tr>\n      <th>3</th>\n      <td>2</td>\n      <td>8</td>\n    </tr>\n    <tr>\n      <th>4</th>\n      <td>3</td>\n      <td>7</td>\n    </tr>\n    <tr>\n      <th>12</th>\n      <td>11</td>\n      <td>7</td>\n    </tr>\n    <tr>\n      <th>16</th>\n      <td>15</td>\n      <td>7</td>\n    </tr>\n    <tr>\n      <th>5</th>\n      <td>4</td>\n      <td>5</td>\n    </tr>\n    <tr>\n      <th>6</th>\n      <td>5</td>\n      <td>5</td>\n    </tr>\n    <tr>\n      <th>9</th>\n      <td>8</td>\n      <td>5</td>\n    </tr>\n    <tr>\n      <th>15</th>\n      <td>14</td>\n      <td>5</td>\n    </tr>\n    <tr>\n      <th>18</th>\n      <td>17</td>\n      <td>4</td>\n    </tr>\n    <tr>\n      <th>14</th>\n      <td>13</td>\n      <td>3</td>\n    </tr>\n  </tbody>\n</table>\n</div>"
     },
     "execution_count": 357,
     "metadata": {},
     "output_type": "execute_result"
    }
   ],
   "source": [
    "topic_sizes = extract_topic_sizes(docs_df)\n",
    "topic_sizes"
   ],
   "metadata": {
    "collapsed": false,
    "pycharm": {
     "name": "#%%\n"
    }
   }
  },
  {
   "cell_type": "code",
   "execution_count": 361,
   "outputs": [
    {
     "data": {
      "text/plain": "['rib', 'segmentation', 'radiation', 'pelvic', 'segmentations', 'automatic']"
     },
     "execution_count": 361,
     "metadata": {},
     "output_type": "execute_result"
    }
   ],
   "source": [
    "top_n_words[15]"
   ],
   "metadata": {
    "collapsed": false,
    "pycharm": {
     "name": "#%%\n"
    }
   }
  },
  {
   "cell_type": "code",
   "execution_count": 117,
   "outputs": [
    {
     "data": {
      "text/plain": "[('ar', 0.014906447694789392),\n ('ultrasound', 0.014830173224860466),\n ('ray', 0.014435801652078747),\n ('hmd', 0.01333682446415577),\n ('haptics', 0.01333682446415577),\n ('gesture', 0.01333682446415577),\n ('biopsy', 0.012776955166962338),\n ('tracing', 0.011864190899598271),\n ('sln', 0.011665841079272123),\n ('touch', 0.011665841079272123)]"
     },
     "execution_count": 117,
     "metadata": {},
     "output_type": "execute_result"
    }
   ],
   "source": [
    "top_n_words[15][:10]"
   ],
   "metadata": {
    "collapsed": false,
    "pycharm": {
     "name": "#%%\n"
    }
   }
  },
  {
   "cell_type": "code",
   "execution_count": 118,
   "outputs": [
    {
     "data": {
      "text/plain": "[('vascular', 0.023594408403621776),\n ('depth', 0.019329315590091947),\n ('vessel', 0.018631478036349774),\n ('tree', 0.017012707911122842),\n ('parameterization', 0.016555582224809098),\n ('vessels', 0.015975638281646127),\n ('xr', 0.015462662539558077),\n ('stress', 0.015023520622326635),\n ('blood', 0.014883646310110462),\n ('color', 0.013910985269266455)]"
     },
     "execution_count": 118,
     "metadata": {},
     "output_type": "execute_result"
    }
   ],
   "source": [
    "top_n_words[10][:10]"
   ],
   "metadata": {
    "collapsed": false,
    "pycharm": {
     "name": "#%%\n"
    }
   }
  },
  {
   "cell_type": "code",
   "execution_count": 17,
   "outputs": [],
   "source": [
    "model1 = SentenceTransformer('allenai-specter')"
   ],
   "metadata": {
    "collapsed": false,
    "pycharm": {
     "name": "#%%\n"
    }
   }
  },
  {
   "cell_type": "code",
   "execution_count": 18,
   "outputs": [
    {
     "data": {
      "text/plain": "Batches:   0%|          | 0/8 [00:00<?, ?it/s]",
      "application/vnd.jupyter.widget-view+json": {
       "version_major": 2,
       "version_minor": 0,
       "model_id": "912e22b864ce4748b3b12c3dc1ab2a98"
      }
     },
     "metadata": {},
     "output_type": "display_data"
    },
    {
     "name": "stdout",
     "output_type": "stream",
     "text": [
      "15\n"
     ]
    }
   ],
   "source": [
    "result,cluster, docs, docs_df, docs_per_topic = docvec(model1)"
   ],
   "metadata": {
    "collapsed": false,
    "pycharm": {
     "name": "#%%\n"
    }
   }
  },
  {
   "cell_type": "code",
   "execution_count": 20,
   "outputs": [],
   "source": [
    "\n",
    "tf_idf, count = c_tf_idf(docs_per_topic.Doc.values, m=len(docs))"
   ],
   "metadata": {
    "collapsed": false,
    "pycharm": {
     "name": "#%%\n"
    }
   }
  },
  {
   "cell_type": "code",
   "execution_count": 21,
   "outputs": [],
   "source": [
    "\n",
    "top_n_words = extract_top_n_words_per_topic(tf_idf, count, docs_per_topic, n=20)\n"
   ],
   "metadata": {
    "collapsed": false,
    "pycharm": {
     "name": "#%%\n"
    }
   }
  },
  {
   "cell_type": "code",
   "execution_count": 23,
   "outputs": [
    {
     "name": "stdout",
     "output_type": "stream",
     "text": [
      "{-1: ['vessels', 'stress', 'neck', 'hifu', 'residual', 'colon', 'vessel', 'blood', 'lumen', 'wall'], 0: ['protein', 'molecular', 'proteins', 'cell', 'tunnels', 'molecules', 'properties', 'molecule', 'tunnel', 'level'], 1: ['fiber', 'diffusion', 'brain', 'connectivity', 'tensor', 'tractography', 'functional', 'crossing', 'neurons', 'tracts'], 2: ['analytics', 'sleep', 'rehabilitation', 'biomedical', 'communication', 'discovery', 'knowledge', 'staging', 'models', 'notes'], 3: ['evaluations', 'evaluation', 'studies', 'perception', 'user', 'surfaces', 'visualizations', 'aneurysm', 'web', 'medical'], 4: ['deep', 'pathologists', 'pathology', 'digital', 'learning', 'diagnostic', 'mitotic', 'mammogram', 'mg', 'classification'], 5: ['reality', 'virtual', 'vr', 'valve', 'training', 'mitral', 'haptic', 'interaction', 'simulation', 'xr'], 6: ['vascular', 'bird', 'vessel', 'parameterization', 'radar', 'depth', 'color', 'dependent', 'applicator', 'animation'], 7: ['registration', 'implant', 'motion', 'bone', 'stage', 'lung', 'simulation', 'specific', '2d', 'prediction'], 8: ['heart', 'motion', 'regional', 'myocardial', 'lv', 'spatio', 'ventricle', 'cardiac', 'temporal', 'cycle'], 9: ['smoothing', 'mesh', 'surface', 'shape', 'deformation', 'noise', 'statistical', 'mgs', 'skeleton', 'matches'], 10: ['flow', 'pc', '4d', 'mri', 'aortic', 'blood', 'perfusion', 'cfd', 'pathlines', 'cardiac'], 11: ['transfer', 'projection', 'distortions', 'mutual', 'projections', 'multimodal', 'volume', 'function', 'wdt', 'registrationshop'], 12: ['ultrasound', 'tumor', 'liver', 'ius', 'interventional', 'registered', 'fetus', 'intraoperative', 'ablation', 'hifupm'], 13: ['pet', 'uncertainty', 'modeling', 'thermal', 'rib', 'labels', 'ct', 'labeling', 'visualisation', 'cocoon'], 14: ['cow', 'tof', 'pathological', 'skull', 'cerebral', 'sequences', 'arteries', 'stripping', 'mra', 'tumors'], 15: ['arteries', 'artery', 'cta', 'coronary', 'thrombus', 'automated', 'ischemic', 'angiography', 'cerebral', 'content']}\n",
      "huggingface/tokenizers: The current process just got forked, after parallelism has already been used. Disabling parallelism to avoid deadlocks...\n",
      "To disable this warning, you can either:\n",
      "\t- Avoid using `tokenizers` before the fork if possible\n",
      "\t- Explicitly set the environment variable TOKENIZERS_PARALLELISM=(true | false)\n"
     ]
    },
    {
     "data": {
      "text/plain": "<Figure size 1440x720 with 1 Axes>",
      "image/png": "[encoded data removed]"
     },
     "metadata": {
      "needs_background": "light"
     },
     "output_type": "display_data"
    }
   ],
   "source": [
    "top_n_words = extract_top_n_words_per_topic(tf_idf, count, docs_per_topic, n=10)\n",
    "print(top_n_words)\n",
    "from collections import Counter\n",
    "import plotly.graph_objects as go\n",
    "\n",
    "\n",
    "\n",
    "\n",
    "# Visualize clusters\n",
    "fig, ax = plt.subplots(figsize=(20, 10))\n",
    "outliers = result.loc[result.labels == -1, :]\n",
    "clustered = result.loc[result.labels != -1, :]\n",
    "pio.renderers.default = \"browser\"\n",
    "plot_top=Counter() # to get only distinct labels, replace with a set and add a check here [1]\n",
    "top_terms = top_n_words\n",
    "\n",
    "\n",
    "top_terms_docs = ['.'.join(str(e) for e in top_terms[item]) for item in clustered.labels]\n",
    "\n",
    "\n",
    "\n",
    "fig = px.scatter(x=clustered.x, y=clustered.y, color=top_terms_docs, hover_name=clustered.titles,\n",
    "                 labels={\"color\" : \"Topics\"})\n",
    "fig.add_trace(go.Scatter(x=outliers.x, y=outliers.y, mode='markers', showlegend=False, hovertext=outliers.titles,\n",
    "                                     name='Selected',\n",
    "                                     marker=dict(\n",
    "                                         color='#BDBDBD',\n",
    "                                     ),\n",
    "                                     hoverlabel=dict(\n",
    "                                         bgcolor=\"#ffffff\",\n",
    "                                         font_size=12,\n",
    "                                         font_color=\"#141414\",\n",
    "                                         font_family=\"Calibri\",\n",
    "                                         bordercolor=\"#BDBDBD\",\n",
    "                                     ),\n",
    "                                    hovertemplate='<b>%{hovertext}<br></b><br>0=%{x}<br>1=%{y}'\n",
    "                                     ))"
   ],
   "metadata": {
    "collapsed": false,
    "pycharm": {
     "name": "#%%\n"
    }
   }
  },
  {
   "cell_type": "code",
   "execution_count": 370,
   "outputs": [
    {
     "data": {
      "text/plain": "    Topic  Size\n0      -1    37\n2       1    29\n17     16    25\n1       0    21\n10      9    14\n19     18    13\n7       6    11\n8       7    10\n11     10    10\n13     12    10\n3       2     8\n4       3     7\n12     11     7\n16     15     7\n5       4     5\n6       5     5\n9       8     5\n15     14     5\n18     17     4\n14     13     3",
      "text/html": "<div>\n<style scoped>\n    .dataframe tbody tr th:only-of-type {\n        vertical-align: middle;\n    }\n\n    .dataframe tbody tr th {\n        vertical-align: top;\n    }\n\n    .dataframe thead th {\n        text-align: right;\n    }\n</style>\n<table border=\"1\" class=\"dataframe\">\n  <thead>\n    <tr style=\"text-align: right;\">\n      <th></th>\n      <th>Topic</th>\n      <th>Size</th>\n    </tr>\n  </thead>\n  <tbody>\n    <tr>\n      <th>0</th>\n      <td>-1</td>\n      <td>37</td>\n    </tr>\n    <tr>\n      <th>2</th>\n      <td>1</td>\n      <td>29</td>\n    </tr>\n    <tr>\n      <th>17</th>\n      <td>16</td>\n      <td>25</td>\n    </tr>\n    <tr>\n      <th>1</th>\n      <td>0</td>\n      <td>21</td>\n    </tr>\n    <tr>\n      <th>10</th>\n      <td>9</td>\n      <td>14</td>\n    </tr>\n    <tr>\n      <th>19</th>\n      <td>18</td>\n      <td>13</td>\n    </tr>\n    <tr>\n      <th>7</th>\n      <td>6</td>\n      <td>11</td>\n    </tr>\n    <tr>\n      <th>8</th>\n      <td>7</td>\n      <td>10</td>\n    </tr>\n    <tr>\n      <th>11</th>\n      <td>10</td>\n      <td>10</td>\n    </tr>\n    <tr>\n      <th>13</th>\n      <td>12</td>\n      <td>10</td>\n    </tr>\n    <tr>\n      <th>3</th>\n      <td>2</td>\n      <td>8</td>\n    </tr>\n    <tr>\n      <th>4</th>\n      <td>3</td>\n      <td>7</td>\n    </tr>\n    <tr>\n      <th>12</th>\n      <td>11</td>\n      <td>7</td>\n    </tr>\n    <tr>\n      <th>16</th>\n      <td>15</td>\n      <td>7</td>\n    </tr>\n    <tr>\n      <th>5</th>\n      <td>4</td>\n      <td>5</td>\n    </tr>\n    <tr>\n      <th>6</th>\n      <td>5</td>\n      <td>5</td>\n    </tr>\n    <tr>\n      <th>9</th>\n      <td>8</td>\n      <td>5</td>\n    </tr>\n    <tr>\n      <th>15</th>\n      <td>14</td>\n      <td>5</td>\n    </tr>\n    <tr>\n      <th>18</th>\n      <td>17</td>\n      <td>4</td>\n    </tr>\n    <tr>\n      <th>14</th>\n      <td>13</td>\n      <td>3</td>\n    </tr>\n  </tbody>\n</table>\n</div>"
     },
     "execution_count": 370,
     "metadata": {},
     "output_type": "execute_result"
    }
   ],
   "source": [
    "topic_sizes = extract_topic_sizes(docs_df)\n",
    "topic_sizes"
   ],
   "metadata": {
    "collapsed": false,
    "pycharm": {
     "name": "#%%\n"
    }
   }
  },
  {
   "cell_type": "code",
   "execution_count": 131,
   "outputs": [
    {
     "data": {
      "text/plain": "[('fiber', 0.032929810190857195),\n ('diffusion', 0.031988310329731),\n ('tensor', 0.023774861157086494),\n ('tractography', 0.02289201984294166),\n ('crossing', 0.020034806920963825),\n ('tracts', 0.017929453404837658),\n ('matter', 0.014394004309817222),\n ('white', 0.014394004309817222),\n ('dti', 0.013091680803717212),\n ('uncertainty', 0.013039795921343819)]"
     },
     "execution_count": 131,
     "metadata": {},
     "output_type": "execute_result"
    }
   ],
   "source": [
    "top_n_words[1][:10]"
   ],
   "metadata": {
    "collapsed": false,
    "pycharm": {
     "name": "#%%\n"
    }
   }
  },
  {
   "cell_type": "code",
   "execution_count": null,
   "outputs": [],
   "source": [],
   "metadata": {
    "collapsed": false,
    "pycharm": {
     "name": "#%%\n"
    }
   }
  },
  {
   "cell_type": "code",
   "execution_count": null,
   "outputs": [],
   "source": [],
   "metadata": {
    "collapsed": false,
    "pycharm": {
     "name": "#%%\n"
    }
   }
  },
  {
   "cell_type": "code",
   "execution_count": null,
   "outputs": [],
   "source": [],
   "metadata": {
    "collapsed": false,
    "pycharm": {
     "name": "#%%\n"
    }
   }
  },
  {
   "cell_type": "code",
   "execution_count": null,
   "outputs": [],
   "source": [],
   "metadata": {
    "collapsed": false,
    "pycharm": {
     "name": "#%%\n"
    }
   }
  },
  {
   "cell_type": "code",
   "execution_count": null,
   "outputs": [],
   "source": [],
   "metadata": {
    "collapsed": false,
    "pycharm": {
     "name": "#%%\n"
    }
   }
  },
  {
   "cell_type": "code",
   "execution_count": null,
   "outputs": [],
   "source": [],
   "metadata": {
    "collapsed": false,
    "pycharm": {
     "name": "#%%\n"
    }
   }
  },
  {
   "cell_type": "code",
   "execution_count": null,
   "outputs": [],
   "source": [],
   "metadata": {
    "collapsed": false,
    "pycharm": {
     "name": "#%%\n"
    }
   }
  },
  {
   "cell_type": "code",
   "execution_count": null,
   "outputs": [],
   "source": [],
   "metadata": {
    "collapsed": false,
    "pycharm": {
     "name": "#%%\n"
    }
   }
  },
  {
   "cell_type": "code",
   "execution_count": null,
   "outputs": [],
   "source": [],
   "metadata": {
    "collapsed": false,
    "pycharm": {
     "name": "#%%\n"
    }
   }
  },
  {
   "cell_type": "code",
   "execution_count": null,
   "outputs": [],
   "source": [
    "topic_sizes = extract_topic_sizes(docs_df)\n"
   ],
   "metadata": {
    "collapsed": false,
    "pycharm": {
     "name": "#%%\n"
    }
   }
  },
  {
   "cell_type": "code",
   "execution_count": null,
   "outputs": [],
   "source": [],
   "metadata": {
    "collapsed": false,
    "pycharm": {
     "name": "#%%\n"
    }
   }
  },
  {
   "cell_type": "code",
   "execution_count": null,
   "outputs": [],
   "source": [],
   "metadata": {
    "collapsed": false,
    "pycharm": {
     "name": "#%%\n"
    }
   }
  },
  {
   "cell_type": "code",
   "execution_count": null,
   "outputs": [],
   "source": [],
   "metadata": {
    "collapsed": false,
    "pycharm": {
     "name": "#%%\n"
    }
   }
  },
  {
   "cell_type": "code",
   "execution_count": null,
   "outputs": [],
   "source": [],
   "metadata": {
    "collapsed": false,
    "pycharm": {
     "name": "#%%\n"
    }
   }
  },
  {
   "cell_type": "code",
   "execution_count": null,
   "outputs": [],
   "source": [
    "def c_tf_idf(documents, m, ngram_range=(1, 1)):\n",
    "    count = CountVectorizer(ngram_range=ngram_range, stop_words=\"english\").fit(documents)\n",
    "    t = count.transform(documents).toarray()\n",
    "    w = t.sum(axis=1)\n",
    "    tf = np.divide(t.T, w)\n",
    "    sum_t = t.sum(axis=0)\n",
    "    idf = np.log(np.divide(m, sum_t)).reshape(-1, 1)\n",
    "    tf_idf = np.multiply(tf, idf)\n",
    "\n",
    "    return tf_idf, count"
   ],
   "metadata": {
    "collapsed": false,
    "pycharm": {
     "name": "#%%\n"
    }
   }
  },
  {
   "cell_type": "code",
   "execution_count": null,
   "outputs": [],
   "source": [],
   "metadata": {
    "collapsed": false,
    "pycharm": {
     "name": "#%%\n"
    }
   }
  },
  {
   "cell_type": "code",
   "execution_count": null,
   "outputs": [],
   "source": [
    "def docvec():\n",
    "    docs = fetch_20newsgroups(subset='all', remove=('headers', 'footers', 'quotes'))['data']\n",
    "    docs = docs[0:100]\n",
    "\n",
    "    model = SentenceTransformer('all-MiniLM-L6-v2')\n",
    "    embeddings = model.encode(docs, show_progress_bar=True)\n",
    "    print(embeddings)\n",
    "\n",
    "    umap_embeddings = umap.UMAP(n_neighbors=5,\n",
    "                                n_components=5,\n",
    "                                metric='cosine').fit_transform(embeddings)\n",
    "\n",
    "    cluster = hdbscan.HDBSCAN(min_cluster_size=5,\n",
    "                              metric='euclidean',\n",
    "                              cluster_selection_method='eom').fit(umap_embeddings)\n",
    "    print(cluster)\n",
    "\n",
    "\n",
    "\n",
    "    # Prepare data\n",
    "    umap_data = umap.UMAP(n_neighbors=15, n_components=2, min_dist=0.0, metric='cosine').fit_transform(embeddings)\n",
    "    result = pd.DataFrame(umap_data, columns=['x', 'y'])\n",
    "    result['labels'] = cluster.labels_\n",
    "    print(result['labels'])\n",
    "\n",
    "    # Visualize clusters\n",
    "    fig, ax = plt.subplots(figsize=(20, 10))\n",
    "    outliers = result.loc[result.labels == -1, :]\n",
    "    clustered = result.loc[result.labels != -1, :]\n",
    "    plt.scatter(outliers.x, outliers.y, color='#BDBDBD', s=0.05)\n",
    "    plt.scatter(clustered.x, clustered.y, c=clustered.labels, s=0.05, cmap='hsv_r')\n",
    "    plt.colorbar()\n",
    "\n",
    "    docs_df = pd.DataFrame(docs, columns=[\"Doc\"])\n",
    "    docs_df['Topic'] = cluster.labels_\n",
    "    docs_df['Doc_ID'] = range(len(docs_df))\n",
    "    docs_per_topic = docs_df.groupby(['Topic'], as_index=False).agg({'Doc': ' '.join})\n",
    "    return docs, docs_df, docs_per_topic"
   ],
   "metadata": {
    "collapsed": false,
    "pycharm": {
     "name": "#%%\n"
    }
   }
  },
  {
   "cell_type": "code",
   "execution_count": null,
   "outputs": [],
   "source": [],
   "metadata": {
    "collapsed": false,
    "pycharm": {
     "name": "#%%\n"
    }
   }
  }
 ],
 "metadata": {
  "kernelspec": {
   "display_name": "Python 3",
   "language": "python",
   "name": "python3"
  },
  "language_info": {
   "codemirror_mode": {
    "name": "ipython",
    "version": 2
   },
   "file_extension": ".py",
   "mimetype": "text/x-python",
   "name": "python",
   "nbconvert_exporter": "python",
   "pygments_lexer": "ipython2",
   "version": "2.7.6"
  }
 },
 "nbformat": 4,
 "nbformat_minor": 0
}