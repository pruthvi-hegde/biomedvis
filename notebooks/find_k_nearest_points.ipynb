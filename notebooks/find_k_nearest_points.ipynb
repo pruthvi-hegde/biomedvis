{
 "cells": [
  {
   "cell_type": "code",
   "execution_count": 1,
   "metadata": {
    "collapsed": true
   },
   "outputs": [],
   "source": [
    "# Calculate the Euclidean distance\n",
    "# between two points\n",
    "def distance(x1, y1, x2, y2):\n",
    "    return ((x1 - x2) ** 2 + (y1 - y2) ** 2) ** ( 1 / 2)\n",
    "\n",
    "# Function to calculate K closest points\n",
    "def kClosest(points, target, K):\n",
    "    pts = []\n",
    "    position = []\n",
    "    dist = []\n",
    "    n = len(points)\n",
    "    d = []\n",
    "\n",
    "    for i in range(n):\n",
    "        d.append({\n",
    "            \"first\": distance(points[i][0], points[i][1], target[0], target[1]),\n",
    "            \"second\": i\n",
    "        })\n",
    "\n",
    "    d = sorted(d, key=lambda l:l[\"first\"])\n",
    "\n",
    "    for i in range(K):\n",
    "        pt = []\n",
    "        dist.append(d[i][\"first\"])\n",
    "        position.append(d[i][\"second\"])\n",
    "        pt.append(points[d[i][\"second\"]][0])\n",
    "        pt.append(points[d[i][\"second\"]][1])\n",
    "        pts.append(pt)\n",
    "\n",
    "    return dict(zip(position, dist))\n",
    "\n"
   ]
  },
  {
   "cell_type": "code",
   "execution_count": 139,
   "outputs": [],
   "source": [
    "import json\n",
    "\n",
    "f = open(f'../embeddings/low_dim/all_mpnet_base_v2_low_dim.json')\n",
    "data = json.load(f)\n",
    "articles_title = list(data.keys())\n",
    "corpus_embedding = list(data.values())"
   ],
   "metadata": {
    "collapsed": false,
    "pycharm": {
     "name": "#%%\n"
    }
   }
  },
  {
   "cell_type": "code",
   "execution_count": 140,
   "outputs": [
    {
     "name": "stdout",
     "output_type": "stream",
     "text": [
      "Learning Hand Anatomy with Sense of Embodiment : 0.0\n",
      "Student and Teacher Meet in a Shared Virtual Reality: A one-on-one Tutoring System for Anatomy Education : 0.12114617506076734\n",
      "Challenges and Technologies for Low Cost Wheelchair Simulation : 0.1283316140192501\n",
      "VR Acrophobia Treatment - Development of Customizable Acrophobia Inducing Scenarios : 0.21784545630449748\n",
      "An Endoscope Interface for Immersive Virtual Reality : 0.3116688516876719\n"
     ]
    }
   ],
   "source": [
    "corpus_embedding = corpus_embedding\n",
    "target_title = \"Learning Hand Anatomy with Sense of Embodiment\"\n",
    "target = data[target_title]\n",
    "k = 5\n",
    "closest_points = kClosest(corpus_embedding, target, k)\n",
    "for k in closest_points.keys():\n",
    "    print(f\"{articles_title[k]} : {closest_points[k]}\")\n"
   ],
   "metadata": {
    "collapsed": false,
    "pycharm": {
     "name": "#%%\n"
    }
   }
  },
  {
   "cell_type": "code",
   "execution_count": null,
   "outputs": [],
   "source": [],
   "metadata": {
    "collapsed": false,
    "pycharm": {
     "name": "#%%\n"
    }
   }
  },
  {
   "cell_type": "code",
   "execution_count": 122,
   "outputs": [],
   "source": [],
   "metadata": {
    "collapsed": false,
    "pycharm": {
     "name": "#%%\n"
    }
   }
  },
  {
   "cell_type": "code",
   "execution_count": null,
   "outputs": [],
   "source": [],
   "metadata": {
    "collapsed": false,
    "pycharm": {
     "name": "#%%\n"
    }
   }
  },
  {
   "cell_type": "code",
   "execution_count": null,
   "outputs": [],
   "source": [],
   "metadata": {
    "collapsed": false,
    "pycharm": {
     "name": "#%%\n"
    }
   }
  },
  {
   "cell_type": "code",
   "execution_count": null,
   "outputs": [],
   "source": [],
   "metadata": {
    "collapsed": false,
    "pycharm": {
     "name": "#%%\n"
    }
   }
  },
  {
   "cell_type": "code",
   "execution_count": null,
   "outputs": [],
   "source": [],
   "metadata": {
    "collapsed": false,
    "pycharm": {
     "name": "#%%\n"
    }
   }
  }
 ],
 "metadata": {
  "kernelspec": {
   "display_name": "Python 3",
   "language": "python",
   "name": "python3"
  },
  "language_info": {
   "codemirror_mode": {
    "name": "ipython",
    "version": 2
   },
   "file_extension": ".py",
   "mimetype": "text/x-python",
   "name": "python",
   "nbconvert_exporter": "python",
   "pygments_lexer": "ipython2",
   "version": "2.7.6"
  }
 },
 "nbformat": 4,
 "nbformat_minor": 0
}